{
 "cells": [
  {
   "cell_type": "markdown",
   "id": "75824e74",
   "metadata": {},
   "source": [
    "## Q1. What are the characteristics of the tuples? Is tuple immutable?"
   ]
  },
  {
   "cell_type": "markdown",
   "id": "2d79ff54",
   "metadata": {},
   "source": [
    "Ans: - A tuple in Python is an ordered, immutable, and heterogeneous collection that allows duplicates.\n",
    "       Yes, tuples are immutable, meaning their elements cannot be changed, added, or removed after creation. However, if a tuple contains a mutable element, that element can be modified."
   ]
  },
  {
   "cell_type": "code",
   "execution_count": 16,
   "id": "562597ad",
   "metadata": {},
   "outputs": [
    {
     "data": {
      "text/plain": [
       "([1, 2, 3], [4, 5, 6])"
      ]
     },
     "execution_count": 16,
     "metadata": {},
     "output_type": "execute_result"
    }
   ],
   "source": [
    "t1 = ([1,2,3],[4,5,6])\n",
    "t1"
   ]
  },
  {
   "cell_type": "code",
   "execution_count": 17,
   "id": "de7ec6bb",
   "metadata": {},
   "outputs": [
    {
     "data": {
      "text/plain": [
       "3"
      ]
     },
     "execution_count": 17,
     "metadata": {},
     "output_type": "execute_result"
    }
   ],
   "source": [
    "t1[0].pop()"
   ]
  },
  {
   "cell_type": "code",
   "execution_count": 18,
   "id": "c7999222",
   "metadata": {},
   "outputs": [
    {
     "data": {
      "text/plain": [
       "([1, 2], [4, 5, 6])"
      ]
     },
     "execution_count": 18,
     "metadata": {},
     "output_type": "execute_result"
    }
   ],
   "source": [
    "t1"
   ]
  },
  {
   "cell_type": "markdown",
   "id": "bab5669b",
   "metadata": {},
   "source": [
    "## Q2.What are the two tuple methods in python? Give an example of each method. Give a reason why tuples have only two in-built methods as compared to Lists."
   ]
  },
  {
   "cell_type": "markdown",
   "id": "6da286b9",
   "metadata": {},
   "source": [
    "Ans :- The two tuple methods in python are count(),index() .     "
   ]
  },
  {
   "cell_type": "markdown",
   "id": "b66fdce6",
   "metadata": {},
   "source": [
    "Example:-"
   ]
  },
  {
   "cell_type": "code",
   "execution_count": 20,
   "id": "110002a6",
   "metadata": {},
   "outputs": [
    {
     "data": {
      "text/plain": [
       "3"
      ]
     },
     "execution_count": 20,
     "metadata": {},
     "output_type": "execute_result"
    }
   ],
   "source": [
    "tup1 = (1, 2, 2, 3, 4, 2) # count() method\n",
    "tup1.count(2)"
   ]
  },
  {
   "cell_type": "code",
   "execution_count": 21,
   "id": "0fdd68f0",
   "metadata": {},
   "outputs": [
    {
     "data": {
      "text/plain": [
       "1"
      ]
     },
     "execution_count": 21,
     "metadata": {},
     "output_type": "execute_result"
    }
   ],
   "source": [
    "tup2 = (10, 20, 30, 40, 20) # index() method\n",
    "tup2.index(20)"
   ]
  },
  {
   "cell_type": "markdown",
   "id": "58722ddf",
   "metadata": {},
   "source": [
    "Tuples have only two built-in methods(count() and index()) compared to lists because tuples are immutable.Since tuples cannot be modified after creation, they do not need methods for adding, removing, or sorting elements, which are common in lists. Lists, being mutable, require more methods for modifications like append(), remove(), sort(), etc."
   ]
  },
  {
   "cell_type": "markdown",
   "id": "4c76ff23",
   "metadata": {},
   "source": [
    "## Q3.Which collection datatypes in python do not allow duplicate items? Write a code using a set to remove duplicates from the given list. \n",
    "\n",
    "## List = [1, 1, 1, 2, 1, 3, 1, 4, 2, 1, 2, 2, 2, 3, 2, 4, 3, 1, 3, 2, 3, 3, 3, 4, 4, 1, 4, 2, 4, 3, 4, 4]"
   ]
  },
  {
   "cell_type": "markdown",
   "id": "4c4d5858",
   "metadata": {},
   "source": [
    "Ans: The Collection datatypes in python which does not allow duplicates values are Set() and dictionary key().\n"
   ]
  },
  {
   "cell_type": "code",
   "execution_count": 23,
   "id": "13296b3c",
   "metadata": {},
   "outputs": [
    {
     "data": {
      "text/plain": [
       "[1, 2, 3, 4]"
      ]
     },
     "execution_count": 23,
     "metadata": {},
     "output_type": "execute_result"
    }
   ],
   "source": [
    "List = [1, 1, 1, 2, 1, 3, 1, 4, 2, 1, 2, 2, 2, 3, 2, 4, 3, 1, 3, 2, 3, 3, 3, 4, 4, 1, 4, 2, 4, 3, 4, 4]\n",
    "list(set(List))"
   ]
  },
  {
   "cell_type": "markdown",
   "id": "023551a2",
   "metadata": {},
   "source": [
    "## Q4. Explain the difference between the union() and update() methods for a set. Give an example of each method."
   ]
  },
  {
   "cell_type": "markdown",
   "id": "5badd681",
   "metadata": {},
   "source": [
    "Ans:- The difference between union() and update() in Sets is union() returns a new set containing all unique elements from both sets, without modifying the original set. update() adds all unique elements from another set to the original set, modifying it in place."
   ]
  },
  {
   "cell_type": "code",
   "execution_count": 29,
   "id": "8d372518",
   "metadata": {},
   "outputs": [
    {
     "name": "stdout",
     "output_type": "stream",
     "text": [
      "{1, 2, 3, 4, 5}\n"
     ]
    }
   ],
   "source": [
    "set1 = {1, 2, 3}\n",
    "set2 = {3, 4, 5}\n",
    "\n",
    "new_set = set1.union(set2)\n",
    "print(new_set) "
   ]
  },
  {
   "cell_type": "code",
   "execution_count": 30,
   "id": "29fb0005",
   "metadata": {},
   "outputs": [
    {
     "name": "stdout",
     "output_type": "stream",
     "text": [
      "{1, 2, 3, 4, 5}\n"
     ]
    }
   ],
   "source": [
    "set1 = {1, 2, 3}\n",
    "set2 = {3, 4, 5}\n",
    "\n",
    "set1.update(set2)\n",
    "print(set1) \n"
   ]
  },
  {
   "cell_type": "markdown",
   "id": "2a12777a",
   "metadata": {},
   "source": [
    "## Q5. What is a dictionary? Give an example. Also, state whether a dictionary is ordered or unordered."
   ]
  },
  {
   "cell_type": "markdown",
   "id": "9f7238d3",
   "metadata": {},
   "source": [
    "Ans: A dictionary is a collection of key-value pairs where each key is unique and maps to a specific value. It is used for fast lookups and organizing data efficiently."
   ]
  },
  {
   "cell_type": "code",
   "execution_count": 32,
   "id": "4f1f1bc5",
   "metadata": {},
   "outputs": [
    {
     "data": {
      "text/plain": [
       "{'name': 'Alice', 'age': 22, 'course': 'Data Science'}"
      ]
     },
     "execution_count": 32,
     "metadata": {},
     "output_type": "execute_result"
    }
   ],
   "source": [
    "student = {\n",
    "    \"name\": \"Alice\",\n",
    "    \"age\": 22,\n",
    "    \"course\": \"Data Science\"\n",
    "}\n",
    "\n",
    "student\n"
   ]
  },
  {
   "cell_type": "markdown",
   "id": "fe08e77b",
   "metadata": {},
   "source": [
    "So dictionaries retain the order of elements as inserted. "
   ]
  },
  {
   "cell_type": "markdown",
   "id": "66de1af4",
   "metadata": {},
   "source": [
    "## Q6. Can we create a nested dictionary? If so, please give an example by creating a simple one-level nested dictionary."
   ]
  },
  {
   "cell_type": "markdown",
   "id": "c64d757f",
   "metadata": {},
   "source": [
    "Ans: Yes, we can create a nested dictionary in Python, where a dictionary contains another dictionary as a value.\n",
    "Example: "
   ]
  },
  {
   "cell_type": "code",
   "execution_count": 34,
   "id": "a463e7b3",
   "metadata": {},
   "outputs": [
    {
     "data": {
      "text/plain": [
       "{'name': 'Alice',\n",
       " 'age': 22,\n",
       " 'subjects': {'math': 85, 'science': 90, 'english': 88}}"
      ]
     },
     "execution_count": 34,
     "metadata": {},
     "output_type": "execute_result"
    }
   ],
   "source": [
    "student = {\n",
    "    \"name\": \"Alice\",\n",
    "    \"age\": 22,\n",
    "    \"subjects\": {\n",
    "        \"math\": 85,\n",
    "        \"science\": 90,\n",
    "        \"english\": 88\n",
    "    }\n",
    "}\n",
    "\n",
    "student"
   ]
  },
  {
   "cell_type": "code",
   "execution_count": 35,
   "id": "113a37cd",
   "metadata": {},
   "outputs": [
    {
     "data": {
      "text/plain": [
       "{'math': 85, 'science': 90, 'english': 88}"
      ]
     },
     "execution_count": 35,
     "metadata": {},
     "output_type": "execute_result"
    }
   ],
   "source": [
    "student[\"subjects\"]"
   ]
  },
  {
   "cell_type": "markdown",
   "id": "be9b5105",
   "metadata": {},
   "source": [
    "## Q7. Using setdefault() method, create key named topics in the given dictionary and also add the value of the key as this list ['Python', 'Machine Learning’, 'Deep Learning'] "
   ]
  },
  {
   "cell_type": "markdown",
   "id": "80dd83ca",
   "metadata": {},
   "source": [
    "Ans: The setdefault() method is used to add a key with a specified value to a dictionary if the key does not already exist. If the key already exists, it returns the current value of that key."
   ]
  },
  {
   "cell_type": "code",
   "execution_count": 36,
   "id": "2d09ccfa",
   "metadata": {},
   "outputs": [
    {
     "data": {
      "text/plain": [
       "{'name': 'Alice',\n",
       " 'age': 22,\n",
       " 'topics': ['Python', 'Machine Learning', 'Deep Learning']}"
      ]
     },
     "execution_count": 36,
     "metadata": {},
     "output_type": "execute_result"
    }
   ],
   "source": [
    "student_info = {\n",
    "    \"name\": \"Alice\",\n",
    "    \"age\": 22\n",
    "}\n",
    "\n",
    "student_info.setdefault(\"topics\", ['Python', 'Machine Learning', 'Deep Learning'])\n",
    "\n",
    "student_info"
   ]
  },
  {
   "cell_type": "markdown",
   "id": "176427ef",
   "metadata": {},
   "source": [
    "## Q8. What are the three view objects in dictionaries? Use the three in-built methods in python to display these three view objects for the given dictionary.\n",
    "\n",
    "## dict1 = {'Sport': 'Cricket' , 'Teams': ['India', 'Australia', 'England', 'South Africa', 'Sri Lanka', 'New Zealand']}"
   ]
  },
  {
   "cell_type": "markdown",
   "id": "da511f6a",
   "metadata": {},
   "source": [
    "Ans: In dictionaries it have three view objects that provide a view on the dictionary's contents:\n",
    "\n",
    "    1. keys(): Returns a view object that displays a list of all the keys in the dictionary.\n",
    "    2. values(): Returns a view object that displays a list of all the values in the dictionary.\n",
    "    3. items(): Returns a view object that displays a list of all key-value pairs (tuples) in the dictionary."
   ]
  },
  {
   "cell_type": "code",
   "execution_count": 39,
   "id": "7a043e5b",
   "metadata": {},
   "outputs": [
    {
     "name": "stdout",
     "output_type": "stream",
     "text": [
      "Keys: dict_keys(['Sport', 'Teams'])\n",
      "Values: dict_values(['Cricket', ['India', 'Australia', 'England', 'South Africa', 'Sri Lanka', 'New Zealand']])\n",
      "Items: dict_items([('Sport', 'Cricket'), ('Teams', ['India', 'Australia', 'England', 'South Africa', 'Sri Lanka', 'New Zealand'])])\n"
     ]
    }
   ],
   "source": [
    "dict1 = {'Sport': 'Cricket', 'Teams': ['India', 'Australia', 'England', 'South Africa', 'Sri Lanka', 'New Zealand']}\n",
    "\n",
    "keys_view = dict1.keys()     \n",
    "values_view = dict1.values() \n",
    "items_view = dict1.items() \n"
   ]
  },
  {
   "cell_type": "code",
   "execution_count": 40,
   "id": "c92919a8",
   "metadata": {},
   "outputs": [
    {
     "name": "stdout",
     "output_type": "stream",
     "text": [
      "Keys: dict_keys(['Sport', 'Teams'])\n"
     ]
    }
   ],
   "source": [
    "print(\"Keys:\", keys_view)   "
   ]
  },
  {
   "cell_type": "code",
   "execution_count": 41,
   "id": "767bb1ea",
   "metadata": {},
   "outputs": [
    {
     "name": "stdout",
     "output_type": "stream",
     "text": [
      "Values: dict_values(['Cricket', ['India', 'Australia', 'England', 'South Africa', 'Sri Lanka', 'New Zealand']])\n"
     ]
    }
   ],
   "source": [
    "print(\"Values:\", values_view)  "
   ]
  },
  {
   "cell_type": "code",
   "execution_count": 42,
   "id": "aef3cf04",
   "metadata": {},
   "outputs": [
    {
     "name": "stdout",
     "output_type": "stream",
     "text": [
      "Items: dict_items([('Sport', 'Cricket'), ('Teams', ['India', 'Australia', 'England', 'South Africa', 'Sri Lanka', 'New Zealand'])])\n"
     ]
    }
   ],
   "source": [
    "print(\"Items:\", items_view)  "
   ]
  },
  {
   "cell_type": "code",
   "execution_count": null,
   "id": "7f65b722",
   "metadata": {},
   "outputs": [],
   "source": []
  }
 ],
 "metadata": {
  "kernelspec": {
   "display_name": "Python 3 (ipykernel)",
   "language": "python",
   "name": "python3"
  },
  "language_info": {
   "codemirror_mode": {
    "name": "ipython",
    "version": 3
   },
   "file_extension": ".py",
   "mimetype": "text/x-python",
   "name": "python",
   "nbconvert_exporter": "python",
   "pygments_lexer": "ipython3",
   "version": "3.10.10"
  }
 },
 "nbformat": 4,
 "nbformat_minor": 5
}
