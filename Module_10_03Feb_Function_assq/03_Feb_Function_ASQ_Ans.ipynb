{
  "nbformat": 4,
  "nbformat_minor": 0,
  "metadata": {
    "colab": {
      "provenance": []
    },
    "kernelspec": {
      "name": "python3",
      "display_name": "Python 3"
    },
    "language_info": {
      "name": "python"
    }
  },
  "cells": [
    {
      "cell_type": "markdown",
      "source": [
        "# Q1. Which keyword is used to create a function?\n",
        "\n",
        "## Answer:\n",
        "## The keyword used to create a function in Python is `def`.\n",
        "\n",
        "### Function to return a list of odd numbers in the range of 1 to 25"
      ],
      "metadata": {
        "id": "43hwJ-lr3Yj6"
      }
    },
    {
      "cell_type": "code",
      "source": [
        "def get_odd_numbers():\n",
        "    return [num for num in range(1, 26) if num % 2 != 0]\n",
        "\n",
        "# Calling the function\n",
        "odd_numbers = get_odd_numbers()\n",
        "odd_numbers\n"
      ],
      "metadata": {
        "colab": {
          "base_uri": "https://localhost:8080/"
        },
        "id": "X0-BnqcY38R1",
        "outputId": "23e2516d-0700-4ce9-b5b0-84734c3783b7"
      },
      "execution_count": 1,
      "outputs": [
        {
          "output_type": "execute_result",
          "data": {
            "text/plain": [
              "[1, 3, 5, 7, 9, 11, 13, 15, 17, 19, 21, 23, 25]"
            ]
          },
          "metadata": {},
          "execution_count": 1
        }
      ]
    },
    {
      "cell_type": "markdown",
      "source": [],
      "metadata": {
        "id": "D-zWIHXg4Hz8"
      }
    },
    {
      "cell_type": "markdown",
      "source": [
        "# Q2. Why *args and **kwargs is used in some functions?\n",
        "\n",
        "## Answer:\n",
        "## `*args` allows a function to accept any number of positional arguments, while `**kwargs` allows a function to accept any number of keyword arguments.\n",
        "\n",
        "# Function demonstrating *args"
      ],
      "metadata": {
        "id": "HjmxwR3b4Lig"
      }
    },
    {
      "cell_type": "code",
      "source": [],
      "metadata": {
        "id": "mjYVdLLL4cC-"
      },
      "execution_count": null,
      "outputs": []
    },
    {
      "cell_type": "code",
      "source": [
        "def sum_numbers(*args):\n",
        "    return sum(args)\n",
        "\n",
        "# Example call\n",
        "sum_result = sum_numbers(1, 2, 3, 4, 5)\n",
        "sum_result"
      ],
      "metadata": {
        "colab": {
          "base_uri": "https://localhost:8080/"
        },
        "id": "6xeimTt_4l2B",
        "outputId": "86c961dd-56e8-4db4-b08f-ea94ccc1c845"
      },
      "execution_count": 2,
      "outputs": [
        {
          "output_type": "execute_result",
          "data": {
            "text/plain": [
              "15"
            ]
          },
          "metadata": {},
          "execution_count": 2
        }
      ]
    },
    {
      "cell_type": "code",
      "source": [],
      "metadata": {
        "id": "fNpbNAl24pSA"
      },
      "execution_count": null,
      "outputs": []
    },
    {
      "cell_type": "markdown",
      "source": [
        "# Function demonstrating **kwargs"
      ],
      "metadata": {
        "id": "FSbpRHP74wGO"
      }
    },
    {
      "cell_type": "code",
      "source": [],
      "metadata": {
        "id": "YO3qdetM4zkJ"
      },
      "execution_count": null,
      "outputs": []
    },
    {
      "cell_type": "code",
      "source": [
        "def print_details(**kwargs):\n",
        "    return kwargs\n",
        "\n",
        "# Example call\n",
        "details = print_details(name=\"Alice\", age=25, city=\"New York\")\n",
        "details\n"
      ],
      "metadata": {
        "colab": {
          "base_uri": "https://localhost:8080/"
        },
        "id": "XnYCqM2G40mB",
        "outputId": "8800f4a0-c77d-4203-a7b4-933a3a2ebd26"
      },
      "execution_count": 3,
      "outputs": [
        {
          "output_type": "execute_result",
          "data": {
            "text/plain": [
              "{'name': 'Alice', 'age': 25, 'city': 'New York'}"
            ]
          },
          "metadata": {},
          "execution_count": 3
        }
      ]
    },
    {
      "cell_type": "code",
      "source": [],
      "metadata": {
        "id": "4YSOPg4v43G6"
      },
      "execution_count": null,
      "outputs": []
    },
    {
      "cell_type": "markdown",
      "source": [
        "# Q3. What is an iterator in python? Name the method used to initialise the iterator object and the method used for iteration.\n",
        "\n",
        "## Answer:\n",
        "## An iterator in Python is an object that contains a countable number of values and can be iterated upon. The method used to initialize an iterator object is `iter()`, and the method used for iteration is `next()`.\n",
        "\n",
        "# Using these methods to print the first five elements of the given list"
      ],
      "metadata": {
        "id": "42t7xS9o47gl"
      }
    },
    {
      "cell_type": "code",
      "source": [],
      "metadata": {
        "id": "fOeouyXk5Dbq"
      },
      "execution_count": null,
      "outputs": []
    },
    {
      "cell_type": "code",
      "source": [
        "given_list = [2, 4, 6, 8, 10, 12, 14, 16, 18, 20]\n",
        "iterator = iter(given_list)\n",
        "first_five_elements = [next(iterator) for _ in range(5)]\n",
        "first_five_elements\n"
      ],
      "metadata": {
        "colab": {
          "base_uri": "https://localhost:8080/"
        },
        "id": "Rte26X6V5EiU",
        "outputId": "84bc5436-d9f2-4a7c-f8a3-508785802b2a"
      },
      "execution_count": 4,
      "outputs": [
        {
          "output_type": "execute_result",
          "data": {
            "text/plain": [
              "[2, 4, 6, 8, 10]"
            ]
          },
          "metadata": {},
          "execution_count": 4
        }
      ]
    },
    {
      "cell_type": "code",
      "source": [],
      "metadata": {
        "id": "Gn-mX7YG5LqN"
      },
      "execution_count": null,
      "outputs": []
    },
    {
      "cell_type": "markdown",
      "source": [
        "# Q4. What is a generator function in python? Why yield keyword is used? Give an example of a generator function.\n",
        "\n",
        "## Answer:\n",
        "## A generator function in Python is a function that returns an iterator and is defined using the `yield` keyword instead of `return`. The `yield` keyword is used to produce a sequence of values lazily, allowing iteration to occur one value at a time without storing the entire sequence in memory.\n",
        "\n",
        "# Example of a generator function"
      ],
      "metadata": {
        "id": "6Cfh_Ers5MvB"
      }
    },
    {
      "cell_type": "code",
      "source": [],
      "metadata": {
        "id": "EE9uhE-R5YKo"
      },
      "execution_count": null,
      "outputs": []
    },
    {
      "cell_type": "code",
      "source": [
        "def generate_even_numbers(n):\n",
        "    for num in range(2, n + 1, 2):\n",
        "        yield num\n",
        "\n",
        "# Calling the generator function\n",
        "even_numbers = list(generate_even_numbers(10))\n",
        "even_numbers"
      ],
      "metadata": {
        "colab": {
          "base_uri": "https://localhost:8080/"
        },
        "id": "9Dr7thAo5bhn",
        "outputId": "73a2c39c-3957-4ea2-9ae7-09afdeb472f8"
      },
      "execution_count": 5,
      "outputs": [
        {
          "output_type": "execute_result",
          "data": {
            "text/plain": [
              "[2, 4, 6, 8, 10]"
            ]
          },
          "metadata": {},
          "execution_count": 5
        }
      ]
    },
    {
      "cell_type": "code",
      "source": [],
      "metadata": {
        "id": "cFT-5a4r5b-l"
      },
      "execution_count": null,
      "outputs": []
    },
    {
      "cell_type": "markdown",
      "source": [
        "# Q5. Create a generator function for prime numbers less than 1000. Use the next() method to print the first 20 prime numbers.\n",
        "\n",
        "## Answer:\n",
        "## A generator function for prime numbers can yield prime numbers one by one without storing them in memory.\n",
        "\n",
        "# Generator function for prime numbers"
      ],
      "metadata": {
        "id": "Ibyf2zlr5k-Y"
      }
    },
    {
      "cell_type": "code",
      "source": [
        "def generate_primes(limit):\n",
        "    primes = []\n",
        "    for num in range(2, limit):\n",
        "        if all(num % prime != 0 for prime in primes):\n",
        "            primes.append(num)\n",
        "            yield num"
      ],
      "metadata": {
        "id": "spVAlKPK6VgY"
      },
      "execution_count": 10,
      "outputs": []
    },
    {
      "cell_type": "markdown",
      "source": [
        "# Calling the generator function and printing the first 20 prime numbers"
      ],
      "metadata": {
        "id": "N0gVlILn6xy7"
      }
    },
    {
      "cell_type": "code",
      "source": [],
      "metadata": {
        "id": "Jy7Nx-X96yZr"
      },
      "execution_count": null,
      "outputs": []
    },
    {
      "cell_type": "code",
      "source": [
        "prime_generator = generate_primes(1000)\n",
        "first_20_primes = [next(prime_generator) for _ in range(20)]\n",
        "first_20_primes"
      ],
      "metadata": {
        "colab": {
          "base_uri": "https://localhost:8080/"
        },
        "id": "ps2MIdW76zEk",
        "outputId": "8fb579e7-ccef-45fa-b3b9-19e0445198e2"
      },
      "execution_count": 8,
      "outputs": [
        {
          "output_type": "execute_result",
          "data": {
            "text/plain": [
              "[2, 3, 5, 7, 11, 13, 17, 19, 23, 29, 31, 37, 41, 43, 47, 53, 59, 61, 67, 71]"
            ]
          },
          "metadata": {},
          "execution_count": 8
        }
      ]
    },
    {
      "cell_type": "code",
      "source": [],
      "metadata": {
        "id": "0xKXbGec62xo"
      },
      "execution_count": null,
      "outputs": []
    }
  ]
}