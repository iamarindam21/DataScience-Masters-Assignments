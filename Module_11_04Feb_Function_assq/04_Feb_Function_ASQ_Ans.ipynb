{
  "nbformat": 4,
  "nbformat_minor": 0,
  "metadata": {
    "colab": {
      "provenance": []
    },
    "kernelspec": {
      "name": "python3",
      "display_name": "Python 3"
    },
    "language_info": {
      "name": "python"
    }
  },
  "cells": [
    {
      "cell_type": "code",
      "execution_count": null,
      "metadata": {
        "id": "uPG6_kDr8YfM"
      },
      "outputs": [],
      "source": []
    },
    {
      "cell_type": "markdown",
      "source": [
        "# Q1. Create a python program to sort the given list of tuples based on integer value using a lambda function.\n",
        "\n",
        "## Answer:\n",
        "## The `sorted()` function with a lambda function can be used to sort the list of tuples based on integer values.\n",
        "\n",
        "# Given list"
      ],
      "metadata": {
        "id": "aGZhuiz-88rd"
      }
    },
    {
      "cell_type": "code",
      "source": [],
      "metadata": {
        "id": "81-tyzM589HO"
      },
      "execution_count": null,
      "outputs": []
    },
    {
      "cell_type": "code",
      "source": [
        "\n",
        "tuple_list = [('Sachin Tendulkar', 34357), ('Ricky Ponting', 27483), ('Jack Kallis', 25534), ('Virat Kohli', 24936)]"
      ],
      "metadata": {
        "id": "iZStfuf68_LZ"
      },
      "execution_count": null,
      "outputs": []
    },
    {
      "cell_type": "code",
      "source": [],
      "metadata": {
        "id": "OpJN8kBb9CXM"
      },
      "execution_count": null,
      "outputs": []
    },
    {
      "cell_type": "markdown",
      "source": [
        "# Sorting using lambda"
      ],
      "metadata": {
        "id": "bXQBDWjb9EVV"
      }
    },
    {
      "cell_type": "code",
      "source": [
        "sorted_tuples = sorted(tuple_list, key=lambda x: x[1], reverse=True)\n",
        "sorted_tuples"
      ],
      "metadata": {
        "colab": {
          "base_uri": "https://localhost:8080/"
        },
        "id": "QxJOVZkO9GkP",
        "outputId": "273c04fe-d833-4b75-87c8-8ca95b7468fb"
      },
      "execution_count": null,
      "outputs": [
        {
          "output_type": "execute_result",
          "data": {
            "text/plain": [
              "[('Sachin Tendulkar', 34357),\n",
              " ('Ricky Ponting', 27483),\n",
              " ('Jack Kallis', 25534),\n",
              " ('Virat Kohli', 24936)]"
            ]
          },
          "metadata": {},
          "execution_count": 2
        }
      ]
    },
    {
      "cell_type": "code",
      "source": [],
      "metadata": {
        "id": "nYxenfdH9KSC"
      },
      "execution_count": null,
      "outputs": []
    },
    {
      "cell_type": "markdown",
      "source": [
        "# Q2. Write a Python Program to find the squares of all the numbers in the given list of integers using lambda and map functions.\n",
        "\n",
        "## Answer:\n",
        "## The `map()` function with a lambda function can be used to compute squares of all numbers in the list.\n",
        "\n",
        "# Given list"
      ],
      "metadata": {
        "id": "war9QO8l9Qjl"
      }
    },
    {
      "cell_type": "code",
      "source": [
        "num_list = [1, 2, 3, 4, 5, 6, 7, 8, 9, 10]"
      ],
      "metadata": {
        "id": "dGH91X2V9U5r"
      },
      "execution_count": null,
      "outputs": []
    },
    {
      "cell_type": "code",
      "source": [],
      "metadata": {
        "id": "-Hh_dXgU9Q0c"
      },
      "execution_count": null,
      "outputs": []
    },
    {
      "cell_type": "markdown",
      "source": [
        "# Squaring using map and lambda"
      ],
      "metadata": {
        "id": "rKPnucm59Xns"
      }
    },
    {
      "cell_type": "code",
      "source": [
        "squared_numbers = list(map(lambda x: x ** 2, num_list))\n",
        "squared_numbers"
      ],
      "metadata": {
        "colab": {
          "base_uri": "https://localhost:8080/"
        },
        "id": "or-fHpg_9aZf",
        "outputId": "67c29d63-edcd-424d-d5c4-677564014680"
      },
      "execution_count": null,
      "outputs": [
        {
          "output_type": "execute_result",
          "data": {
            "text/plain": [
              "[1, 4, 9, 16, 25, 36, 49, 64, 81, 100]"
            ]
          },
          "metadata": {},
          "execution_count": 4
        }
      ]
    },
    {
      "cell_type": "markdown",
      "source": [
        "# Q3. Write a python program to convert the given list of integers into a tuple of strings. Use map and lambda functions.\n",
        "\n",
        "## Answer:\n",
        "## The `map()` function with a lambda function can be used to convert integers to strings.\n",
        "\n",
        "## Given list"
      ],
      "metadata": {
        "id": "SPkDm2UZAWiF"
      }
    },
    {
      "cell_type": "code",
      "source": [
        "int_list = [1, 2, 3, 4, 5, 6, 7, 8, 9, 10]"
      ],
      "metadata": {
        "id": "nXUOTPPe9xOH"
      },
      "execution_count": null,
      "outputs": []
    },
    {
      "cell_type": "markdown",
      "source": [
        "# Converting to tuple of strings"
      ],
      "metadata": {
        "id": "Kbv6gBGl9672"
      }
    },
    {
      "cell_type": "code",
      "source": [],
      "metadata": {
        "id": "h_S15S8q93NX"
      },
      "execution_count": null,
      "outputs": []
    },
    {
      "cell_type": "code",
      "source": [
        "string_tuple = tuple(map(lambda x: str(x), int_list))\n",
        "string_tuple"
      ],
      "metadata": {
        "colab": {
          "base_uri": "https://localhost:8080/"
        },
        "id": "YK2aoTL598Bs",
        "outputId": "8d57ea37-abdd-4a3f-bb1b-ee6075392504"
      },
      "execution_count": null,
      "outputs": [
        {
          "output_type": "execute_result",
          "data": {
            "text/plain": [
              "('1', '2', '3', '4', '5', '6', '7', '8', '9', '10')"
            ]
          },
          "metadata": {},
          "execution_count": 8
        }
      ]
    },
    {
      "cell_type": "markdown",
      "source": [
        "# Q4. Write a python program using reduce function to compute the product of a list containing numbers from 1 to 25.\n",
        "\n",
        "## Answer:\n",
        "## The `reduce()` function from `functools` module can be used to compute the product."
      ],
      "metadata": {
        "id": "oMWzscOZ9_GU"
      }
    },
    {
      "cell_type": "code",
      "source": [
        "from functools import reduce"
      ],
      "metadata": {
        "id": "HxVQtGml-LI8"
      },
      "execution_count": null,
      "outputs": []
    },
    {
      "cell_type": "code",
      "source": [],
      "metadata": {
        "id": "hJzGYg9z-Nhh"
      },
      "execution_count": null,
      "outputs": []
    },
    {
      "cell_type": "markdown",
      "source": [
        "# Given range"
      ],
      "metadata": {
        "id": "OQXtRUZI-OS0"
      }
    },
    {
      "cell_type": "code",
      "source": [],
      "metadata": {
        "id": "XNsrZzEJ-QiA"
      },
      "execution_count": null,
      "outputs": []
    },
    {
      "cell_type": "code",
      "source": [
        "num_range = list(range(1, 26))"
      ],
      "metadata": {
        "id": "Tn28Zk48-TR9"
      },
      "execution_count": null,
      "outputs": []
    },
    {
      "cell_type": "markdown",
      "source": [
        "# Computing product"
      ],
      "metadata": {
        "id": "gRrEcAXz-Wam"
      }
    },
    {
      "cell_type": "code",
      "source": [
        "product_result = reduce(lambda x, y: x * y, num_range)\n",
        "product_result"
      ],
      "metadata": {
        "colab": {
          "base_uri": "https://localhost:8080/"
        },
        "id": "DL50-ACf-dLE",
        "outputId": "9e5cd003-150d-4c38-d270-aef24fddb0a4"
      },
      "execution_count": null,
      "outputs": [
        {
          "output_type": "execute_result",
          "data": {
            "text/plain": [
              "15511210043330985984000000"
            ]
          },
          "metadata": {},
          "execution_count": 11
        }
      ]
    },
    {
      "cell_type": "code",
      "source": [],
      "metadata": {
        "id": "AfWuauWa-eyU"
      },
      "execution_count": null,
      "outputs": []
    },
    {
      "cell_type": "markdown",
      "source": [
        "# Q5. Write a python program to filter the numbers in a given list that are divisible by 2 and 3 using the filter function.\n",
        "\n",
        "## Answer:\n",
        "## The `filter()` function with a lambda function can be used to filter numbers divisible by 2 and 3.\n",
        "\n",
        "# Given list"
      ],
      "metadata": {
        "id": "sliz9zuC-iS6"
      }
    },
    {
      "cell_type": "code",
      "source": [],
      "metadata": {
        "id": "98Q0cmQY-iqS"
      },
      "execution_count": null,
      "outputs": []
    },
    {
      "cell_type": "code",
      "source": [
        "num_list = [2, 3, 6, 9, 27, 60, 90, 120, 55, 46]"
      ],
      "metadata": {
        "id": "dYwuH5UT-oA1"
      },
      "execution_count": null,
      "outputs": []
    },
    {
      "cell_type": "markdown",
      "source": [],
      "metadata": {
        "id": "scwz-bVt-o_d"
      }
    },
    {
      "cell_type": "code",
      "source": [],
      "metadata": {
        "id": "D2Hvz7vA-qtN"
      },
      "execution_count": null,
      "outputs": []
    },
    {
      "cell_type": "markdown",
      "source": [
        "# Filtering numbers"
      ],
      "metadata": {
        "id": "qMtTCwDr-unF"
      }
    },
    {
      "cell_type": "code",
      "source": [
        "divisible_numbers = list(filter(lambda x: x % 2 == 0 and x % 3 == 0, num_list))\n",
        "divisible_numbers"
      ],
      "metadata": {
        "colab": {
          "base_uri": "https://localhost:8080/"
        },
        "id": "Y5UtJ44c-zZc",
        "outputId": "e4919d7b-b55b-496e-df68-73865276906b"
      },
      "execution_count": null,
      "outputs": [
        {
          "output_type": "execute_result",
          "data": {
            "text/plain": [
              "[6, 60, 90, 120]"
            ]
          },
          "metadata": {},
          "execution_count": 14
        }
      ]
    },
    {
      "cell_type": "code",
      "source": [],
      "metadata": {
        "id": "TEGH-qOX-vF4"
      },
      "execution_count": null,
      "outputs": []
    },
    {
      "cell_type": "markdown",
      "source": [
        "# Q6. Write a python program to find palindromes in the given list of strings using lambda and filter function.\n",
        "\n",
        "## Answer:\n",
        "## The `filter()` function with a lambda function can be used to find palindromes in the list.\n",
        "##Given List"
      ],
      "metadata": {
        "id": "9KKUhHam-3xn"
      }
    },
    {
      "cell_type": "code",
      "source": [
        "string_list = ['python', 'php', 'aba', 'radar', 'level']"
      ],
      "metadata": {
        "id": "vMeCu8HJ-690"
      },
      "execution_count": null,
      "outputs": []
    },
    {
      "cell_type": "markdown",
      "source": [
        "# Filtering palindromes"
      ],
      "metadata": {
        "id": "ChIt_CVP_EoD"
      }
    },
    {
      "cell_type": "code",
      "source": [
        "palindromes = list(filter(lambda x: x == x[::-1], string_list))\n",
        "palindromes"
      ],
      "metadata": {
        "colab": {
          "base_uri": "https://localhost:8080/"
        },
        "id": "QGcwLzHI_Hts",
        "outputId": "6d29002b-8e81-4514-bf02-d7aee8c2e63c"
      },
      "execution_count": null,
      "outputs": [
        {
          "output_type": "execute_result",
          "data": {
            "text/plain": [
              "['php', 'aba', 'radar', 'level']"
            ]
          },
          "metadata": {},
          "execution_count": 16
        }
      ]
    },
    {
      "cell_type": "code",
      "source": [],
      "metadata": {
        "id": "KUSW-zWl_GvS"
      },
      "execution_count": null,
      "outputs": []
    }
  ]
}