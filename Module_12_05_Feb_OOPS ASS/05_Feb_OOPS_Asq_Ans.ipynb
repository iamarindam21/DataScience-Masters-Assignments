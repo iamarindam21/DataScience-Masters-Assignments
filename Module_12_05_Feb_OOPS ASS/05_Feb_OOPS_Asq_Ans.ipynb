{
  "nbformat": 4,
  "nbformat_minor": 0,
  "metadata": {
    "colab": {
      "provenance": []
    },
    "kernelspec": {
      "name": "python3",
      "display_name": "Python 3"
    },
    "language_info": {
      "name": "python"
    }
  },
  "cells": [
    {
      "cell_type": "code",
      "execution_count": null,
      "metadata": {
        "id": "xZKqNBxJBQni"
      },
      "outputs": [],
      "source": []
    },
    {
      "cell_type": "markdown",
      "source": [
        "# Q1. Explain Class and Object with respect to Object-Oriented Programming. Give a suitable example.\n",
        "\n",
        "## Answer:\n",
        "## A class is a blueprint for creating objects, while an object is an instance of a class.\n",
        "\n",
        "# Example"
      ],
      "metadata": {
        "id": "4BYBMiqTBYGD"
      }
    },
    {
      "cell_type": "code",
      "source": [],
      "metadata": {
        "id": "rMUZUqz5Bp7k"
      },
      "execution_count": null,
      "outputs": []
    },
    {
      "cell_type": "code",
      "source": [
        "class Car:\n",
        "    def __init__(self, brand, model):\n",
        "        self.brand = brand\n",
        "        self.model = model\n",
        "\n",
        "    def display(self):\n",
        "        return f\"Car: {self.brand} {self.model}\""
      ],
      "metadata": {
        "id": "_0rmkEQqBqu4"
      },
      "execution_count": 1,
      "outputs": []
    },
    {
      "cell_type": "code",
      "source": [],
      "metadata": {
        "id": "3rCjQkLnBuYr"
      },
      "execution_count": null,
      "outputs": []
    },
    {
      "cell_type": "markdown",
      "source": [
        "# Creating an object"
      ],
      "metadata": {
        "id": "7myat4aYByDd"
      }
    },
    {
      "cell_type": "code",
      "source": [],
      "metadata": {
        "id": "1BnUZ_knByYH"
      },
      "execution_count": null,
      "outputs": []
    },
    {
      "cell_type": "code",
      "source": [
        "car1 = Car(\"Toyota\", \"Corolla\")\n",
        "car1.display()"
      ],
      "metadata": {
        "colab": {
          "base_uri": "https://localhost:8080/",
          "height": 36
        },
        "id": "MW9RdSB4B0xs",
        "outputId": "fa81d53f-30e3-493a-ee42-ed9a6b44cb21"
      },
      "execution_count": 2,
      "outputs": [
        {
          "output_type": "execute_result",
          "data": {
            "text/plain": [
              "'Car: Toyota Corolla'"
            ],
            "application/vnd.google.colaboratory.intrinsic+json": {
              "type": "string"
            }
          },
          "metadata": {},
          "execution_count": 2
        }
      ]
    },
    {
      "cell_type": "code",
      "source": [],
      "metadata": {
        "id": "nvVziQhKB2x2"
      },
      "execution_count": null,
      "outputs": []
    },
    {
      "cell_type": "markdown",
      "source": [
        "# Q2. Name the four pillars of OOPs.\n",
        "\n",
        "## Answer:\n",
        "## The four pillars of Object-Oriented Programming (OOPs) are:\n",
        "## 1. Encapsulation\n",
        "## 2. Inheritance\n",
        "## 3. Polymorphism\n",
        "## 4. Abstraction\n",
        "\n",
        "\n",
        "\n",
        "\n",
        "\n",
        "# Q3. Explain why the __init__() function is used. Give a suitable example.\n",
        "\n",
        "## Answer:\n",
        "## The `__init__()` function is used to initialize the attributes of a class when an object is created.\n",
        "\n",
        "# Example"
      ],
      "metadata": {
        "id": "hNPYZR-QB4CY"
      }
    },
    {
      "cell_type": "code",
      "source": [],
      "metadata": {
        "id": "bAYHh8K7B97w"
      },
      "execution_count": null,
      "outputs": []
    },
    {
      "cell_type": "code",
      "source": [
        "class Person:\n",
        "    def __init__(self, name, age):\n",
        "        self.name = name\n",
        "        self.age = age\n",
        "\n",
        "    def greet(self):\n",
        "        return f\"Hello, my name is {self.name} and I am {self.age} years old.\""
      ],
      "metadata": {
        "id": "p-ZFfr67CDmg"
      },
      "execution_count": 3,
      "outputs": []
    },
    {
      "cell_type": "markdown",
      "source": [
        "# Creating an object"
      ],
      "metadata": {
        "id": "kNwHFdzrCLRA"
      }
    },
    {
      "cell_type": "code",
      "source": [],
      "metadata": {
        "id": "heUQoIkVCKMN"
      },
      "execution_count": null,
      "outputs": []
    },
    {
      "cell_type": "code",
      "source": [
        "person1 = Person(\"Alice\", 30)\n",
        "person1.greet()"
      ],
      "metadata": {
        "colab": {
          "base_uri": "https://localhost:8080/",
          "height": 36
        },
        "id": "MdzjNjYjCOHh",
        "outputId": "7abaec24-6be8-44b1-a9e9-cc10b2a8669b"
      },
      "execution_count": 4,
      "outputs": [
        {
          "output_type": "execute_result",
          "data": {
            "text/plain": [
              "'Hello, my name is Alice and I am 30 years old.'"
            ],
            "application/vnd.google.colaboratory.intrinsic+json": {
              "type": "string"
            }
          },
          "metadata": {},
          "execution_count": 4
        }
      ]
    },
    {
      "cell_type": "code",
      "source": [],
      "metadata": {
        "id": "M8fHx8tOCP2q"
      },
      "execution_count": null,
      "outputs": []
    },
    {
      "cell_type": "markdown",
      "source": [
        "# Q4. Why self is used in OOPs?\n",
        "\n",
        "## Answer:\n",
        "## The `self` keyword represents the instance of the class and is used to access attributes and methods within the class.\n",
        "\n",
        "# Example"
      ],
      "metadata": {
        "id": "sFXG3Da6CRmW"
      }
    },
    {
      "cell_type": "code",
      "source": [],
      "metadata": {
        "id": "Tur5DovICUa-"
      },
      "execution_count": null,
      "outputs": []
    },
    {
      "cell_type": "code",
      "source": [
        "class Animal:\n",
        "    def __init__(self, species):\n",
        "        self.species = species\n",
        "\n",
        "    def show_species(self):\n",
        "        return f\"This is a {self.species}.\""
      ],
      "metadata": {
        "id": "C-nXZrtSCVHp"
      },
      "execution_count": 5,
      "outputs": []
    },
    {
      "cell_type": "markdown",
      "source": [
        "# Creating an object"
      ],
      "metadata": {
        "id": "2LChcPYfCa53"
      }
    },
    {
      "cell_type": "code",
      "source": [],
      "metadata": {
        "id": "dfsdaqjBCXQy"
      },
      "execution_count": null,
      "outputs": []
    },
    {
      "cell_type": "code",
      "source": [
        "animal1 = Animal(\"Dog\")\n",
        "animal1.show_species()\n"
      ],
      "metadata": {
        "colab": {
          "base_uri": "https://localhost:8080/",
          "height": 36
        },
        "id": "W7dwzMZrCdvX",
        "outputId": "2e689e6e-de54-4233-9db1-42f7aa000c23"
      },
      "execution_count": 6,
      "outputs": [
        {
          "output_type": "execute_result",
          "data": {
            "text/plain": [
              "'This is a Dog.'"
            ],
            "application/vnd.google.colaboratory.intrinsic+json": {
              "type": "string"
            }
          },
          "metadata": {},
          "execution_count": 6
        }
      ]
    },
    {
      "cell_type": "markdown",
      "source": [
        "\n",
        "# Q5. What is inheritance? Give an example for each type of inheritance.\n",
        "\n",
        "## Answer:\n",
        "## Inheritance is a mechanism in OOP where a new class derives properties and behaviors from an existing class.\n",
        "\n",
        "# Example of Single Inheritance"
      ],
      "metadata": {
        "id": "0TjU5RjBCmmC"
      }
    },
    {
      "cell_type": "code",
      "source": [],
      "metadata": {
        "id": "Xki-LD6jCeHk"
      },
      "execution_count": null,
      "outputs": []
    },
    {
      "cell_type": "code",
      "source": [
        "class Parent:\n",
        "    def show(self):\n",
        "        return \"This is the parent class.\"\n",
        "\n",
        "class Child(Parent):\n",
        "    pass\n",
        "\n",
        "child_obj = Child()\n",
        "child_obj.show()"
      ],
      "metadata": {
        "colab": {
          "base_uri": "https://localhost:8080/",
          "height": 36
        },
        "id": "dSBWHMZGCn4X",
        "outputId": "647d24c3-91f9-49b6-eddd-b057c7027ad1"
      },
      "execution_count": 7,
      "outputs": [
        {
          "output_type": "execute_result",
          "data": {
            "text/plain": [
              "'This is the parent class.'"
            ],
            "application/vnd.google.colaboratory.intrinsic+json": {
              "type": "string"
            }
          },
          "metadata": {},
          "execution_count": 7
        }
      ]
    },
    {
      "cell_type": "code",
      "source": [],
      "metadata": {
        "id": "qhAxg1kBCrNF"
      },
      "execution_count": null,
      "outputs": []
    },
    {
      "cell_type": "markdown",
      "source": [
        "# Example of Multiple Inheritance"
      ],
      "metadata": {
        "id": "L-cUq3QVCw22"
      }
    },
    {
      "cell_type": "code",
      "source": [
        "class A:\n",
        "    def method_A(self):\n",
        "        return \"Method from class A\"\n",
        "\n",
        "class B:\n",
        "    def method_B(self):\n",
        "        return \"Method from class B\"\n",
        "\n",
        "class C(A, B):\n",
        "    pass\n",
        "\n",
        "c_obj = C()\n",
        "c_obj.method_A(), c_obj.method_B()"
      ],
      "metadata": {
        "colab": {
          "base_uri": "https://localhost:8080/"
        },
        "id": "FDXOyYn5C8sn",
        "outputId": "457d1927-ee5a-4978-8b5d-00ce7fdf2772"
      },
      "execution_count": 8,
      "outputs": [
        {
          "output_type": "execute_result",
          "data": {
            "text/plain": [
              "('Method from class A', 'Method from class B')"
            ]
          },
          "metadata": {},
          "execution_count": 8
        }
      ]
    },
    {
      "cell_type": "markdown",
      "source": [
        "# Example of Multilevel Inheritance"
      ],
      "metadata": {
        "id": "u6bAEDPbC-5X"
      }
    },
    {
      "cell_type": "code",
      "source": [],
      "metadata": {
        "id": "Otqfb6IwC9g7"
      },
      "execution_count": null,
      "outputs": []
    },
    {
      "cell_type": "code",
      "source": [
        "class Grandparent:\n",
        "    def grandparent_method(self):\n",
        "        return \"This is the grandparent class.\"\n",
        "\n",
        "class Parent(Grandparent):\n",
        "    def parent_method(self):\n",
        "        return \"This is the parent class.\"\n",
        "\n",
        "class Child(Parent):\n",
        "    pass\n",
        "\n",
        "child_obj = Child()\n",
        "child_obj.grandparent_method(), child_obj.parent_method()"
      ],
      "metadata": {
        "colab": {
          "base_uri": "https://localhost:8080/"
        },
        "id": "b3ct7jxdDHjT",
        "outputId": "1dbc678b-39cc-4b8d-e166-24cd7af45e54"
      },
      "execution_count": 9,
      "outputs": [
        {
          "output_type": "execute_result",
          "data": {
            "text/plain": [
              "('This is the grandparent class.', 'This is the parent class.')"
            ]
          },
          "metadata": {},
          "execution_count": 9
        }
      ]
    },
    {
      "cell_type": "code",
      "source": [],
      "metadata": {
        "id": "JE9aay0BDLhX"
      },
      "execution_count": null,
      "outputs": []
    },
    {
      "cell_type": "markdown",
      "source": [
        "# Example of Hierarchical Inheritance"
      ],
      "metadata": {
        "id": "PWgX2zW3DMrh"
      }
    },
    {
      "cell_type": "code",
      "source": [],
      "metadata": {
        "id": "tC_KvkaEDPnq"
      },
      "execution_count": null,
      "outputs": []
    },
    {
      "cell_type": "code",
      "source": [
        "class Parent:\n",
        "    def show(self):\n",
        "        return \"This is the parent class.\"\n",
        "\n",
        "class Child1(Parent):\n",
        "    pass\n",
        "\n",
        "class Child2(Parent):\n",
        "    pass\n",
        "\n",
        "child1 = Child1()\n",
        "child2 = Child2()\n",
        "child1.show(), child2.show()"
      ],
      "metadata": {
        "colab": {
          "base_uri": "https://localhost:8080/"
        },
        "id": "GawDCUL6DQLA",
        "outputId": "c32dc7c0-2c84-45c1-cf16-fa2791a9579c"
      },
      "execution_count": 10,
      "outputs": [
        {
          "output_type": "execute_result",
          "data": {
            "text/plain": [
              "('This is the parent class.', 'This is the parent class.')"
            ]
          },
          "metadata": {},
          "execution_count": 10
        }
      ]
    },
    {
      "cell_type": "code",
      "source": [],
      "metadata": {
        "id": "xth-FW8kDSvk"
      },
      "execution_count": null,
      "outputs": []
    },
    {
      "cell_type": "markdown",
      "source": [
        "# Example of Hybrid Inheritance"
      ],
      "metadata": {
        "id": "JuOK87hqDTrq"
      }
    },
    {
      "cell_type": "code",
      "source": [],
      "metadata": {
        "id": "_nN9O8tODWmH"
      },
      "execution_count": null,
      "outputs": []
    },
    {
      "cell_type": "code",
      "source": [
        "class Base:\n",
        "    def base_method(self):\n",
        "        return \"Base class method\"\n",
        "\n",
        "class Derived1(Base):\n",
        "    pass\n",
        "\n",
        "class Derived2(Base):\n",
        "    pass\n",
        "\n",
        "class Derived3(Derived1, Derived2):\n",
        "    pass\n",
        "\n",
        "derived_obj = Derived3()\n",
        "derived_obj.base_method()\n"
      ],
      "metadata": {
        "colab": {
          "base_uri": "https://localhost:8080/",
          "height": 36
        },
        "id": "2eJWB1mIDXTu",
        "outputId": "d433cf59-25bb-4ab7-c0fa-4ecfed122f31"
      },
      "execution_count": 11,
      "outputs": [
        {
          "output_type": "execute_result",
          "data": {
            "text/plain": [
              "'Base class method'"
            ],
            "application/vnd.google.colaboratory.intrinsic+json": {
              "type": "string"
            }
          },
          "metadata": {},
          "execution_count": 11
        }
      ]
    },
    {
      "cell_type": "code",
      "source": [],
      "metadata": {
        "id": "n-rkifLaDbhr"
      },
      "execution_count": null,
      "outputs": []
    }
  ]
}