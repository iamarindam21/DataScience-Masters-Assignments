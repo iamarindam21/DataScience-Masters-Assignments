{
  "nbformat": 4,
  "nbformat_minor": 0,
  "metadata": {
    "colab": {
      "provenance": []
    },
    "kernelspec": {
      "name": "python3",
      "display_name": "Python 3"
    },
    "language_info": {
      "name": "python"
    }
  },
  "cells": [
    {
      "cell_type": "code",
      "execution_count": null,
      "metadata": {
        "id": "NXuCSfOaEAPL"
      },
      "outputs": [],
      "source": []
    },
    {
      "cell_type": "markdown",
      "source": [
        "\n",
        "# Q1. Create a function which will take a list as an argument and return the product of all the numbers after creating a flat list.\n",
        "\n",
        "## Answer:\n",
        "## The function will recursively extract numbers from nested structures and compute their product."
      ],
      "metadata": {
        "id": "NGrsgCgkEGTF"
      }
    },
    {
      "cell_type": "code",
      "source": [],
      "metadata": {
        "id": "8Jynz9IHEor9"
      },
      "execution_count": null,
      "outputs": []
    },
    {
      "cell_type": "code",
      "source": [
        "from functools import reduce\n",
        "\n",
        "def flatten_and_multiply(lst):\n",
        "    flat_list = []\n",
        "\n",
        "    def extract_numbers(item):\n",
        "        if isinstance(item, (int, float)):\n",
        "            flat_list.append(item)\n",
        "        elif isinstance(item, (list, tuple, set)):\n",
        "            for sub_item in item:\n",
        "                extract_numbers(sub_item)\n",
        "        elif isinstance(item, dict):\n",
        "            for key, value in item.items():\n",
        "                extract_numbers(key)\n",
        "                extract_numbers(value)\n",
        "\n",
        "    extract_numbers(lst)\n",
        "    return reduce(lambda x, y: x * y, flat_list)\n"
      ],
      "metadata": {
        "id": "FGEZmgCGEq6O"
      },
      "execution_count": 5,
      "outputs": []
    },
    {
      "cell_type": "code",
      "source": [],
      "metadata": {
        "id": "_LBYPXfwEtko"
      },
      "execution_count": null,
      "outputs": []
    },
    {
      "cell_type": "markdown",
      "source": [
        "# Given list"
      ],
      "metadata": {
        "id": "BOOy-qiTFeQy"
      }
    },
    {
      "cell_type": "code",
      "source": [],
      "metadata": {
        "id": "J7Rc7Pd2Feqy"
      },
      "execution_count": null,
      "outputs": []
    },
    {
      "cell_type": "code",
      "source": [
        "list1 = [1,2,3,4, [44,55,66, True], False, (34,56,78,89,34), {1,2,3,3,2,1}, {1:34, \"key2\": [55, 67, 78, 89], 4: (45, 22, 61, 34)}, [56, 'data science'], 'Machine Learning']\n"
      ],
      "metadata": {
        "id": "a5b3tmlVFfMt"
      },
      "execution_count": 8,
      "outputs": []
    },
    {
      "cell_type": "markdown",
      "source": [
        "# Calling the function"
      ],
      "metadata": {
        "id": "98OJe31nGIxz"
      }
    },
    {
      "cell_type": "code",
      "source": [
        "product_result = flatten_and_multiply(list1)\n",
        "product_result"
      ],
      "metadata": {
        "colab": {
          "base_uri": "https://localhost:8080/"
        },
        "id": "xHmNpA6mFrn1",
        "outputId": "df64f035-2c02-4bc1-bd64-883d56e5b031"
      },
      "execution_count": 9,
      "outputs": [
        {
          "output_type": "execute_result",
          "data": {
            "text/plain": [
              "0"
            ]
          },
          "metadata": {},
          "execution_count": 9
        }
      ]
    },
    {
      "cell_type": "code",
      "source": [],
      "metadata": {
        "id": "_WTMtfQnFuaj"
      },
      "execution_count": null,
      "outputs": []
    },
    {
      "cell_type": "markdown",
      "source": [
        "# Q2. Write a python program for encrypting a message sent to you by your friend.\n",
        "\n",
        "## Answer:\n",
        "## The encryption logic is as follows: For 'a', the output should be 'z'; for 'b', the output should be 'y'; for 'c', the output should be 'x', and so on. Whitespace is replaced with a dollar sign.\n",
        "\n",
        "# Function for encryption"
      ],
      "metadata": {
        "id": "TyBcphcHGmKx"
      }
    },
    {
      "cell_type": "code",
      "source": [],
      "metadata": {
        "id": "d9rc9F6oGnvi"
      },
      "execution_count": null,
      "outputs": []
    },
    {
      "cell_type": "code",
      "source": [
        "def encrypt_message(message):\n",
        "    message = message.lower()\n",
        "    encrypted_message = \"\"\n",
        "    for char in message:\n",
        "        if char.isalpha():\n",
        "            encrypted_message += chr(219 - ord(char))  # Reverse alphabet transformation\n",
        "        elif char == \" \":\n",
        "            encrypted_message += \"$\"\n",
        "        else:\n",
        "            encrypted_message += char  # Keep punctuation unchanged\n",
        "    return encrypted_message"
      ],
      "metadata": {
        "id": "bRB1JssgGqZl"
      },
      "execution_count": 10,
      "outputs": []
    },
    {
      "cell_type": "code",
      "source": [],
      "metadata": {
        "id": "IbWM9J9WGuQy"
      },
      "execution_count": null,
      "outputs": []
    },
    {
      "cell_type": "markdown",
      "source": [
        "# Input sentence"
      ],
      "metadata": {
        "id": "H9JqF8YiGv5M"
      }
    },
    {
      "cell_type": "code",
      "source": [],
      "metadata": {
        "id": "sBJjOBCOGyUz"
      },
      "execution_count": null,
      "outputs": []
    },
    {
      "cell_type": "code",
      "source": [
        "input_sentence = \"I want to become a Data Scientist.\""
      ],
      "metadata": {
        "id": "GU2filDrGy1X"
      },
      "execution_count": 11,
      "outputs": []
    },
    {
      "cell_type": "code",
      "source": [],
      "metadata": {
        "id": "TiosiQSsG1vf"
      },
      "execution_count": null,
      "outputs": []
    },
    {
      "cell_type": "markdown",
      "source": [
        "\n",
        "# Encrypting the input sentence"
      ],
      "metadata": {
        "id": "EU0h3bp6G48H"
      }
    },
    {
      "cell_type": "code",
      "source": [],
      "metadata": {
        "id": "hxf-e-P7G5X3"
      },
      "execution_count": null,
      "outputs": []
    },
    {
      "cell_type": "code",
      "source": [
        "encrypted_sentence = encrypt_message(input_sentence)\n",
        "encrypted_sentence"
      ],
      "metadata": {
        "colab": {
          "base_uri": "https://localhost:8080/",
          "height": 36
        },
        "id": "1HtRTi8bG55L",
        "outputId": "f919140f-3133-40db-fe86-ac391c34c89a"
      },
      "execution_count": 12,
      "outputs": [
        {
          "output_type": "execute_result",
          "data": {
            "text/plain": [
              "'r$dzmg$gl$yvxlnv$z$wzgz$hxrvmgrhg.'"
            ],
            "application/vnd.google.colaboratory.intrinsic+json": {
              "type": "string"
            }
          },
          "metadata": {},
          "execution_count": 12
        }
      ]
    },
    {
      "cell_type": "code",
      "source": [],
      "metadata": {
        "id": "3h1nDZ42G8BU"
      },
      "execution_count": null,
      "outputs": []
    }
  ]
}