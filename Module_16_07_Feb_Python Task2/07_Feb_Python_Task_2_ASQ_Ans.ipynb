{
  "nbformat": 4,
  "nbformat_minor": 0,
  "metadata": {
    "colab": {
      "provenance": []
    },
    "kernelspec": {
      "name": "python3",
      "display_name": "Python 3"
    },
    "language_info": {
      "name": "python"
    }
  },
  "cells": [
    {
      "cell_type": "markdown",
      "source": [],
      "metadata": {
        "id": "fd3Jw4oeJJFK"
      }
    },
    {
      "cell_type": "markdown",
      "source": [
        "# Q1. Create a python function to check whether the password entered by the user is correct or not.\n",
        "\n",
        "## Answer:\n",
        "## The function will check if the password meets the given criteria: at least two uppercase letters, two lowercase letters, one number, three special characters, and a length of 10 characters.\n"
      ],
      "metadata": {
        "id": "_vv8JJ1nJwfH"
      }
    },
    {
      "cell_type": "code",
      "source": [
        "import re\n",
        "\n",
        "def is_valid_password(password):\n",
        "    if len(password) != 10:\n",
        "        return \"Invalid Password\"\n",
        "    if len(re.findall(r\"[A-Z]\", password)) < 2:\n",
        "        return \"Invalid Password\"\n",
        "    if len(re.findall(r\"[a-z]\", password)) < 2:\n",
        "        return \"Invalid Password\"\n",
        "    if len(re.findall(r\"\\d\", password)) < 1:\n",
        "        return \"Invalid Password\"\n",
        "    if len(re.findall(r\"[^a-zA-Z0-9]\", password)) < 3:\n",
        "        return \"Invalid Password\"\n",
        "    return \"Valid Password\""
      ],
      "metadata": {
        "id": "LmaSfvJnJ1To"
      },
      "execution_count": 1,
      "outputs": []
    },
    {
      "cell_type": "markdown",
      "source": [
        "# Example calls"
      ],
      "metadata": {
        "id": "DmBKZSZvJ96e"
      }
    },
    {
      "cell_type": "code",
      "source": [
        "password1 = \"Abc!@#12Df\"\n",
        "password2 = \"abc123!@#\"\n",
        "\n",
        "validation1 = is_valid_password(password1)\n",
        "validation2 = is_valid_password(password2)\n",
        "\n",
        "validation1, validation2"
      ],
      "metadata": {
        "colab": {
          "base_uri": "https://localhost:8080/"
        },
        "id": "_61xj2cpJ4oK",
        "outputId": "37da70a1-1188-431a-933c-4fc7cd504a39"
      },
      "execution_count": 2,
      "outputs": [
        {
          "output_type": "execute_result",
          "data": {
            "text/plain": [
              "('Valid Password', 'Invalid Password')"
            ]
          },
          "metadata": {},
          "execution_count": 2
        }
      ]
    },
    {
      "cell_type": "markdown",
      "source": [
        "# Q2. Solve the given problems using lambda, filter, map, or list comprehension.\n",
        "\n",
        "# Check if the string starts with a particular letter"
      ],
      "metadata": {
        "id": "ZJ9xzAyJKSj1"
      }
    },
    {
      "cell_type": "code",
      "source": [
        "starts_with_a = lambda s: s.startswith(\"a\")"
      ],
      "metadata": {
        "id": "DAw4oQk2LIiI"
      },
      "execution_count": 3,
      "outputs": []
    },
    {
      "cell_type": "markdown",
      "source": [],
      "metadata": {
        "id": "Zbt2kUZgLOKv"
      }
    },
    {
      "cell_type": "markdown",
      "source": [
        "# Check if the string is numeric"
      ],
      "metadata": {
        "id": "bXHnyJVZLPuY"
      }
    },
    {
      "cell_type": "code",
      "source": [
        "is_numeric = lambda s: s.isnumeric()"
      ],
      "metadata": {
        "id": "y7l5yHlFLR1b"
      },
      "execution_count": 4,
      "outputs": []
    },
    {
      "cell_type": "markdown",
      "source": [
        "# Sort a list of tuples based on quantity"
      ],
      "metadata": {
        "id": "t5QvPFGULVHf"
      }
    },
    {
      "cell_type": "code",
      "source": [
        "fruits = [(\"mango\",99),(\"orange\",80), (\"grapes\", 1000)]\n",
        "sorted_fruits = sorted(fruits, key=lambda x: x[1])"
      ],
      "metadata": {
        "id": "OyQbwWKoLXg9"
      },
      "execution_count": 5,
      "outputs": []
    },
    {
      "cell_type": "markdown",
      "source": [
        "# Find squares of numbers from 1 to 10"
      ],
      "metadata": {
        "id": "G3Zcr78gLbYg"
      }
    },
    {
      "cell_type": "code",
      "source": [
        "squares = list(map(lambda x: x**2, range(1, 11)))"
      ],
      "metadata": {
        "id": "MYcjvS3LLeT6"
      },
      "execution_count": 6,
      "outputs": []
    },
    {
      "cell_type": "markdown",
      "source": [
        "# Find cube roots of numbers from 1 to 10"
      ],
      "metadata": {
        "id": "XTw57vtDLhF8"
      }
    },
    {
      "cell_type": "code",
      "source": [
        "cube_roots = list(map(lambda x: x**(1/3), range(1, 11)))"
      ],
      "metadata": {
        "id": "0vIqv4u2Ljl7"
      },
      "execution_count": 7,
      "outputs": []
    },
    {
      "cell_type": "markdown",
      "source": [
        "\n",
        "# Check if a number is even"
      ],
      "metadata": {
        "id": "5XziWO9sLmUG"
      }
    },
    {
      "cell_type": "code",
      "source": [
        "is_even = lambda x: x % 2 == 0"
      ],
      "metadata": {
        "id": "PDkVSm4kLo6E"
      },
      "execution_count": 8,
      "outputs": []
    },
    {
      "cell_type": "markdown",
      "source": [
        "# Filter odd numbers from a list"
      ],
      "metadata": {
        "id": "aG62NFHVLsFp"
      }
    },
    {
      "cell_type": "code",
      "source": [
        "odd_numbers = list(filter(lambda x: x % 2 != 0, [1,2,3,4,5,6,7,8,9,10]))"
      ],
      "metadata": {
        "id": "fz-3htyvLvut"
      },
      "execution_count": 9,
      "outputs": []
    },
    {
      "cell_type": "markdown",
      "source": [
        "# Sort a list of integers into positive and negative lists"
      ],
      "metadata": {
        "id": "UVzMVd9ILzGD"
      }
    },
    {
      "cell_type": "code",
      "source": [
        "nums = [1,2,3,4,5,6,-1,-2,-3,-4,-5,0]\n",
        "positive_nums = [num for num in nums if num > 0]\n",
        "negative_nums = [num for num in nums if num < 0]\n",
        "sorted_fruits, squares, cube_roots, odd_numbers, positive_nums, negative_nums"
      ],
      "metadata": {
        "colab": {
          "base_uri": "https://localhost:8080/"
        },
        "id": "3-2Q-bg9L1lv",
        "outputId": "177cc2f1-da4a-47d4-a6f9-625a0c652bf3"
      },
      "execution_count": 11,
      "outputs": [
        {
          "output_type": "execute_result",
          "data": {
            "text/plain": [
              "([('orange', 80), ('mango', 99), ('grapes', 1000)],\n",
              " [1, 4, 9, 16, 25, 36, 49, 64, 81, 100],\n",
              " [1.0,\n",
              "  1.2599210498948732,\n",
              "  1.4422495703074083,\n",
              "  1.5874010519681994,\n",
              "  1.7099759466766968,\n",
              "  1.8171205928321397,\n",
              "  1.912931182772389,\n",
              "  2.0,\n",
              "  2.080083823051904,\n",
              "  2.154434690031884],\n",
              " [1, 3, 5, 7, 9],\n",
              " [1, 2, 3, 4, 5, 6],\n",
              " [-1, -2, -3, -4, -5])"
            ]
          },
          "metadata": {},
          "execution_count": 11
        }
      ]
    }
  ]
}