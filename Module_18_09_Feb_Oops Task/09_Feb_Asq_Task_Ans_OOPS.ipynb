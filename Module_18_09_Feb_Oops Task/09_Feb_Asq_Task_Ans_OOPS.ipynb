{
  "nbformat": 4,
  "nbformat_minor": 0,
  "metadata": {
    "colab": {
      "provenance": []
    },
    "kernelspec": {
      "name": "python3",
      "display_name": "Python 3"
    },
    "language_info": {
      "name": "python"
    }
  },
  "cells": [
    {
      "cell_type": "markdown",
      "source": [
        "# Q1. Create a vehicle class with an init method having instance variables as name_of_vehicle, max_speed and average_of_vehicle."
      ],
      "metadata": {
        "id": "nKzjJeumNM7O"
      }
    },
    {
      "cell_type": "code",
      "source": [
        "\n",
        "class Vehicle:\n",
        "    def __init__(self, name_of_vehicle, max_speed, average_of_vehicle):\n",
        "        self.name_of_vehicle = name_of_vehicle\n",
        "        self.max_speed = max_speed\n",
        "        self.average_of_vehicle = average_of_vehicle"
      ],
      "metadata": {
        "id": "HU4Hx_ctOVrW"
      },
      "execution_count": 1,
      "outputs": []
    },
    {
      "cell_type": "markdown",
      "source": [
        "# Example object"
      ],
      "metadata": {
        "id": "ryw4KOJkOZAE"
      }
    },
    {
      "cell_type": "code",
      "source": [
        "vehicle1 = Vehicle(\"Bike\", 180, 40)\n",
        "print(vehicle1.name_of_vehicle, vehicle1.max_speed, vehicle1.average_of_vehicle)\n"
      ],
      "metadata": {
        "colab": {
          "base_uri": "https://localhost:8080/"
        },
        "id": "RzOuB8qWOb46",
        "outputId": "4fba59ea-7301-41c7-bebc-0a87540b7c85"
      },
      "execution_count": 2,
      "outputs": [
        {
          "output_type": "stream",
          "name": "stdout",
          "text": [
            "Bike 180 40\n"
          ]
        }
      ]
    },
    {
      "cell_type": "markdown",
      "source": [
        "# Q2. Create a child class car from the vehicle class which inherits the vehicle class. Create a method named seating_capacity.\n"
      ],
      "metadata": {
        "id": "rAACl22tOfDg"
      }
    },
    {
      "cell_type": "code",
      "source": [
        "class Car(Vehicle):\n",
        "    def seating_capacity(self, capacity):\n",
        "        return f\"{self.name_of_vehicle} has a seating capacity of {capacity} passengers.\"\n"
      ],
      "metadata": {
        "id": "99T94Rp2Oiwa"
      },
      "execution_count": 3,
      "outputs": []
    },
    {
      "cell_type": "markdown",
      "source": [
        "# Example object"
      ],
      "metadata": {
        "id": "D9qA9ag4OqFG"
      }
    },
    {
      "cell_type": "code",
      "source": [
        "car1 = Car(\"Sedan\", 220, 15)\n",
        "print(car1.seating_capacity(5))"
      ],
      "metadata": {
        "colab": {
          "base_uri": "https://localhost:8080/"
        },
        "id": "jhWj_K4COtUl",
        "outputId": "9609bf6f-77d3-4e4a-a1c0-2e64b6dee4c9"
      },
      "execution_count": 4,
      "outputs": [
        {
          "output_type": "stream",
          "name": "stdout",
          "text": [
            "Sedan has a seating capacity of 5 passengers.\n"
          ]
        }
      ]
    },
    {
      "cell_type": "markdown",
      "source": [
        "# Q3. What is multiple inheritance? Write a python code to demonstrate multiple inheritance.\n",
        "\n",
        "# Multiple Inheritance allows a class to inherit from more than one base class."
      ],
      "metadata": {
        "id": "kxoovixdOw1P"
      }
    },
    {
      "cell_type": "code",
      "source": [
        "class Engine:\n",
        "    def __init__(self, engine_type):\n",
        "        self.engine_type = engine_type\n",
        "\n",
        "class Wheels:\n",
        "    def __init__(self, wheel_count):\n",
        "        self.wheel_count = wheel_count\n",
        "\n",
        "class CarMultiple(Vehicle, Engine, Wheels):\n",
        "    def __init__(self, name_of_vehicle, max_speed, average_of_vehicle, engine_type, wheel_count):\n",
        "        Vehicle.__init__(self, name_of_vehicle, max_speed, average_of_vehicle)\n",
        "        Engine.__init__(self, engine_type)\n",
        "        Wheels.__init__(self, wheel_count)"
      ],
      "metadata": {
        "id": "XTH_8orCO9hs"
      },
      "execution_count": 6,
      "outputs": []
    },
    {
      "cell_type": "markdown",
      "source": [
        "# Example object"
      ],
      "metadata": {
        "id": "_oeKD8xEPBIN"
      }
    },
    {
      "cell_type": "code",
      "source": [
        "car2 = CarMultiple(\"SUV\", 200, 12, \"Diesel\", 4)\n",
        "print(car2.name_of_vehicle, car2.engine_type, car2.wheel_count)"
      ],
      "metadata": {
        "colab": {
          "base_uri": "https://localhost:8080/"
        },
        "id": "czK8E4fAPE-5",
        "outputId": "8f610902-13a8-4a93-a2c9-fd29d68443cf"
      },
      "execution_count": 7,
      "outputs": [
        {
          "output_type": "stream",
          "name": "stdout",
          "text": [
            "SUV Diesel 4\n"
          ]
        }
      ]
    },
    {
      "cell_type": "markdown",
      "source": [
        "# Q4. What are getter and setter in python? Create a class and create a getter and a setter method in this class.\n"
      ],
      "metadata": {
        "id": "EI2rKMgAPW0n"
      }
    },
    {
      "cell_type": "code",
      "source": [
        "class Person:\n",
        "    def __init__(self, name, age):\n",
        "        self._name = name  # Protected attribute\n",
        "        self._age = age\n",
        "\n",
        "    @property\n",
        "    def age(self):\n",
        "        return self._age\n",
        "\n",
        "    @age.setter\n",
        "    def age(self, new_age):\n",
        "        if new_age > 0:\n",
        "            self._age = new_age\n",
        "        else:\n",
        "            raise ValueError(\"Age must be a positive number.\")"
      ],
      "metadata": {
        "id": "wK_bt-yuPZnA"
      },
      "execution_count": 8,
      "outputs": []
    },
    {
      "cell_type": "markdown",
      "source": [
        "# Example object"
      ],
      "metadata": {
        "id": "sJ7Csh63PfbU"
      }
    },
    {
      "cell_type": "code",
      "source": [
        "person1 = Person(\"Alice\", 25)\n",
        "print(person1.age)  # Getter\n",
        "person1.age = 30  # Setter\n",
        "print(person1.age)"
      ],
      "metadata": {
        "colab": {
          "base_uri": "https://localhost:8080/"
        },
        "id": "Irn0mWLrPkG-",
        "outputId": "01765ed5-3479-49e7-ace5-26eb91734b2b"
      },
      "execution_count": 9,
      "outputs": [
        {
          "output_type": "stream",
          "name": "stdout",
          "text": [
            "25\n",
            "30\n"
          ]
        }
      ]
    },
    {
      "cell_type": "markdown",
      "source": [
        "# Q5. What is method overriding in python? Write a python code to demonstrate method overriding.\n"
      ],
      "metadata": {
        "id": "faUqYVnDPp4M"
      }
    },
    {
      "cell_type": "code",
      "source": [
        "class Parent:\n",
        "    def show(self):\n",
        "        return \"This is the parent class.\"\n",
        "\n",
        "class Child(Parent):\n",
        "    def show(self):\n",
        "        return \"This is the child class, overriding the parent method.\"\n"
      ],
      "metadata": {
        "id": "ZHeBMWE1PwiW"
      },
      "execution_count": 10,
      "outputs": []
    },
    {
      "cell_type": "markdown",
      "source": [
        "\n",
        "# Example objects"
      ],
      "metadata": {
        "id": "8UTyYTrnPx54"
      }
    },
    {
      "cell_type": "code",
      "source": [
        "parent_obj = Parent()\n",
        "child_obj = Child()\n",
        "print(parent_obj.show())  # Calls parent class method\n",
        "print(child_obj.show())  # Calls overridden method in child class\n"
      ],
      "metadata": {
        "colab": {
          "base_uri": "https://localhost:8080/"
        },
        "id": "HAkbeZ1uP0w3",
        "outputId": "8f48600c-8ea6-47ad-c7f4-338268caeead"
      },
      "execution_count": 11,
      "outputs": [
        {
          "output_type": "stream",
          "name": "stdout",
          "text": [
            "This is the parent class.\n",
            "This is the child class, overriding the parent method.\n"
          ]
        }
      ]
    },
    {
      "cell_type": "code",
      "source": [],
      "metadata": {
        "id": "2hmodEXKP3Se"
      },
      "execution_count": null,
      "outputs": []
    }
  ]
}