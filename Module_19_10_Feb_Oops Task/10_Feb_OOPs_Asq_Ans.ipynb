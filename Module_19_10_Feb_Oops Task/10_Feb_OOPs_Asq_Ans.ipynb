{
  "nbformat": 4,
  "nbformat_minor": 0,
  "metadata": {
    "colab": {
      "provenance": []
    },
    "kernelspec": {
      "name": "python3",
      "display_name": "Python 3"
    },
    "language_info": {
      "name": "python"
    }
  },
  "cells": [
    {
      "cell_type": "markdown",
      "source": [
        "# Q1. Which function is used to open a file? What are the different modes of opening a file? Explain each mode of file opening.\n",
        "\n",
        "## Answer:\n",
        "## The `open()` function is used to open a file in Python.\n",
        "## Different modes of opening a file:\n",
        "## - `'r'` : Read mode (default) - Opens the file for reading, error if the file does not exist.\n",
        "## - `'w'` : Write mode - Opens the file for writing, creates a new file if it does not exist, overwrites the file if it exists.\n",
        "## - `'a'` : Append mode - Opens the file for appending, creates a new file if it does not exist.\n",
        "## - `'x'` : Exclusive creation mode - Creates a new file, returns an error if the file exists.\n",
        "## - `'b'` : Binary mode - Used with other modes to handle binary files.\n",
        "## - `'t'` : Text mode (default) - Used with other modes to handle text files.\n",
        "## - `'+'` : Update mode - Allows both reading and writing."
      ],
      "metadata": {
        "id": "-n4erfsOZfJP"
      }
    },
    {
      "cell_type": "markdown",
      "source": [
        "# Q2. Why close() function is used? Why is it important to close a file?\n",
        "\n",
        "## Answer:\n",
        "## The `close()` function is used to close a file after performing operations on it.\n",
        "## It is important to close a file because it frees up system resources and ensures data is properly written to the file.\n",
        "\n",
        "# Q3. Write a python program to create a text file. Write 'I want to become a Data Scientist' in that file. Then close the file. Open this file and read the content of the file.\n",
        "\n",
        "# Creating and writing to a file"
      ],
      "metadata": {
        "id": "shkRDgAdZ1iX"
      }
    },
    {
      "cell_type": "code",
      "source": [
        "with open(\"data_scientist.txt\", \"w\") as file:\n",
        "    file.write(\"I want to become a Data Scientist\")"
      ],
      "metadata": {
        "id": "kv47FplFZ3zE"
      },
      "execution_count": 1,
      "outputs": []
    },
    {
      "cell_type": "markdown",
      "source": [
        "# Reading the content of the file"
      ],
      "metadata": {
        "id": "h4IeVqf3Z_qN"
      }
    },
    {
      "cell_type": "code",
      "source": [
        "with open(\"data_scientist.txt\", \"r\") as file:\n",
        "    content = file.read()\n",
        "\n",
        "content\n"
      ],
      "metadata": {
        "colab": {
          "base_uri": "https://localhost:8080/",
          "height": 36
        },
        "id": "uBeAgCvFa-X1",
        "outputId": "90e794da-6d64-4bb1-e84f-0e932578a2dd"
      },
      "execution_count": 2,
      "outputs": [
        {
          "output_type": "execute_result",
          "data": {
            "text/plain": [
              "'I want to become a Data Scientist'"
            ],
            "application/vnd.google.colaboratory.intrinsic+json": {
              "type": "string"
            }
          },
          "metadata": {},
          "execution_count": 2
        }
      ]
    },
    {
      "cell_type": "markdown",
      "source": [
        "# Q4. Explain the following with python code: read(), readline() and readlines().\n",
        "\n",
        "## Answer:\n",
        "## - `read()`: Reads the entire content of the file as a string.\n",
        "## - `readline()`: Reads a single line from the file.\n",
        "## - `readlines()`: Reads all lines from the file and returns a list of lines.\n",
        "\n",
        "# Example"
      ],
      "metadata": {
        "id": "-D6nqWLEbG4e"
      }
    },
    {
      "cell_type": "code",
      "source": [
        "with open(\"example.txt\", \"w\") as file:\n",
        "    file.write(\"Line 1\\nLine 2\\nLine 3\\n\")\n",
        "\n",
        "with open(\"example.txt\", \"r\") as file:\n",
        "    full_content = file.read()\n",
        "    file.seek(0)\n",
        "    first_line = file.readline()\n",
        "    file.seek(0)\n",
        "    all_lines = file.readlines()\n",
        "\n",
        "full_content, first_line, all_lines"
      ],
      "metadata": {
        "colab": {
          "base_uri": "https://localhost:8080/"
        },
        "id": "ha3sK1stbMYi",
        "outputId": "e3614c42-417d-458e-fe7e-a79b74f4650c"
      },
      "execution_count": 3,
      "outputs": [
        {
          "output_type": "execute_result",
          "data": {
            "text/plain": [
              "('Line 1\\nLine 2\\nLine 3\\n', 'Line 1\\n', ['Line 1\\n', 'Line 2\\n', 'Line 3\\n'])"
            ]
          },
          "metadata": {},
          "execution_count": 3
        }
      ]
    },
    {
      "cell_type": "markdown",
      "source": [
        "# Q5. Explain why with statement is used with open(). What is the advantage of using with statement and open() together?\n",
        "\n",
        "## Answer:\n",
        "## The `with` statement is used with `open()` to ensure that the file is properly closed after the block is executed.\n",
        "## Advantage: It automatically closes the file, even if an error occurs within the block, preventing resource leaks.\n",
        "\n",
        "# Q6. Explain the write() and writelines() functions. Give a suitable example.\n",
        "\n",
        "## Answer:\n",
        "## - `write()`: Writes a single string to the file.\n",
        "## - `writelines()`: Writes a list of strings to the file.\n",
        "\n",
        "# Example"
      ],
      "metadata": {
        "id": "cWIcKMd3bUVY"
      }
    },
    {
      "cell_type": "code",
      "source": [
        "with open(\"sample.txt\", \"w\") as file:\n",
        "    file.write(\"Hello, World!\\n\")\n",
        "    file.writelines([\"Python is great!\\n\", \"File handling is important.\\n\"])\n"
      ],
      "metadata": {
        "id": "yepiG38vbZI_"
      },
      "execution_count": 4,
      "outputs": []
    }
  ]
}