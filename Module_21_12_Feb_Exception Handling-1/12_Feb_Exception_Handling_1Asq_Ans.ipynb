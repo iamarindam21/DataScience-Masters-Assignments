{
  "nbformat": 4,
  "nbformat_minor": 0,
  "metadata": {
    "colab": {
      "provenance": []
    },
    "kernelspec": {
      "name": "python3",
      "display_name": "Python 3"
    },
    "language_info": {
      "name": "python"
    }
  },
  "cells": [
    {
      "cell_type": "markdown",
      "source": [
        "# Q1. What is an Exception in Python? Write the difference between Exceptions and Syntax Errors.\n",
        "\n",
        "## Answer:\n",
        "An exception in Python is an error that occurs during the execution of a program, disrupting the normal flow of the program. Exceptions are usually caused by logical errors such as division by zero, accessing an undefined variable, or file handling issues.\n",
        "\n",
        "**Difference between Exceptions and Syntax Errors:**\n",
        "\n",
        "| Feature | Exceptions | Syntax Errors |\n",
        "|---------|-----------|--------------|\n",
        "| Definition | Errors detected during execution | Errors due to incorrect syntax |\n",
        "| When Occurs | At runtime | At compile-time |\n",
        "| Example | `1 / 0` (ZeroDivisionError) | `print(\"Hello` (Missing closing quote) |\n",
        "\n",
        "Example of Exception:\n"
      ],
      "metadata": {
        "id": "3BG0Cc-rJbOI"
      }
    },
    {
      "cell_type": "code",
      "source": [
        "try:\n",
        "    print(10 / 0)  # ZeroDivisionError\n",
        "except ZeroDivisionError as e:\n",
        "    print(\"Exception caught:\", e)"
      ],
      "metadata": {
        "colab": {
          "base_uri": "https://localhost:8080/"
        },
        "id": "n0R6s7IELY5e",
        "outputId": "9eb90a9f-ad50-4e90-bfee-e76ed9d447c8"
      },
      "execution_count": null,
      "outputs": [
        {
          "output_type": "stream",
          "name": "stdout",
          "text": [
            "Exception caught: division by zero\n"
          ]
        }
      ]
    },
    {
      "cell_type": "markdown",
      "source": [
        "# Q2. What happens when an exception is not handled? Give an example.\n",
        "\n",
        "## Answer:\n",
        "If an exception is not handled, the program terminates abruptly, and an error message (traceback) is displayed. This means any code after the exception will not execute.\n",
        "### Example of an Unhandled Exception:\n",
        "```python\n",
        "print(5 / 0)  # Unhandled ZeroDivisionError\n"
      ],
      "metadata": {
        "id": "HlHrQx-CPZ5a"
      }
    },
    {
      "cell_type": "markdown",
      "source": [],
      "metadata": {
        "id": "iNt_7BiIPmPl"
      }
    },
    {
      "cell_type": "markdown",
      "source": [],
      "metadata": {
        "id": "LwzMHcNWQrht"
      }
    },
    {
      "cell_type": "markdown",
      "source": [
        "# Q3. Which Python statements are used to catch and handle exceptions? Explain with an example.\n",
        "\n",
        "## Answer:\n",
        "Python provides the `try-except` block to catch and handle exceptions. This helps in preventing abrupt program termination and allows graceful error handling.\n",
        "\n",
        "### Syntax:\n",
        "```python\n",
        "try:\n",
        "    # Code that may raise an exception\n",
        "except ExceptionType:\n",
        "    # Code to handle the exception\n"
      ],
      "metadata": {
        "id": "N-lpZccDQAXa"
      }
    },
    {
      "cell_type": "markdown",
      "source": [
        "# Q4. Explain with an example: try and else, finally, and raise.\n",
        "\n",
        "## Answer:\n",
        "### 1. `try` and `else`\n",
        "- The `else` block executes only if no exception occurs in the `try` block.\n",
        "- It is useful when you want to run some code only if no error occurs.\n",
        "\n",
        "#### Example:\n",
        "```python\n",
        "try:\n",
        "    num = int(\"100\")  # No exception\n",
        "except ValueError:\n",
        "    print(\"Invalid number\")\n",
        "else:\n",
        "    print(\"Conversion successful:\", num)\n"
      ],
      "metadata": {
        "id": "ynFv_NE7Qu-I"
      }
    },
    {
      "cell_type": "markdown",
      "source": [],
      "metadata": {
        "id": "aTOpu4DfSQFJ"
      }
    },
    {
      "cell_type": "markdown",
      "source": [
        "# finally\n",
        "The finally block always executes, whether an exception occurs or not.\n",
        "It is typically used for cleanup operations, such as closing files or releasing resources."
      ],
      "metadata": {
        "id": "RCrhahvFRWIO"
      }
    },
    {
      "cell_type": "code",
      "source": [
        "try:\n",
        "    f = open(\"test.txt\", \"w\")\n",
        "    f.write(\"Hello, World!\")\n",
        "finally:\n",
        "    f.close()\n",
        "    print(\"File closed successfully\")\n"
      ],
      "metadata": {
        "colab": {
          "base_uri": "https://localhost:8080/"
        },
        "id": "xgMs9apERXIO",
        "outputId": "dc08d858-d81f-4b49-9017-0263ae4a8ebf"
      },
      "execution_count": null,
      "outputs": [
        {
          "output_type": "stream",
          "name": "stdout",
          "text": [
            "File closed successfully\n"
          ]
        }
      ]
    },
    {
      "cell_type": "markdown",
      "source": [],
      "metadata": {
        "id": "UKfBA4IXRpko"
      }
    },
    {
      "cell_type": "markdown",
      "source": [
        "# raise\n",
        "The raise statement is used to manually throw an exception.\n",
        "It is useful when you want to trigger an error in certain conditions."
      ],
      "metadata": {
        "id": "OEHvFtNWRq_A"
      }
    },
    {
      "cell_type": "code",
      "source": [
        "raise ValueError(\"This is a custom error message\")\n"
      ],
      "metadata": {
        "colab": {
          "base_uri": "https://localhost:8080/",
          "height": 141
        },
        "id": "fuq5Rb7fRweR",
        "outputId": "4d612698-c540-4474-bdf7-6ad1e364b1cb"
      },
      "execution_count": null,
      "outputs": [
        {
          "output_type": "error",
          "ename": "ValueError",
          "evalue": "This is a custom error message",
          "traceback": [
            "\u001b[0;31m---------------------------------------------------------------------------\u001b[0m",
            "\u001b[0;31mValueError\u001b[0m                                Traceback (most recent call last)",
            "\u001b[0;32m<ipython-input-10-94b8d9da5c64>\u001b[0m in \u001b[0;36m<cell line: 0>\u001b[0;34m()\u001b[0m\n\u001b[0;32m----> 1\u001b[0;31m \u001b[0;32mraise\u001b[0m \u001b[0mValueError\u001b[0m\u001b[0;34m(\u001b[0m\u001b[0;34m\"This is a custom error message\"\u001b[0m\u001b[0;34m)\u001b[0m\u001b[0;34m\u001b[0m\u001b[0;34m\u001b[0m\u001b[0m\n\u001b[0m",
            "\u001b[0;31mValueError\u001b[0m: This is a custom error message"
          ]
        }
      ]
    },
    {
      "cell_type": "markdown",
      "source": [
        "# Q5. What are Custom Exceptions in Python? Why do we need Custom Exceptions? Explain with an example.\n",
        "\n",
        "## Answer:\n",
        "Custom exceptions in Python are user-defined exceptions that allow us to create specific error messages tailored to our application. Instead of relying only on built-in exceptions, we can define our own to handle unique situations.\n",
        "\n",
        "### Why do we need Custom Exceptions?\n",
        "1. **Better error handling** – Helps to catch and handle specific cases.\n",
        "2. **Improved readability** – Custom exceptions make the code more understandable.\n",
        "3. **More informative messages** – Allows detailed error messages based on application logic.\n",
        "\n",
        "---\n",
        "\n",
        "### Example: Defining and Using a Custom Exception\n",
        "```python\n",
        "class NegativeValueError(Exception):\n",
        "    \\\"\\\"\\\"Custom exception for negative values.\\\"\\\"\\\"\n",
        "    def __init__(self, message=\"Negative values are not allowed!\"):\n",
        "        self.message = message\n",
        "        super().__init__(self.message)\n",
        "\n",
        "def check_number(n):\n",
        "    if n < 0:\n",
        "        raise NegativeValueError()\n",
        "    else:\n",
        "        print(\"Valid number:\", n)\n",
        "\n",
        "try:\n",
        "    check_number(-5)\n",
        "except NegativeValueError as e:\n",
        "    print(\"Caught custom exception:\", e)\n"
      ],
      "metadata": {
        "id": "31dxHEkuSffN"
      }
    },
    {
      "cell_type": "code",
      "source": [],
      "metadata": {
        "id": "N4GaeLtDShKn"
      },
      "execution_count": null,
      "outputs": []
    },
    {
      "cell_type": "markdown",
      "source": [
        "##Explanation:\n",
        "NegativeValueError is a custom exception that extends Exception.\n",
        "The check_number function raises NegativeValueError if a negative number is passed.\n",
        "The try-except block handles the exception gracefully."
      ],
      "metadata": {
        "id": "MQhvUiOpS9Br"
      }
    },
    {
      "cell_type": "code",
      "source": [],
      "metadata": {
        "id": "wE89W37QTBw1"
      },
      "execution_count": null,
      "outputs": []
    },
    {
      "cell_type": "markdown",
      "source": [
        "# Q6. Create a custom exception class. Use this class to handle an exception.\n",
        "\n",
        "## Answer:\n",
        "A custom exception class allows us to define specific error conditions in a program. This improves error handling by making exceptions more meaningful.\n",
        "\n",
        "---\n",
        "\n",
        "### Example: Creating and Using a Custom Exception\n",
        "```python\n",
        "class AgeTooLowError(Exception):\n",
        "    \\\"\\\"\\\"Custom exception for age restriction.\\\"\\\"\\\"\n",
        "    def __init__(self, age, message=\"Age must be 18 or above\"):\n",
        "        self.age = age\n",
        "        self.message = message\n",
        "        super().__init__(self.message)\n",
        "\n",
        "def check_age(age):\n",
        "    if age < 18:\n",
        "        raise AgeTooLowError(age)\n",
        "    else:\n",
        "        print(\"Access granted!\")\n",
        "\n",
        "try:\n",
        "    check_age(15)\n",
        "except AgeTooLowError as e:\n",
        "    print(\"Exception caught:\", e)\n"
      ],
      "metadata": {
        "id": "_5gODpR9TJLy"
      }
    },
    {
      "cell_type": "code",
      "source": [],
      "metadata": {
        "id": "HV4KzpRDTYvw"
      },
      "execution_count": null,
      "outputs": []
    }
  ]
}