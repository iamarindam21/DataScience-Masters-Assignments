{
  "nbformat": 4,
  "nbformat_minor": 0,
  "metadata": {
    "colab": {
      "provenance": []
    },
    "kernelspec": {
      "name": "python3",
      "display_name": "Python 3"
    },
    "language_info": {
      "name": "python"
    }
  },
  "cells": [
    {
      "cell_type": "markdown",
      "source": [
        "# Q1. Explain why we have to use the Exception class while creating a Custom Exception.\n",
        "\n",
        "## Answer:\n",
        "In Python, all built-in exceptions are derived from the `Exception` class, which itself is a subclass of `BaseException`. When creating a custom exception, we inherit from the `Exception` class to ensure that our custom exception behaves like a standard exception.\n",
        "\n",
        "### Reasons for Using the Exception Class:\n",
        "1. **Consistency with Built-in Exceptions** – Custom exceptions should follow Python's built-in exception hierarchy.\n",
        "2. **Proper Exception Handling** – Allows custom exceptions to be caught using `except Exception as e`.\n",
        "3. **Access to Exception Features** – The `Exception` class provides useful methods like error messages and traceback support.\n",
        "4. **Integration with Python's Exception Handling Mechanism** – Works seamlessly with `try-except` blocks.\n",
        "\n",
        "---\n",
        "\n",
        "### Example: Custom Exception Inheriting from `Exception`\n",
        "```python\n",
        "class CustomError(Exception):\n",
        "    \\\"\\\"\\\"A custom exception class inheriting from Exception.\\\"\\\"\\\"\n",
        "    def __init__(self, message=\"This is a custom error\"):\n",
        "        self.message = message\n",
        "        super().__init__(self.message)\n",
        "\n",
        "try:\n",
        "    raise CustomError(\"Something went wrong!\")\n",
        "except CustomError as e:\n",
        "    print(\"Caught Custom Exception:\", e)\n"
      ],
      "metadata": {
        "id": "MqBTxU_jUu5y"
      }
    },
    {
      "cell_type": "markdown",
      "source": [
        "# Q2. Write a Python program to print Python Exception Hierarchy.\n",
        "\n",
        "## Answer:\n",
        "Python exceptions follow a hierarchical structure, where all exceptions are subclasses of `BaseException`. Below is a Python program to print the exception hierarchy using recursion.\n",
        "\n",
        "---\n",
        "\n",
        "### Example: Printing the Python Exception Hierarchy\n",
        "```python\n",
        "def print_exception_hierarchy(cls, level=0):\n",
        "    print(\"  \" * level + f\"- {cls.__name__}\")\n",
        "    for subclass in cls.__subclasses__():\n",
        "        print_exception_hierarchy(subclass, level + 1)\n",
        "\n",
        "# Print hierarchy starting from BaseException\n",
        "print_exception_hierarchy(BaseException)\n"
      ],
      "metadata": {
        "id": "kM0gJGMnUziE"
      }
    },
    {
      "cell_type": "code",
      "source": [],
      "metadata": {
        "id": "9k8qmkSZUvfZ"
      },
      "execution_count": null,
      "outputs": []
    },
    {
      "cell_type": "markdown",
      "source": [
        "# Q3. What errors are defined in the ArithmeticError class? Explain any two with an example.\n",
        "\n",
        "## Answer:\n",
        "The `ArithmeticError` class is a built-in exception in Python that serves as the base class for all errors that occur due to arithmetic operations. The following exceptions are derived from `ArithmeticError`:\n",
        "\n",
        "1. `ZeroDivisionError` – Raised when a number is divided by zero.\n",
        "2. `OverflowError` – Raised when a numerical operation exceeds the maximum limit for a numeric type.\n",
        "3. `FloatingPointError` – Raised when a floating-point operation fails (rare in Python as it is usually handled silently).\n",
        "\n",
        "---\n",
        "\n",
        "### 1. Example of `ZeroDivisionError"
      ],
      "metadata": {
        "id": "9YkROAS5WPJp"
      }
    },
    {
      "cell_type": "code",
      "source": [
        "try:\n",
        "    result = 10 / 0  # Division by zero\n",
        "except ZeroDivisionError as e:\n",
        "    print(\"Caught ZeroDivisionError:\", e)"
      ],
      "metadata": {
        "colab": {
          "base_uri": "https://localhost:8080/"
        },
        "id": "_e4DepNSVcBr",
        "outputId": "088bf984-a914-4cad-d52a-565c5e7f5e14"
      },
      "execution_count": 1,
      "outputs": [
        {
          "output_type": "stream",
          "name": "stdout",
          "text": [
            "Caught ZeroDivisionError: division by zero\n"
          ]
        }
      ]
    },
    {
      "cell_type": "code",
      "source": [],
      "metadata": {
        "id": "-JyO4oD3VfwP"
      },
      "execution_count": null,
      "outputs": []
    },
    {
      "cell_type": "markdown",
      "source": [
        "# Q4. Why is the LookupError class used? Explain with an example of KeyError and IndexError.\n",
        "\n",
        "## Answer:\n",
        "`LookupError` is a built-in Python exception class that serves as the base class for exceptions that occur when a key or index lookup fails in a sequence (like lists, dictionaries, tuples, etc.).\n",
        "\n",
        "### Exceptions under `LookupError`:\n",
        "1. **`KeyError`** – Raised when trying to access a dictionary key that does not exist.\n",
        "2. **`IndexError`** – Raised when trying to access an invalid index in a sequence.\n",
        "\n",
        "---\n",
        "\n",
        "### 1. Example of `KeyError`"
      ],
      "metadata": {
        "id": "acGLth6jWsUX"
      }
    },
    {
      "cell_type": "code",
      "source": [
        "try:\n",
        "    my_dict = {\"name\": \"Alice\", \"age\": 25}\n",
        "    print(my_dict[\"city\"])  # Key does not exist\n",
        "except KeyError as e:\n",
        "    print(\"Caught KeyError:\", e)"
      ],
      "metadata": {
        "colab": {
          "base_uri": "https://localhost:8080/"
        },
        "id": "5-SdmQk6WtNg",
        "outputId": "08e06cdc-da9e-463c-c10b-ce940217bea1"
      },
      "execution_count": 2,
      "outputs": [
        {
          "output_type": "stream",
          "name": "stdout",
          "text": [
            "Caught KeyError: 'city'\n"
          ]
        }
      ]
    },
    {
      "cell_type": "markdown",
      "source": [
        " ## Example of IndexError"
      ],
      "metadata": {
        "id": "ekdmosNjW7uG"
      }
    },
    {
      "cell_type": "code",
      "source": [
        "try:\n",
        "    my_list = [10, 20, 30]\n",
        "    print(my_list[5])  # Index out of range\n",
        "except IndexError as e:\n",
        "    print(\"Caught IndexError:\", e)\n"
      ],
      "metadata": {
        "colab": {
          "base_uri": "https://localhost:8080/"
        },
        "id": "mbGfykJJW9Wo",
        "outputId": "12950776-761a-43d4-c95a-eba62cee2394"
      },
      "execution_count": 3,
      "outputs": [
        {
          "output_type": "stream",
          "name": "stdout",
          "text": [
            "Caught IndexError: list index out of range\n"
          ]
        }
      ]
    },
    {
      "cell_type": "code",
      "source": [],
      "metadata": {
        "id": "AvFZbPKsXHjw"
      },
      "execution_count": null,
      "outputs": []
    },
    {
      "cell_type": "markdown",
      "source": [
        "# Q5. Explain ImportError. What is ModuleNotFoundError?\n",
        "\n",
        "## Answer:\n",
        "\n",
        "### **What is ImportError?**\n",
        "`ImportError` is a built-in exception in Python that occurs when an import statement fails. This can happen due to:\n",
        "- The module not being installed.\n",
        "- The module name being incorrect.\n",
        "- Errors within the module itself.\n",
        "\n",
        "---\n",
        "\n",
        "### **What is ModuleNotFoundError?**\n",
        "`ModuleNotFoundError` is a subclass of `ImportError`, introduced in Python 3.6. It specifically occurs when a module cannot be found.\n",
        "\n",
        "---\n",
        "\n",
        "\n"
      ],
      "metadata": {
        "id": "_6vqLkkpX-Vx"
      }
    },
    {
      "cell_type": "markdown",
      "source": [
        "## Example of ImportError"
      ],
      "metadata": {
        "id": "kMKdmm0UX9Xp"
      }
    },
    {
      "cell_type": "code",
      "source": [
        "try:\n",
        "    from math import unknown_function  # math module has no function named 'unknown_function'\n",
        "except ImportError as e:\n",
        "    print(\"Caught ImportError:\", e)"
      ],
      "metadata": {
        "colab": {
          "base_uri": "https://localhost:8080/"
        },
        "id": "Il7mF23gYA0J",
        "outputId": "f12fd647-93c9-4fc8-9d17-509947741f29"
      },
      "execution_count": 4,
      "outputs": [
        {
          "output_type": "stream",
          "name": "stdout",
          "text": [
            "Caught ImportError: cannot import name 'unknown_function' from 'math' (unknown location)\n"
          ]
        }
      ]
    },
    {
      "cell_type": "markdown",
      "source": [
        "## Example of ModuleNotFoundError"
      ],
      "metadata": {
        "id": "bHKVD7UgYY25"
      }
    },
    {
      "cell_type": "code",
      "source": [
        "try:\n",
        "    import nonexistent_module  # This module does not exist\n",
        "except ModuleNotFoundError as e:\n",
        "    print(\"Caught ModuleNotFoundError:\", e)\n"
      ],
      "metadata": {
        "colab": {
          "base_uri": "https://localhost:8080/"
        },
        "id": "yQk3l3lPYEpC",
        "outputId": "4e0eede6-5d16-48a9-8042-c47a4cf2a7d3"
      },
      "execution_count": 5,
      "outputs": [
        {
          "output_type": "stream",
          "name": "stdout",
          "text": [
            "Caught ModuleNotFoundError: No module named 'nonexistent_module'\n"
          ]
        }
      ]
    },
    {
      "cell_type": "code",
      "source": [],
      "metadata": {
        "id": "qlVA55CmYsSr"
      },
      "execution_count": null,
      "outputs": []
    },
    {
      "cell_type": "markdown",
      "source": [
        "# Q6. List down some best practices for exception handling in Python.\n",
        "\n",
        "## Answer:\n",
        "Exception handling is crucial for writing robust and error-free programs. Below are some best practices to follow when handling exceptions in Python.\n",
        "\n",
        "---\n",
        "\n",
        "### **1. Use Specific Exceptions**\n",
        "Catch only the exceptions you expect, rather than using a generic `except Exception`.\n",
        "\n",
        "####  Good Practice:\n",
        "```python\n",
        "try:\n",
        "    result = 10 / 0\n",
        "except ZeroDivisionError as e:\n",
        "    print(\"Error: Division by zero is not allowed.\", e)\n"
      ],
      "metadata": {
        "id": "5Sy3kpPSZCOf"
      }
    },
    {
      "cell_type": "markdown",
      "source": [],
      "metadata": {
        "id": "IVIfG7jzZBTL"
      }
    }
  ]
}