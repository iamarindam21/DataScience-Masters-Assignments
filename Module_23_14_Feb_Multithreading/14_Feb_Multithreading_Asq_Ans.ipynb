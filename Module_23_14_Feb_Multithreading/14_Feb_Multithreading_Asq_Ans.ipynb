{
  "nbformat": 4,
  "nbformat_minor": 0,
  "metadata": {
    "colab": {
      "provenance": []
    },
    "kernelspec": {
      "name": "python3",
      "display_name": "Python 3"
    },
    "language_info": {
      "name": "python"
    }
  },
  "cells": [
    {
      "cell_type": "markdown",
      "source": [
        "# Q1.  What is Multithreading in Python?  \n",
        "\n",
        "## Multithreading in Python refers to the ability of a program to run multiple threads (smaller units of a process) concurrently. It is used to perform multiple tasks simultaneously, improving the efficiency of I/O-bound programs. However, due to the Global Interpreter Lock (GIL), Python threads do not achieve true parallelism for CPU-bound tasks.  \n",
        "\n",
        "## **Why is Multithreading Used?**  \n",
        "- To perform multiple tasks concurrently.  \n",
        "- To improve performance in I/O-bound operations (e.g., file handling, network requests).  \n",
        "- To avoid blocking operations and make applications more responsive.  \n",
        "\n",
        "## **Module Used for Multithreading**  \n",
        "Python provides the `threading` module to handle threads.  \n",
        "\n",
        "### **Example: Implementing Multithreading in Python**  "
      ],
      "metadata": {
        "id": "Y0kz_DeiK2c0"
      }
    },
    {
      "cell_type": "markdown",
      "source": [],
      "metadata": {
        "id": "bznw1wVMK1hD"
      }
    },
    {
      "cell_type": "markdown",
      "source": [
        "# Q2. Why is the `threading` module used?\n",
        "\n",
        "## The `threading` module in Python is used for creating and managing threads. It allows developers to execute multiple threads concurrently, making programs more efficient, especially for I/O-bound tasks. This module provides various methods to handle thread creation, synchronization, and execution.\n",
        "\n",
        "## **Uses of the Following Functions:**\n",
        "\n",
        "### 1. `threading.activeCount()`\n",
        "   - Returns the number of currently active threads.\n",
        "   - Useful for monitoring the number of threads running in a program."
      ],
      "metadata": {
        "id": "kkuyjWsuK-Uo"
      }
    },
    {
      "cell_type": "markdown",
      "source": [
        "# Q3. Explanation of Threading Functions  \n",
        "\n",
        "## **1. `run()`**\n",
        "- The `run()` method defines the behavior of a thread when it is started using `start()`.  \n",
        "- It is typically overridden in a subclass when creating a custom thread.  \n",
        "- It is not called directly; instead, the `start()` method is used to invoke it.\n",
        "##example"
      ],
      "metadata": {
        "id": "DX4BhvJALeq3"
      }
    },
    {
      "cell_type": "code",
      "source": [
        "import threading\n",
        "\n",
        "class MyThread(threading.Thread):\n",
        "    def run(self):\n",
        "        print(\"Thread is running...\")\n",
        "\n",
        "t = MyThread()\n",
        "t.run()  # This will execute the run() method like a normal function, not as a separate thread."
      ],
      "metadata": {
        "colab": {
          "base_uri": "https://localhost:8080/"
        },
        "id": "wosl2WlcLfSd",
        "outputId": "69df550f-3c26-4bda-d426-295130717767"
      },
      "execution_count": 1,
      "outputs": [
        {
          "output_type": "stream",
          "name": "stdout",
          "text": [
            "Thread is running...\n"
          ]
        }
      ]
    },
    {
      "cell_type": "code",
      "source": [],
      "metadata": {
        "id": "DpaiS_46LsxI"
      },
      "execution_count": null,
      "outputs": []
    },
    {
      "cell_type": "markdown",
      "source": [
        "## 2.start()\n",
        "The start() method initiates a new thread and calls the run() method internally.\n",
        "It must be called once per thread object; calling it multiple times results in an error.\n",
        "###Example:"
      ],
      "metadata": {
        "id": "rf6AP_LwLxeK"
      }
    },
    {
      "cell_type": "code",
      "source": [
        "t.start()  # This will execute the run() method in a separate thread.\n"
      ],
      "metadata": {
        "colab": {
          "base_uri": "https://localhost:8080/"
        },
        "id": "F9YCNyyGL3Sl",
        "outputId": "c26b93e3-7a4e-4223-974e-671051503d69"
      },
      "execution_count": 2,
      "outputs": [
        {
          "output_type": "stream",
          "name": "stdout",
          "text": [
            "Thread is running...\n"
          ]
        }
      ]
    },
    {
      "cell_type": "code",
      "source": [],
      "metadata": {
        "id": "ZNl42GPwL-66"
      },
      "execution_count": null,
      "outputs": []
    },
    {
      "cell_type": "markdown",
      "source": [
        "# 3. join()\n",
        "The join() method makes the calling thread wait until the thread on which join() is called finishes execution.\n",
        "It ensures that the main program waits for the thread to complete before moving forward.\n",
        "##Example:"
      ],
      "metadata": {
        "id": "0zGHdMYFL_t-"
      }
    },
    {
      "cell_type": "code",
      "source": [
        "import threading\n",
        "import time\n",
        "\n",
        "def task():\n",
        "    time.sleep(2)\n",
        "    print(\"Task completed!\")\n",
        "\n",
        "t = threading.Thread(target=task)\n",
        "t.start()\n",
        "t.join()  # Main thread waits for 't' to complete\n",
        "print(\"Main thread execution continues.\")\n"
      ],
      "metadata": {
        "colab": {
          "base_uri": "https://localhost:8080/"
        },
        "id": "L0YL38n6MESL",
        "outputId": "9a179512-cee6-4359-981d-868f67edc8c0"
      },
      "execution_count": 3,
      "outputs": [
        {
          "output_type": "stream",
          "name": "stdout",
          "text": [
            "Task completed!\n",
            "Main thread execution continues.\n"
          ]
        }
      ]
    },
    {
      "cell_type": "markdown",
      "source": [
        "# 4. isAlive() (Deprecated in Python 3.9, replaced by is_alive())\n",
        "The isAlive() method checks whether a thread is still running.\n",
        "In Python 3.9+, use is_alive() instead.\n",
        "##Example:"
      ],
      "metadata": {
        "id": "FkmP69LNMoJs"
      }
    },
    {
      "cell_type": "code",
      "source": [
        "import threading\n",
        "import time\n",
        "\n",
        "def task():\n",
        "    time.sleep(2)\n",
        "\n",
        "t = threading.Thread(target=task)\n",
        "t.start()\n",
        "\n",
        "print(\"Is thread alive?\", t.is_alive())  # Returns True if thread is running\n",
        "t.join()\n",
        "print(\"Is thread alive after join?\", t.is_alive())  # Returns False after completion\n"
      ],
      "metadata": {
        "colab": {
          "base_uri": "https://localhost:8080/"
        },
        "id": "ZjUuaEvNMu-Q",
        "outputId": "b5fd4b98-dea0-47ee-a248-01266f9f2ff4"
      },
      "execution_count": 4,
      "outputs": [
        {
          "output_type": "stream",
          "name": "stdout",
          "text": [
            "Is thread alive? True\n",
            "Is thread alive after join? False\n"
          ]
        }
      ]
    },
    {
      "cell_type": "markdown",
      "source": [
        "# Q4. Write a python program to create two threads. Thread one must print the list of squares and thread two must print the list of cubes."
      ],
      "metadata": {
        "id": "lyOmkivFNHQa"
      }
    },
    {
      "cell_type": "code",
      "source": [
        "import threading\n",
        "\n",
        "def print_squares():\n",
        "    squares = [x**2 for x in range(1, 6)]\n",
        "    print(\"Squares:\", squares)\n",
        "\n",
        "def print_cubes():\n",
        "    cubes = [x**3 for x in range(1, 6)]\n",
        "    print(\"Cubes:\", cubes)\n",
        "\n",
        "# Creating threads\n",
        "thread1 = threading.Thread(target=print_squares)\n",
        "thread2 = threading.Thread(target=print_cubes)\n",
        "\n",
        "# Starting threads\n",
        "thread1.start()\n",
        "thread2.start()\n",
        "\n",
        "# Waiting for both threads to finish\n",
        "thread1.join()\n",
        "thread2.join()\n",
        "\n",
        "print(\"Both threads have finished execution.\")\n",
        "\n"
      ],
      "metadata": {
        "colab": {
          "base_uri": "https://localhost:8080/"
        },
        "id": "ceX82cZbNKA4",
        "outputId": "9a918b5f-b379-4f20-a6df-f93debeb5e4c"
      },
      "execution_count": 5,
      "outputs": [
        {
          "output_type": "stream",
          "name": "stdout",
          "text": [
            "Squares: [1, 4, 9, 16, 25]\n",
            "Cubes: [1, 8, 27, 64, 125]\n",
            "Both threads have finished execution.\n"
          ]
        }
      ]
    },
    {
      "cell_type": "code",
      "source": [],
      "metadata": {
        "id": "EWuaWP5YNPO4"
      },
      "execution_count": null,
      "outputs": []
    },
    {
      "cell_type": "markdown",
      "source": [
        "# Q5. Advantages and Disadvantages of Multithreading  \n",
        "\n",
        "## **Advantages of Multithreading**  \n",
        "\n",
        "1. **Increased Responsiveness**  \n",
        "   - Multithreading makes applications more responsive, especially in GUI-based programs, by keeping the user interface active while performing background tasks.  \n",
        "\n",
        "2. **Efficient CPU Utilization**  \n",
        "   - It helps in utilizing CPU resources efficiently by running multiple threads concurrently.  \n",
        "\n",
        "3. **Faster Execution for I/O-bound Tasks**  \n",
        "   - Threads allow faster execution of I/O-bound operations such as file handling, database queries, and network requests.  \n",
        "\n",
        "4. **Better Resource Sharing**  \n",
        "   - Multiple threads share the same memory space, reducing the overhead of creating separate processes.  \n",
        "\n",
        "5. **Concurrency**  \n",
        "   - It enables performing multiple operations at the same time, improving overall program performance.  \n",
        "\n",
        "---\n",
        "\n",
        "## **Disadvantages of Multithreading**  \n",
        "\n",
        "1. **Global Interpreter Lock (GIL) in Python**  \n",
        "   - Python's GIL restricts true parallel execution of threads for CPU-bound tasks, limiting performance gains.  \n",
        "\n",
        "2. **Complex Debugging**  \n",
        "   - Debugging multithreaded programs can be challenging due to race conditions and unpredictable thread scheduling.  \n",
        "\n",
        "3. **Increased Overhead**  \n",
        "   - Managing multiple threads requires synchronization mechanisms, which can add complexity and consume resources.  \n",
        "\n",
        "4. **Deadlocks and Race Conditions**  \n",
        "   - Improper thread synchronization can lead to deadlocks (where threads wait indefinitely) and race conditions (where multiple threads access shared data inconsistently).  \n",
        "\n",
        "5. **Context Switching Overhead**  \n",
        "   - Rapid switching between threads can lead to performance degradation due to frequent context switching.  \n",
        "\n",
        "---\n",
        "\n",
        "## **Conclusion**  \n",
        "Multithreading is beneficial for improving efficiency in I/O-bound tasks but has limitations for CPU-bound tasks in Python due to the GIL. Proper synchronization and careful management are required to avoid potential pitfalls like race conditions and deadlocks.\n"
      ],
      "metadata": {
        "id": "UIfRW6hVNQ9p"
      }
    },
    {
      "cell_type": "markdown",
      "source": [
        "# Q6. Deadlocks and Race Conditions  \n",
        "\n",
        "## **1. Deadlock**  \n",
        "\n",
        "### **Definition:**  \n",
        "A deadlock occurs when two or more threads are waiting for each other to release resources, resulting in an indefinite halt in execution.  \n",
        "\n",
        "### **Example Scenario:**  \n",
        "- Thread A locks Resource 1 and waits for Resource 2.  \n",
        "- Thread B locks Resource 2 and waits for Resource 1.  \n",
        "- Neither thread can proceed, leading to a deadlock."
      ],
      "metadata": {
        "id": "JEn52b9vNez5"
      }
    },
    {
      "cell_type": "code",
      "source": [
        "import threading\n",
        "import time\n",
        "\n",
        "lock1 = threading.Lock()\n",
        "lock2 = threading.Lock()\n",
        "\n",
        "def thread1():\n",
        "    lock1.acquire()\n",
        "    print(\"Thread 1 acquired lock 1\")\n",
        "    time.sleep(1)\n",
        "\n",
        "    lock2.acquire()\n",
        "    print(\"Thread 1 acquired lock 2\")\n",
        "\n",
        "    lock2.release()\n",
        "    lock1.release()\n",
        "\n",
        "def thread2():\n",
        "    lock2.acquire()\n",
        "    print(\"Thread 2 acquired lock 2\")\n",
        "    time.sleep(1)\n",
        "\n",
        "    lock1.acquire()\n",
        "    print(\"Thread 2 acquired lock 1\")\n",
        "\n",
        "    lock1.release()\n",
        "    lock2.release()\n",
        "\n",
        "t1 = threading.Thread(target=thread1)\n",
        "t2 = threading.Thread(target=thread2)\n",
        "\n",
        "t1.start()\n",
        "t2.start()\n",
        "\n",
        "t1.join()\n",
        "t2.join()\n"
      ],
      "metadata": {
        "colab": {
          "base_uri": "https://localhost:8080/"
        },
        "id": "PCsD8ElgNy60",
        "outputId": "8bc90f52-c6fb-4ca8-c90e-3812a4fb0a74"
      },
      "execution_count": null,
      "outputs": [
        {
          "output_type": "stream",
          "name": "stdout",
          "text": [
            "Thread 1 acquired lock 1Thread 2 acquired lock 2\n",
            "\n"
          ]
        }
      ]
    },
    {
      "cell_type": "markdown",
      "source": [
        "# 2. Race Condition\n",
        "Definition:\n",
        "A race condition occurs when multiple threads access shared data simultaneously, leading to unpredictable and incorrect behavior.\n",
        "\n",
        "##Example Scenario:\n",
        "Two threads try to update a shared variable at the same time.\n",
        "The final value depends on which thread executes last, leading to inconsistent results."
      ],
      "metadata": {
        "id": "Lc0m5LHON5ZQ"
      }
    },
    {
      "cell_type": "code",
      "source": [],
      "metadata": {
        "id": "cqj1KmU2N9tX"
      },
      "execution_count": null,
      "outputs": []
    },
    {
      "cell_type": "code",
      "source": [
        "import threading\n",
        "\n",
        "counter = 0\n",
        "lock = threading.Lock()\n",
        "\n",
        "def increment():\n",
        "    global counter\n",
        "    for _ in range(100000):\n",
        "        lock.acquire()\n",
        "        counter += 1\n",
        "        lock.release()\n",
        "\n",
        "t1 = threading.Thread(target=increment)\n",
        "t2 = threading.Thread(target=increment)\n",
        "\n",
        "t1.start()\n",
        "t2.start()\n",
        "\n",
        "t1.join()\n",
        "t2.join()\n",
        "\n",
        "print(\"Final Counter Value:\", counter)\n"
      ],
      "metadata": {
        "colab": {
          "base_uri": "https://localhost:8080/"
        },
        "id": "xnMB0iEPOEho",
        "outputId": "363a2d82-58b0-4e94-d628-1d892671e472"
      },
      "execution_count": 6,
      "outputs": [
        {
          "output_type": "stream",
          "name": "stdout",
          "text": [
            "Final Counter Value: 200000\n"
          ]
        }
      ]
    },
    {
      "cell_type": "code",
      "source": [],
      "metadata": {
        "id": "BBj_dUHpOHHS"
      },
      "execution_count": null,
      "outputs": []
    }
  ]
}