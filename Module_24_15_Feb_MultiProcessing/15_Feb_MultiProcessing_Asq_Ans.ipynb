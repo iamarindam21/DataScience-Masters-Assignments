{
  "nbformat": 4,
  "nbformat_minor": 0,
  "metadata": {
    "colab": {
      "provenance": []
    },
    "kernelspec": {
      "name": "python3",
      "display_name": "Python 3"
    },
    "language_info": {
      "name": "python"
    }
  },
  "cells": [
    {
      "cell_type": "markdown",
      "source": [
        "# Q1. What is Multiprocessing in Python? Why is it Useful?\n",
        "\n",
        "## **What is Multiprocessing?**  \n",
        "Multiprocessing in Python refers to the ability to run multiple processes simultaneously, utilizing multiple CPU cores. It is achieved using the `multiprocessing` module, which creates separate memory spaces for each process.  \n",
        "\n",
        "Unlike multithreading, multiprocessing allows true parallel execution of CPU-bound tasks because each process runs independently, bypassing Python’s Global Interpreter Lock (GIL).\n",
        "\n",
        "---\n",
        "\n",
        "## **Why is Multiprocessing Useful?**\n",
        "\n",
        "### **1. True Parallel Execution**  \n",
        "- Unlike multithreading, multiprocessing enables true parallelism by running processes on multiple CPU cores.  \n",
        "- It is beneficial for CPU-intensive tasks like mathematical computations and data processing.  \n",
        "\n",
        "### **2. Bypasses the Global Interpreter Lock (GIL)**  \n",
        "- Python’s GIL restricts threads from running in parallel on multiple cores, but multiprocessing creates separate processes, avoiding this limitation.  \n",
        "\n",
        "### **3. Better Performance for CPU-bound Tasks**  \n",
        "- Tasks such as image processing, video rendering, and large-scale computations benefit from multiprocessing because they can utilize multiple CPU cores efficiently.  \n",
        "\n",
        "### **4. Independent Memory Space**  \n",
        "- Each process has its own memory space, reducing the risk of data corruption and race conditions."
      ],
      "metadata": {
        "id": "INSGvHd9PMV5"
      }
    },
    {
      "cell_type": "markdown",
      "source": [
        "# Q2. Differences Between Multiprocessing and Multithreading  \n",
        "\n",
        "Multiprocessing and multithreading are two techniques used to achieve concurrency in Python. However, they have fundamental differences in execution, resource utilization, and use cases.\n",
        "\n",
        "---\n",
        "\n",
        "## **Key Differences**\n",
        "\n",
        "| Feature         | Multiprocessing                                   | Multithreading                                  |\n",
        "|---------------|--------------------------------------------------|----------------------------------------------|\n",
        "| **Definition** | Creates multiple processes with separate memory spaces. | Creates multiple threads within the same process. |\n",
        "| **Memory Usage** | Each process has its own memory space (high memory usage). | Threads share the same memory space (low memory usage). |\n",
        "| **Execution** | True parallel execution on multiple CPU cores. | Threads execute concurrently but not in true parallel due to GIL. |\n",
        "| **Best for** | CPU-bound tasks (e.g., calculations, data processing). | I/O-bound tasks (e.g., file I/O, web scraping, networking). |\n",
        "| **Global Interpreter Lock (GIL)** | Bypasses GIL, allowing multiple cores to be used. | Affected by GIL, limiting execution to one thread at a time. |\n",
        "| **Overhead** | Higher overhead due to process creation and inter-process communication. | Lower overhead, as threads share memory and resources. |\n",
        "| **Speed** | Faster for CPU-intensive tasks. | Faster for I/O-intensive tasks. |\n",
        "| **Communication** | Requires inter-process communication (IPC) mechanisms (e.g., pipes, queues). | Threads can directly share variables and data. |\n",
        "| **Crash Handling** | A crash in one process does not affect others. | A crash in one thread can affect the entire program. |\n",
        "\n",
        "---"
      ],
      "metadata": {
        "id": "xNBgFMA0PRW8"
      }
    },
    {
      "cell_type": "code",
      "source": [],
      "metadata": {
        "id": "wb4XjbcAPNM6"
      },
      "execution_count": null,
      "outputs": []
    },
    {
      "cell_type": "markdown",
      "source": [
        "# Q3. Write a python code to create a process using the multiprocessing module.  \n"
      ],
      "metadata": {
        "id": "dPioCW7iPugW"
      }
    },
    {
      "cell_type": "code",
      "source": [
        "import multiprocessing\n",
        "\n",
        "def print_message():\n",
        "    print(\"Hello from the child process!\")\n",
        "\n",
        "if __name__ == \"__main__\":\n",
        "    # Creating a process\n",
        "    process = multiprocessing.Process(target=print_message)\n",
        "\n",
        "    # Starting the process\n",
        "    process.start()\n",
        "\n",
        "    # Waiting for the process to complete\n",
        "    process.join()\n",
        "\n",
        "    print(\"Main process execution completed.\")\n"
      ],
      "metadata": {
        "colab": {
          "base_uri": "https://localhost:8080/"
        },
        "id": "UbXe8TSeP8Ht",
        "outputId": "a5edd9be-24a5-4e43-e09a-8077f679fc14"
      },
      "execution_count": 1,
      "outputs": [
        {
          "output_type": "stream",
          "name": "stdout",
          "text": [
            "Hello from the child process!\n",
            "Main process execution completed.\n"
          ]
        }
      ]
    },
    {
      "cell_type": "markdown",
      "source": [
        "# Q4. What is a Multiprocessing Pool in Python? Why is it Used?\n",
        "\n",
        "## **What is a Multiprocessing Pool?**  \n",
        "A **multiprocessing pool** in Python refers to a collection of worker processes that can execute tasks concurrently. It is part of the `multiprocessing` module, which provides a high-level interface for parallel execution. The pool can distribute a set of tasks to a pool of worker processes, making it easier to parallelize computations.\n",
        "\n",
        "The pool of workers operates in parallel, and each worker executes a portion of the tasks. This allows you to efficiently manage and scale tasks across multiple CPU cores.\n",
        "\n",
        "### **Key Components:**\n",
        "- **Pool**: A pool of worker processes.\n",
        "- **apply() / apply_async()**: Methods to execute functions on a worker process in the pool.\n",
        "- **map() / map_async()**: Methods for distributing an iterable of tasks to the worker pool.\n",
        "\n",
        "---\n",
        "\n",
        "## **Why is it Used?**\n",
        "\n",
        "### **1. Parallel Execution of Tasks**  \n",
        "A pool allows you to parallelize CPU-intensive tasks, dividing them into smaller chunks and running them on multiple CPU cores simultaneously. This leads to faster execution.\n",
        "\n",
        "### **2. Improved Resource Management**  \n",
        "The pool provides a more efficient way of managing multiple worker processes, as it handles the process creation and cleanup automatically, saving memory and resources.\n",
        "\n",
        "### **3. Easy Distribution of Tasks**  \n",
        "Using a pool simplifies the distribution of tasks. You don’t have to manually create and manage processes for each task.\n",
        "\n",
        "### **4. Better Performance**  \n",
        "By running multiple processes concurrently, a pool can significantly improve the performance of CPU-bound tasks by utilizing the full power of the machine’s cores.\n",
        "\n",
        "---"
      ],
      "metadata": {
        "id": "galb7F5dQGBs"
      }
    },
    {
      "cell_type": "code",
      "source": [],
      "metadata": {
        "id": "un9882urQBuz"
      },
      "execution_count": null,
      "outputs": []
    },
    {
      "cell_type": "markdown",
      "source": [
        "# Q5. How Can We Create a Pool of Worker Processes in Python Using the Multiprocessing Module?\n",
        "\n",
        "To create a pool of worker processes in Python, we use the `multiprocessing.Pool` class. This allows us to parallelize the execution of a function across multiple processes. The `Pool` manages a set of worker processes, assigns tasks to them, and returns the results.\n",
        "\n",
        "## **Steps to Create a Pool of Worker Processes:**\n",
        "1. **Import the `multiprocessing` module.**\n",
        "2. **Create a `Pool` object** by specifying the number of worker processes.\n",
        "3. **Use methods like `map()` or `apply()`** to assign tasks to the workers in the pool.\n",
        "4. **Close and join the pool** to ensure all worker processes complete their tasks before the program exits.\n",
        "\n",
        "---\n",
        "\n",
        "### **Example: Creating a Pool of Worker Processes**"
      ],
      "metadata": {
        "id": "K2QZ-boEQhg6"
      }
    },
    {
      "cell_type": "code",
      "source": [
        "import multiprocessing\n",
        "\n",
        "def square(number):\n",
        "    return number * number\n",
        "\n",
        "if __name__ == \"__main__\":\n",
        "    numbers = [1, 2, 3, 4, 5]\n",
        "\n",
        "    # Create a Pool of 4 worker processes\n",
        "    with multiprocessing.Pool(processes=4) as pool:\n",
        "        # Distribute tasks to the pool and get the results\n",
        "        result = pool.map(square, numbers)\n",
        "\n",
        "    print(\"Squares:\", result)"
      ],
      "metadata": {
        "colab": {
          "base_uri": "https://localhost:8080/"
        },
        "id": "Y2Cb5PqwQiOL",
        "outputId": "d743554c-415b-4251-cf8e-ee03e4760d2e"
      },
      "execution_count": 2,
      "outputs": [
        {
          "output_type": "stream",
          "name": "stdout",
          "text": [
            "Squares: [1, 4, 9, 16, 25]\n"
          ]
        }
      ]
    },
    {
      "cell_type": "code",
      "source": [],
      "metadata": {
        "id": "F09bTcdGQmj0"
      },
      "execution_count": null,
      "outputs": []
    },
    {
      "cell_type": "markdown",
      "source": [
        "# Q6. Write a python program to create 4 processes, each process should print a different number using the multiprocessing module in python."
      ],
      "metadata": {
        "id": "WUYJTn7yQvFh"
      }
    },
    {
      "cell_type": "code",
      "source": [
        "import multiprocessing\n",
        "\n",
        "def print_number(number):\n",
        "    \"\"\"Function to print the given number.\"\"\"\n",
        "    print(f\"Process {multiprocessing.current_process().name}: {number}\")\n",
        "\n",
        "if __name__ == \"__main__\":\n",
        "    numbers = [10, 20, 30, 40]  # Different numbers to print\n",
        "\n",
        "    processes = []  # List to store process objects\n",
        "\n",
        "    # Creating 4 processes\n",
        "    for i in range(4):\n",
        "        process = multiprocessing.Process(target=print_number, args=(numbers[i],))\n",
        "        processes.append(process)\n",
        "        process.start()  # Start the process\n",
        "\n",
        "    # Wait for all processes to finish\n",
        "    for process in processes:\n",
        "        process.join()\n",
        "\n",
        "    print(\"All processes have finished execution.\")\n"
      ],
      "metadata": {
        "colab": {
          "base_uri": "https://localhost:8080/"
        },
        "id": "ZL4RDtZbQxUk",
        "outputId": "b0d11b7b-193f-46bd-f2ec-1a051378cab0"
      },
      "execution_count": 3,
      "outputs": [
        {
          "output_type": "stream",
          "name": "stdout",
          "text": [
            "Process Process-6: 10Process Process-7: 20\n",
            "\n",
            "Process Process-8: 30\n",
            "Process Process-9: 40All processes have finished execution.\n",
            "\n"
          ]
        }
      ]
    },
    {
      "cell_type": "code",
      "source": [],
      "metadata": {
        "id": "mNpGS6J6Q3Sp"
      },
      "execution_count": null,
      "outputs": []
    }
  ]
}