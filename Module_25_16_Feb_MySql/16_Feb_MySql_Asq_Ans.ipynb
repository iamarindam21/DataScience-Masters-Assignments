{
  "nbformat": 4,
  "nbformat_minor": 0,
  "metadata": {
    "colab": {
      "provenance": []
    },
    "kernelspec": {
      "name": "python3",
      "display_name": "Python 3"
    },
    "language_info": {
      "name": "python"
    }
  },
  "cells": [
    {
      "cell_type": "code",
      "execution_count": null,
      "metadata": {
        "id": "sRliAS7xRN0F"
      },
      "outputs": [],
      "source": []
    },
    {
      "cell_type": "markdown",
      "source": [
        "# Q1. What is a Database? Differentiate Between SQL and NoSQL Databases.\n",
        "\n",
        "## **What is a Database?**  \n",
        "A **database** is an organized collection of data that allows for efficient storage, retrieval, and management of information. Databases are used in applications to store structured or unstructured data and provide functionalities like querying, updating, and deleting records.\n",
        "\n",
        "Databases can be broadly categorized into two types:\n",
        "1. **SQL Databases (Relational)**\n",
        "2. **NoSQL Databases (Non-Relational)**\n",
        "\n",
        "---\n",
        "\n",
        "## **Differences Between SQL and NoSQL Databases**\n",
        "\n",
        "| Feature         | SQL Databases (Relational)               | NoSQL Databases (Non-Relational)            |\n",
        "|---------------|----------------------------------|----------------------------------|\n",
        "| **Structure**  | Uses structured, tabular data with predefined schemas. | Uses flexible, schema-less data models. |\n",
        "| **Data Model** | Tables with rows and columns.  | Key-Value, Document, Column-Family, or Graph models. |\n",
        "| **Schema**     | Strict schema; data must follow a predefined structure. | Dynamic schema; allows flexible data storage. |\n",
        "| **Scalability** | Vertically scalable (by increasing hardware power). | Horizontally scalable (by adding more servers). |\n",
        "| **Query Language** | Uses SQL (Structured Query Language). | Uses various query methods depending on the database (e.g., JSON-based queries in MongoDB). |\n",
        "| **ACID Compliance** | Fully ACID-compliant (Atomicity, Consistency, Isolation, Durability). | May sacrifice ACID for better performance (uses BASE - Basically Available, Soft state, Eventually consistent). |\n",
        "| **Best For**   | Complex queries, transactions, and structured data. | Big Data, real-time applications, and unstructured or semi-structured data. |\n",
        "| **Examples**   | MySQL, PostgreSQL, Oracle, SQL Server. | MongoDB, Cassandra, Redis, Firebase, CouchDB. |\n",
        "\n",
        "---"
      ],
      "metadata": {
        "id": "F7xfrjRfRwze"
      }
    },
    {
      "cell_type": "markdown",
      "source": [
        "# Q2. What is DDL? Explain CREATE, DROP, ALTER, and TRUNCATE with Examples.\n",
        "\n",
        "## **What is DDL?**  \n",
        "DDL (Data Definition Language) is a subset of SQL commands used to define, modify, and manage database structures such as tables, indexes, and schemas. DDL commands do not manipulate the data inside tables; instead, they define and modify database objects.\n",
        "\n",
        "### **Key DDL Commands:**\n",
        "1. **`CREATE`** - Creates new tables, databases, or other objects.\n",
        "2. **`DROP`** - Deletes existing tables, databases, or objects permanently.\n",
        "3. **`ALTER`** - Modifies the structure of an existing table.\n",
        "4. **`TRUNCATE`** - Removes all data from a table but keeps the structure.\n",
        "\n",
        "---\n",
        "# Why CREATE, DROP, ALTER, and TRUNCATE are Used\n",
        "\n",
        "## **1. CREATE**  \n",
        "The `CREATE` statement is used to define new database objects such as tables, databases, views, or indexes. It is essential for structuring and organizing data storage.\n",
        "\n",
        "### **Use Case:**  \n",
        "When setting up a new database, you use `CREATE` to define tables with specific columns and data types.\n",
        "\n",
        "---\n",
        "\n",
        "## **2. DROP**  \n",
        "The `DROP` statement is used to delete an existing database object, such as a table or database, permanently. It removes both the structure and the data.\n",
        "\n",
        "### **Use Case:**  \n",
        "When a table or database is no longer needed, `DROP` is used to free up storage and remove unnecessary objects.\n",
        "\n",
        "---\n",
        "\n",
        "## **3. ALTER**  \n",
        "The `ALTER` statement is used to modify an existing table by adding, deleting, or changing columns. It is useful for updating database structures without losing existing data.\n",
        "\n",
        "### **Use Case:**  \n",
        "If a new column needs to be added to a table or an existing column's data type needs to be changed, `ALTER` is used to make the modification.\n",
        "\n",
        "---\n",
        "\n",
        "## **4. TRUNCATE**  \n",
        "The `TRUNCATE` statement removes all rows from a table while keeping the table structure intact. It is faster than `DELETE` and is used when you want to clear a table without deleting it.\n",
        "\n",
        "### **Use Case:**  \n",
        "When you need to remove all records from a table but want to keep its structure for future use, `TRUNCATE` is the best option.\n",
        "\n",
        "---\n",
        "\n",
        "### **Summary**\n",
        "- **`CREATE`** is used to define new database objects.\n",
        "- **`DROP`** is used to permanently delete database objects.\n",
        "- **`ALTER`** is used to modify existing database structures.\n",
        "- **`TRUNCATE`** is used to quickly remove all records from a table without deleting its structure.\n"
      ],
      "metadata": {
        "id": "dRo4mxLbSAhF"
      }
    },
    {
      "cell_type": "code",
      "source": [],
      "metadata": {
        "id": "EKBp3e3jSyI4"
      },
      "execution_count": null,
      "outputs": []
    },
    {
      "cell_type": "markdown",
      "source": [
        "# Q3. What is DML? Explain INSERT, UPDATE, and DELETE with an Example.\n",
        "\n",
        "## **What is DML?**  \n",
        "DML (**Data Manipulation Language**) is a subset of SQL used to interact with and manipulate data stored in a database. Unlike **DDL (Data Definition Language),** which defines database structures, **DML** focuses on modifying records within tables.\n",
        "\n",
        "### **Key DML Commands:**\n",
        "1. **`INSERT`** - Adds new records to a table.\n",
        "2. **`UPDATE`** - Modifies existing records in a table.\n",
        "3. **`DELETE`** - Removes specific records from a table.\n",
        "\n",
        "---\n",
        "\n",
        "## **1. `INSERT` Statement**\n",
        "The `INSERT` command is used to add new rows (records) to a table.\n",
        "\n",
        "### **Use Case:**  \n",
        "If you need to store customer details in a database, you use `INSERT` to add a new customer’s information.\n",
        "\n",
        "---\n",
        "\n",
        "## **2. `UPDATE` Statement**\n",
        "The `UPDATE` command modifies existing records in a table based on a specified condition.\n",
        "\n",
        "### **Use Case:**  \n",
        "If a customer updates their phone number, `UPDATE` is used to change the old phone number in the database.\n",
        "\n",
        "---\n",
        "\n",
        "## **3. `DELETE` Statement**\n",
        "The `DELETE` command removes specific rows from a table based on a condition.\n",
        "\n",
        "### **Use Case:**  \n",
        "If a customer account is closed, `DELETE` is used to remove the customer's record from the database.\n",
        "\n",
        "---\n",
        "\n",
        "## **Key Differences Between INSERT, UPDATE, and DELETE**\n",
        "| Command  | Purpose | Affects Existing Data? | Can Be Rolled Back? |\n",
        "|----------|---------|------------------------|----------------------|\n",
        "| **INSERT** | Adds new records | No | Yes (with `COMMIT` & `ROLLBACK`) |\n",
        "| **UPDATE** | Modifies existing records | Yes | Yes |\n",
        "| **DELETE** | Removes specific records | Yes | Yes |\n",
        "\n",
        "### **Summary**\n",
        "- **`INSERT`** is used to add new data.\n",
        "- **`UPDATE`** is used to modify existing data.\n",
        "- **`DELETE`** is used to remove specific data.\n",
        "\n",
        "These DML commands allow users to interact with and modify the database as needed.\n"
      ],
      "metadata": {
        "id": "RrVIDUKLUNFc"
      }
    },
    {
      "cell_type": "code",
      "source": [],
      "metadata": {
        "id": "tqQuGOdrUNk-"
      },
      "execution_count": null,
      "outputs": []
    },
    {
      "cell_type": "markdown",
      "source": [
        "# Q4. What is DQL? Explain SELECT with an Example.\n",
        "\n",
        "## **What is DQL?**  \n",
        "DQL (**Data Query Language**) is a subset of SQL used to retrieve data from a database. The primary command in DQL is `SELECT`, which allows users to fetch records from one or more tables.\n",
        "\n",
        "### **Key DQL Command:**\n",
        "- **`SELECT`** - Used to retrieve data from a table based on specified conditions.\n",
        "\n",
        "---\n",
        "\n",
        "## **1. `SELECT` Statement**\n",
        "The `SELECT` command is used to fetch data from a database. It can be used to retrieve specific columns, filter data using conditions, and even aggregate results.\n",
        "\n",
        "### **Use Case:**  \n",
        "If a business wants to retrieve all customer names and emails from a database, `SELECT` is used to extract this information.\n",
        "\n",
        "---\n",
        "\n",
        "## **Types of SELECT Queries**\n",
        "1. **Retrieve All Records:**\n",
        "   - Used when you want to fetch all rows from a table.\n",
        "\n",
        "2. **Retrieve Specific Columns:**\n",
        "   - Used when you need only selected columns instead of all.\n",
        "\n",
        "3. **Using WHERE Clause:**\n",
        "   - Filters records based on specific conditions.\n",
        "\n",
        "4. **Using ORDER BY Clause:**\n",
        "   - Sorts records in ascending or descending order.\n",
        "\n",
        "5. **Using Aggregate Functions:**\n",
        "   - Performs calculations such as COUNT, SUM, AVG, MAX, MIN.\n",
        "\n",
        "---\n",
        "\n",
        "## **Key Features of SELECT**\n",
        "| Feature | Description |\n",
        "|---------|------------|\n",
        "| `SELECT *` | Retrieves all columns from a table. |\n",
        "| `SELECT column1, column2` | Retrieves specific columns. |\n",
        "| `WHERE` | Filters records based on conditions. |\n",
        "| `ORDER BY` | Sorts results in ascending or descending order. |\n",
        "| `GROUP BY` | Groups records for aggregation. |\n",
        "\n",
        "### **Summary**\n",
        "- **`SELECT`** is the most commonly used SQL command to retrieve data.\n",
        "- It allows filtering, sorting, and aggregation of results.\n",
        "- DQL is crucial for data analysis and reporting in databases.\n"
      ],
      "metadata": {
        "id": "S1hf6QVoUX_Q"
      }
    },
    {
      "cell_type": "code",
      "source": [],
      "metadata": {
        "id": "kA8suAsqUYue"
      },
      "execution_count": null,
      "outputs": []
    },
    {
      "cell_type": "markdown",
      "source": [
        "# Q5. Explain Primary Key and Foreign Key\n",
        "\n",
        "## **1. Primary Key**\n",
        "A **Primary Key** is a column (or a set of columns) in a database table that uniquely identifies each record. It ensures that no two rows have the same value for the primary key column(s) and prevents `NULL` values.\n",
        "\n",
        "### **Key Features of Primary Key:**\n",
        "- Uniquely identifies each row in a table.\n",
        "- Cannot contain `NULL` values.\n",
        "- Ensures data integrity and prevents duplicate entries.\n",
        "\n",
        "### **Use Case:**  \n",
        "A `Students` table needs a **unique identifier** for each student. The `student_id` column can be set as the **Primary Key** to ensure uniqueness.\n",
        "\n",
        "---\n",
        "\n",
        "## **2. Foreign Key**\n",
        "A **Foreign Key** is a column (or a set of columns) in one table that establishes a relationship with the **Primary Key** of another table. It enforces referential integrity by ensuring that the value in the foreign key column matches an existing value in the referenced primary key column.\n",
        "\n",
        "### **Key Features of Foreign Key:**\n",
        "- Links two tables together.\n",
        "- Ensures referential integrity (prevents invalid data entries).\n",
        "- Can contain duplicate values and `NULL` (if not restricted).\n",
        "\n",
        "### **Use Case:**  \n",
        "A `Orders` table needs to reference customers from the `Customers` table. The `customer_id` in the `Orders` table can be set as a **Foreign Key** linking to the `customer_id` (Primary Key) in the `Customers` table.\n",
        "\n",
        "---"
      ],
      "metadata": {
        "id": "lpwokchPUkVT"
      }
    },
    {
      "cell_type": "code",
      "source": [],
      "metadata": {
        "id": "WCiC70PuUy7D"
      },
      "execution_count": null,
      "outputs": []
    },
    {
      "cell_type": "markdown",
      "source": [
        "# Q6. Python Code to Connect MySQL to Python and Explanation of `cursor()` and `execute()`\n",
        "\n",
        "## **Connecting MySQL to Python**\n",
        "To connect MySQL with Python, we use the **`mysql-connector-python`** library. This allows Python to communicate with MySQL databases.\n",
        "\n",
        "### **Installing the Required Library**\n",
        "Before running the code, install the required package using:\n",
        "```bash\n",
        "pip install mysql-connector-python\n",
        "\n",
        "import mysql.connector\n",
        "\n",
        "# Establish connection to MySQL database\n",
        "conn = mysql.connector.connect(\n",
        "    host=\"localhost\",\n",
        "    user=\"root\",\n",
        "    password=\"yourpassword\",\n",
        "    database=\"testdb\"\n",
        ")\n",
        "\n",
        "# Create a cursor object\n",
        "cursor = conn.cursor()\n",
        "\n",
        "# Execute an SQL query\n",
        "cursor.execute(\"SELECT DATABASE();\")\n",
        "\n",
        "# Fetch and print the result\n",
        "database_name = cursor.fetchone()\n",
        "print(\"Connected to Database:\", database_name[0])\n",
        "\n",
        "# Close the cursor and connection\n",
        "cursor.close()\n",
        "conn.close()\n",
        "\n"
      ],
      "metadata": {
        "id": "0fLiihxCU5EJ"
      }
    },
    {
      "cell_type": "markdown",
      "source": [
        "## Explanation of cursor() and execute() Methods\n",
        "##1. cursor() Method\n",
        "The cursor() method creates a cursor object that allows Python to interact with the database.\n",
        "It acts as a control structure to navigate and execute SQL commands.\n",
        "##2. execute() Method\n",
        "The execute() method is used to run SQL queries through the cursor object.\n",
        "It can be used for various queries, such as SELECT, INSERT, UPDATE, DELETE, and CREATE TABLE."
      ],
      "metadata": {
        "id": "sr20sDT9VZYe"
      }
    },
    {
      "cell_type": "markdown",
      "source": [
        "# Q7. Order of Execution of SQL Clauses in an SQL Query\n",
        "\n",
        "When executing an SQL query, the clauses are processed in a specific logical order, which may differ from the way they are written in a query.\n",
        "\n",
        "## **Order of Execution of SQL Clauses:**\n",
        "\n",
        "| Execution Order | SQL Clause | Description |\n",
        "|---------------|-----------|-------------|\n",
        "| **1** | `FROM` | Specifies the source table(s) for the query. |\n",
        "| **2** | `WHERE` | Filters records based on specified conditions. |\n",
        "| **3** | `GROUP BY` | Groups data based on one or more columns. |\n",
        "| **4** | `HAVING` | Filters grouped records (used after `GROUP BY`). |\n",
        "| **5** | `SELECT` | Selects specific columns or expressions to display. |\n",
        "| **6** | `DISTINCT` | Removes duplicate records from the result set. |\n",
        "| **7** | `ORDER BY` | Sorts the result set in ascending (`ASC`) or descending (`DESC`) order. |\n",
        "| **8** | `LIMIT/OFFSET` | Limits the number of rows returned by the query. |\n",
        "\n",
        "---"
      ],
      "metadata": {
        "id": "a7asv57oV3oI"
      }
    },
    {
      "cell_type": "code",
      "source": [],
      "metadata": {
        "id": "U28K4ZiNVmZ8"
      },
      "execution_count": null,
      "outputs": []
    }
  ]
}