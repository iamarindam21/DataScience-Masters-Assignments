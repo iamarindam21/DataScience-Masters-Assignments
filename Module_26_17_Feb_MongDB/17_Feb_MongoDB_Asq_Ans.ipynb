{
  "nbformat": 4,
  "nbformat_minor": 0,
  "metadata": {
    "colab": {
      "provenance": []
    },
    "kernelspec": {
      "name": "python3",
      "display_name": "Python 3"
    },
    "language_info": {
      "name": "python"
    }
  },
  "cells": [
    {
      "cell_type": "code",
      "execution_count": null,
      "metadata": {
        "id": "pyavicG1WJkB"
      },
      "outputs": [],
      "source": []
    },
    {
      "cell_type": "markdown",
      "source": [
        "# Q1. What is MongoDB? Explain Non-Relational Databases and When to Use MongoDB Over SQL.\n",
        "\n",
        "## **What is MongoDB?**  \n",
        "MongoDB is a **NoSQL (Non-Relational) database** that stores data in a **document-oriented format** using **JSON-like BSON (Binary JSON)**. It is designed to handle large volumes of unstructured or semi-structured data efficiently.\n",
        "\n",
        "### **Key Features of MongoDB:**\n",
        "- **Schema-less Structure** – No predefined schema, allowing flexibility.\n",
        "- **Document-Based Storage** – Uses collections and documents instead of tables and rows.\n",
        "- **Scalability** – Supports horizontal scaling using **sharding**.\n",
        "- **High Performance** – Fast read/write operations compared to traditional databases.\n",
        "\n",
        "---\n",
        "\n",
        "## **What are Non-Relational Databases?**  \n",
        "Non-relational databases, also known as **NoSQL databases**, store data in formats other than traditional tables. They include:\n",
        "- **Document Stores** (e.g., MongoDB, CouchDB) – Store data as JSON/BSON documents.\n",
        "- **Key-Value Stores** (e.g., Redis, DynamoDB) – Store data as key-value pairs.\n",
        "- **Column-Family Stores** (e.g., Cassandra, HBase) – Store data in column-based storage.\n",
        "- **Graph Databases** (e.g., Neo4j) – Store data as nodes and relationships.\n",
        "\n",
        "## **When to Use MongoDB Over SQL Databases?**  \n",
        "MongoDB is preferred over SQL databases in the following scenarios:\n",
        "\n",
        "1. **Flexible Schema Requirements** – When data structure may change frequently.\n",
        "2. **Big Data Applications** – Handling large, unstructured datasets.\n",
        "3. **High Write and Read Performance** – Applications needing fast inserts and retrieval.\n",
        "4. **Scalability Needs** – When horizontal scaling is required.\n",
        "5. **Real-Time Applications** – E.g., IoT, analytics, social media feeds."
      ],
      "metadata": {
        "id": "GgvS4_xMW0hx"
      }
    },
    {
      "cell_type": "markdown",
      "source": [
        "# Q2. State and Explain the Features of MongoDB\n",
        "\n",
        "## **Key Features of MongoDB:**\n",
        "\n",
        "1. **Document-Oriented Storage**  \n",
        "   MongoDB stores data in flexible, self-contained **documents** using the **BSON** (Binary JSON) format. Each document can store various types of data, including arrays and embedded documents, allowing for more complex data structures.\n",
        "\n",
        "   - **Benefit:** Data can be stored in a way that reflects real-world entities, such as user profiles or orders, making it easier to model real-world scenarios.\n",
        "\n",
        "---\n",
        "\n",
        "2. **Scalability**  \n",
        "   MongoDB provides **horizontal scaling** through **sharding**, meaning it can distribute large amounts of data across multiple servers, ensuring that performance remains optimal even as the database grows.\n",
        "\n",
        "   - **Benefit:** MongoDB can handle large volumes of data, making it suitable for applications that require scalability, such as social networks and IoT.\n",
        "\n",
        "---\n",
        "\n",
        "3. **High Availability**  \n",
        "   MongoDB ensures high availability of data using **replication**. It can automatically replicate data to multiple servers (called **replica sets**), so if one server goes down, another can take over without data loss.\n",
        "\n",
        "   - **Benefit:** This feature ensures continuous availability and helps prevent downtime.\n",
        "\n",
        "---\n",
        "\n",
        "4. **Flexible Schema**  \n",
        "   MongoDB is **schema-less**, meaning each document in a collection can have different fields and structures. This allows for dynamic changes in the data model without the need for schema migration or downtime.\n",
        "\n",
        "   - **Benefit:** It offers flexibility, allowing rapid development and evolution of applications without the constraints of a fixed schema.\n",
        "\n",
        "---\n",
        "\n",
        "5. **Indexing**  \n",
        "   MongoDB supports **indexes** to improve the speed and performance of query execution. You can index fields to optimize search and retrieval operations.\n",
        "\n",
        "   - **Benefit:** Indexing makes queries faster, especially when dealing with large datasets.\n",
        "\n",
        "---\n",
        "\n",
        "6. **Aggregation Framework**  \n",
        "   MongoDB provides a powerful **aggregation framework** for performing complex data processing, such as filtering, sorting, grouping, and transforming data.\n",
        "\n",
        "   - **Benefit:** It allows for more advanced queries and calculations, similar to SQL's `GROUP BY` and `JOIN` operations.\n",
        "\n",
        "---\n",
        "\n",
        "7. **Rich Query Language**  \n",
        "   MongoDB supports a rich query language that can perform complex queries, including filters, sorting, and projection (selecting specific fields).\n",
        "\n",
        "   - **Benefit:** This allows developers to query the database using a variety of conditions, making MongoDB highly versatile.\n",
        "\n",
        "---\n",
        "\n",
        "8. **Ad Hoc Queries**  \n",
        "   MongoDB supports **ad hoc queries**, meaning that you can run queries on the fly without needing to define them in advance.\n",
        "\n",
        "   - **Benefit:** This allows for greater flexibility in querying data and quickly fetching the needed information.\n",
        "\n",
        "---\n",
        "\n",
        "9. **Geospatial Indexing**  \n",
        "   MongoDB supports **geospatial indexes**, allowing you to store and query location-based data, such as latitude and longitude, for applications like maps, GPS, and location-based services.\n",
        "\n",
        "   - **Benefit:** Useful for applications involving mapping, location tracking, and geographic data analysis.\n",
        "\n",
        "---\n",
        "\n",
        "10. **GridFS for Large Files**  \n",
        "    MongoDB provides **GridFS** for storing and managing large files (such as images, videos, and audio files) that exceed the size limit of a single document.\n",
        "\n",
        "    - **Benefit:** It allows you to store large binary files and access them efficiently, making MongoDB ideal for media-heavy applications.\n",
        "\n",
        "---"
      ],
      "metadata": {
        "id": "5X9dpvAZXAA_"
      }
    },
    {
      "cell_type": "code",
      "source": [],
      "metadata": {
        "id": "MCpU5OwXW1Id"
      },
      "execution_count": null,
      "outputs": []
    },
    {
      "cell_type": "markdown",
      "source": [
        "# Q3. Code to Connect MongoDB to Python, Create a Database, and a Collection\n",
        "\n",
        "### **Step-by-Step Code:**\n",
        "\n",
        "```python\n",
        "# Step 1: Import the pymongo library\n",
        "import pymongo\n",
        "\n",
        "# Step 2: Connect to the MongoDB server (default localhost:27017)\n",
        "client = pymongo.MongoClient(\"mongodb://localhost:27017/\")\n",
        "\n",
        "# Step 3: Create a new database (MongoDB will create it if it doesn't exist)\n",
        "db = client[\"mydatabase\"]\n",
        "\n",
        "# Step 4: Create a new collection (MongoDB will create it if it doesn't exist)\n",
        "collection = db[\"customers\"]\n",
        "\n",
        "# Step 5: Insert a document (record) into the collection\n",
        "customer = { \"name\": \"Alice\", \"address\": \"1234 Oak Street\" }\n",
        "collection.insert_one(customer)\n",
        "\n",
        "# Step 6: Retrieve and print the document to verify it's inserted\n",
        "retrieved_customer = collection.find_one({\"name\": \"Alice\"})\n",
        "print(\"Inserted Customer:\", retrieved_customer)\n",
        "\n",
        "# Step 7: Close the connection\n",
        "client.close()\n"
      ],
      "metadata": {
        "id": "rzBEJsICbL_0"
      }
    },
    {
      "cell_type": "markdown",
      "source": [
        "# Explanation of the MongoDB Python Code\n",
        "\n",
        "### **Step-by-Step Explanation:**\n",
        "\n",
        "1. **`pymongo.MongoClient(\"mongodb://localhost:27017/\")`**  \n",
        "   - This line establishes a connection to the MongoDB server running locally (on the default port 27017). The `MongoClient` class is used to interact with the MongoDB database.\n",
        "   - If MongoDB is not running locally or uses a different port, you would need to adjust the connection string accordingly.\n",
        "\n",
        "2. **`client[\"mydatabase\"]`**  \n",
        "   - This command connects to a database called `mydatabase`. If `mydatabase` doesn't already exist, MongoDB will create it as soon as you insert data.\n",
        "   - The `client` object is used to access and interact with databases on the connected MongoDB server.\n",
        "\n",
        "3. **`db[\"customers\"]`**  \n",
        "   - This creates (or connects to) a collection called `customers` within the `mydatabase` database.\n",
        "   - A **collection** in MongoDB is like a **table** in a relational database. Collections hold the actual data and are stored in a database.\n",
        "   - If the `customers` collection doesn't exist, MongoDB will create it when data is inserted.\n",
        "\n",
        "4. **`collection.insert_one(customer)`**  \n",
        "   - This line inserts a single document (record) into the `customers` collection. In this case, the document is a Python dictionary with fields `name` and `address`.\n",
        "   - **Document** in MongoDB is like a **row** in SQL but is more flexible, storing data in a key-value format.\n",
        "\n",
        "5. **`collection.find_one({\"name\": \"Alice\"})`**  \n",
        "   - This command retrieves the document where the `name` field equals \"Alice\". It returns the first matching document.\n",
        "   - This method helps verify that the document has been successfully inserted into the collection.\n",
        "\n",
        "6. **`client.close()`**  \n",
        "   - Once all operations are complete, it's a good practice to close the connection to MongoDB using `client.close()`.\n",
        "   - This ensures that resources are freed up and no more operations are pending.\n",
        "\n",
        "---"
      ],
      "metadata": {
        "id": "THk9eRBJcjUL"
      }
    },
    {
      "cell_type": "markdown",
      "source": [
        "# Q4. Code to Insert One Record, Insert Many Records, and Use `find()` and `find_one()` to Print Inserted Records\n",
        "\n",
        "### **Step-by-Step Code:**\n",
        "\n",
        "```python\n",
        "# Import the pymongo library\n",
        "import pymongo\n",
        "\n",
        "# Step 1: Connect to the MongoDB server (default localhost:27017)\n",
        "client = pymongo.MongoClient(\"mongodb://localhost:27017/\")\n",
        "\n",
        "# Step 2: Access the database and collection created in Question 3\n",
        "db = client[\"mydatabase\"]\n",
        "collection = db[\"customers\"]\n",
        "\n",
        "# Step 3: Insert one record\n",
        "single_customer = { \"name\": \"John\", \"address\": \"5678 Maple Avenue\" }\n",
        "collection.insert_one(single_customer)\n",
        "\n",
        "# Step 4: Insert many records\n",
        "many_customers = [\n",
        "    { \"name\": \"Alice\", \"address\": \"1234 Oak Street\" },\n",
        "    { \"name\": \"Bob\", \"address\": \"7890 Pine Road\" },\n",
        "    { \"name\": \"Charlie\", \"address\": \"4567 Birch Lane\" }\n",
        "]\n",
        "collection.insert_many(many_customers)\n",
        "\n",
        "# Step 5: Use find_one() to print the inserted single record\n",
        "print(\"Single Inserted Record:\")\n",
        "retrieved_single = collection.find_one({\"name\": \"John\"})\n",
        "print(retrieved_single)\n",
        "\n",
        "# Step 6: Use find() to print all the inserted records\n",
        "print(\"\\nAll Inserted Records:\")\n",
        "retrieved_all = collection.find()\n",
        "for customer in retrieved_all:\n",
        "    print(customer)\n",
        "\n",
        "# Step 7: Close the connection\n",
        "client.close()\n"
      ],
      "metadata": {
        "id": "2iEFHFL8c8XB"
      }
    },
    {
      "cell_type": "markdown",
      "source": [],
      "metadata": {
        "id": "nKa-6IOcco2F"
      }
    },
    {
      "cell_type": "markdown",
      "source": [
        "# Q5. Explain how you can use the find() method to query the MongoDB database.\n",
        "\n",
        "The `find()` method in MongoDB is used to query a collection and retrieve documents that match the specified criteria. It allows you to filter the results based on certain conditions and retrieve documents that meet your needs.\n",
        "\n",
        "### **How the `find()` Method Works:**\n",
        "\n",
        "- **Basic Usage:**  \n",
        "  The `find()` method is used to retrieve documents from a collection. If no filter is provided, it will return all documents in the collection.\n",
        "  \n",
        "- **Query Parameter (Filter):**  \n",
        "  You can pass a query as a dictionary to filter documents based on specific criteria. For example, you can filter documents where a field equals a certain value, greater than a specific number, or matches a pattern.\n",
        "\n",
        "  Example query:\n",
        "  ```python\n",
        "  query = {\"age\": {\"$gt\": 25}}\n"
      ],
      "metadata": {
        "id": "cOaMchk8dFZF"
      }
    },
    {
      "cell_type": "code",
      "source": [],
      "metadata": {
        "id": "x1aCsEP6cklA"
      },
      "execution_count": null,
      "outputs": []
    },
    {
      "cell_type": "code",
      "source": [],
      "metadata": {
        "id": "l0-LwUXeezZc"
      },
      "execution_count": null,
      "outputs": []
    }
  ]
}