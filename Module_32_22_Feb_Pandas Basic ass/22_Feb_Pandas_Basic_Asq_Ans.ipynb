{
  "nbformat": 4,
  "nbformat_minor": 0,
  "metadata": {
    "colab": {
      "provenance": []
    },
    "kernelspec": {
      "name": "python3",
      "display_name": "Python 3"
    },
    "language_info": {
      "name": "python"
    }
  },
  "cells": [
    {
      "cell_type": "markdown",
      "source": [
        "# Q1. Create a Pandas Series that contains the following data: 4, 8, 15, 16, 23, and 42. Then, print the series.  \n",
        "\n",
        "## ans:"
      ],
      "metadata": {
        "id": "aHlVUMHzYnFp"
      }
    },
    {
      "cell_type": "markdown",
      "source": [],
      "metadata": {
        "id": "FXRBGFK9YoVS"
      }
    },
    {
      "cell_type": "markdown",
      "source": [],
      "metadata": {
        "id": "ZFqgiuTLaVqz"
      }
    },
    {
      "cell_type": "markdown",
      "source": [],
      "metadata": {
        "id": "gRVKqUIabd2q"
      }
    },
    {
      "cell_type": "code",
      "source": [
        "import pandas as pd\n",
        "\n",
        "# Creating the series\n",
        "data = pd.Series([4, 8, 15, 16, 23, 42])\n",
        "\n",
        "# Printing the series\n",
        "print(data)"
      ],
      "metadata": {
        "colab": {
          "base_uri": "https://localhost:8080/"
        },
        "id": "FYhw6VGkZfYp",
        "outputId": "902f773c-2963-48c5-f860-486f800d9890"
      },
      "execution_count": 2,
      "outputs": [
        {
          "output_type": "stream",
          "name": "stdout",
          "text": [
            "0     4\n",
            "1     8\n",
            "2    15\n",
            "3    16\n",
            "4    23\n",
            "5    42\n",
            "dtype: int64\n"
          ]
        }
      ]
    },
    {
      "cell_type": "markdown",
      "source": [
        "# Q2. Create a variable of list type containing 10 elements in it, and apply pandas.Series function on the variable. Print it.  \n",
        "\n",
        "## ans:   "
      ],
      "metadata": {
        "id": "WbLZkPckZpF4"
      }
    },
    {
      "cell_type": "code",
      "source": [
        "import pandas as pd\n",
        "\n",
        "# Creating a list with 10 elements\n",
        "my_list = [1, 2, 3, 4, 5, 6, 7, 8, 9, 10]\n",
        "\n",
        "# Converting the list into a Pandas Series\n",
        "series = pd.Series(my_list)\n",
        "\n",
        "# Printing the series\n",
        "print(series)"
      ],
      "metadata": {
        "colab": {
          "base_uri": "https://localhost:8080/"
        },
        "id": "NqK-FI6OZ-Nq",
        "outputId": "fc16077d-ca89-4240-abf2-cef84909765f"
      },
      "execution_count": 3,
      "outputs": [
        {
          "output_type": "stream",
          "name": "stdout",
          "text": [
            "0     1\n",
            "1     2\n",
            "2     3\n",
            "3     4\n",
            "4     5\n",
            "5     6\n",
            "6     7\n",
            "7     8\n",
            "8     9\n",
            "9    10\n",
            "dtype: int64\n"
          ]
        }
      ]
    },
    {
      "cell_type": "code",
      "source": [],
      "metadata": {
        "id": "Tym9wn-NaFzd"
      },
      "execution_count": null,
      "outputs": []
    },
    {
      "cell_type": "markdown",
      "source": [
        "# Q3. Create a Pandas DataFrame that contains the following data:  \n",
        "## Name, Age, Gender\n",
        "  "
      ],
      "metadata": {
        "id": "L9w_gMDLbe7_"
      }
    },
    {
      "cell_type": "code",
      "source": [
        "import pandas as pd\n",
        "\n",
        "# Creating the DataFrame\n",
        "data = {\n",
        "    'Name': ['Alice', 'Bob', 'Clarie'],\n",
        "    'Age': [25, 30, 27],\n",
        "    'Gender': ['Female', 'Male', 'Female']\n",
        "}\n",
        "\n",
        "df = pd.DataFrame(data)\n",
        "\n",
        "# Printing the DataFrame\n",
        "print(df)"
      ],
      "metadata": {
        "colab": {
          "base_uri": "https://localhost:8080/"
        },
        "id": "9nbJwQM0bkXD",
        "outputId": "77d29d79-377d-4303-d81d-43db823365ac"
      },
      "execution_count": 4,
      "outputs": [
        {
          "output_type": "stream",
          "name": "stdout",
          "text": [
            "     Name  Age  Gender\n",
            "0   Alice   25  Female\n",
            "1     Bob   30    Male\n",
            "2  Clarie   27  Female\n"
          ]
        }
      ]
    },
    {
      "cell_type": "code",
      "source": [],
      "metadata": {
        "id": "cEWazKBDbxaX"
      },
      "execution_count": null,
      "outputs": []
    },
    {
      "cell_type": "markdown",
      "source": [
        "# Q4. What is ‘DataFrame’ in pandas and how is it different from pandas.Series? Explain with an example.  \n",
        "\n",
        "## **DataFrame in Pandas:**  \n",
        "A **DataFrame** is a 2-dimensional, tabular data structure in Pandas, similar to a table in SQL or an Excel spreadsheet. It consists of multiple rows and columns, where each column can contain different data types (integer, float, string, etc.).  \n",
        "\n",
        "## **Difference Between DataFrame and Series:**  \n",
        "- A **Series** is a one-dimensional array-like structure with an index, while a **DataFrame** is a two-dimensional table with rows and columns.  \n",
        "- A **Series** represents a single column of data, whereas a **DataFrame** consists of multiple Series combined.  \n",
        "\n",
        "## **Example:**"
      ],
      "metadata": {
        "id": "wlb6Tctcb36Q"
      }
    },
    {
      "cell_type": "code",
      "source": [
        "import pandas as pd\n",
        "\n",
        "# Creating a Pandas Series (1D)\n",
        "series = pd.Series([10, 20, 30, 40])\n",
        "print(\"Pandas Series:\")\n",
        "print(series)\n",
        "\n",
        "# Creating a Pandas DataFrame (2D)\n",
        "data = {\n",
        "    'Name': ['Alice', 'Bob', 'Clarie'],\n",
        "    'Age': [25, 30, 27],\n",
        "    'Gender': ['Female', 'Male', 'Female']\n",
        "}\n",
        "df = pd.DataFrame(data)\n",
        "\n",
        "print(\"\\nPandas DataFrame:\")\n",
        "print(df)"
      ],
      "metadata": {
        "colab": {
          "base_uri": "https://localhost:8080/"
        },
        "id": "6HOurm6ycHXd",
        "outputId": "13e9a3ec-9d84-4eb8-926b-6b400d5e330f"
      },
      "execution_count": 5,
      "outputs": [
        {
          "output_type": "stream",
          "name": "stdout",
          "text": [
            "Pandas Series:\n",
            "0    10\n",
            "1    20\n",
            "2    30\n",
            "3    40\n",
            "dtype: int64\n",
            "\n",
            "Pandas DataFrame:\n",
            "     Name  Age  Gender\n",
            "0   Alice   25  Female\n",
            "1     Bob   30    Male\n",
            "2  Clarie   27  Female\n"
          ]
        }
      ]
    },
    {
      "cell_type": "markdown",
      "source": [
        "# Q5. What are some common functions you can use to manipulate data in a Pandas DataFrame?  \n",
        "#   Can you give an example of when you might use one of these functions?  \n",
        "\n",
        "## **Common Pandas DataFrame Functions:**  \n",
        "1. **df.head(n)** – Returns the first `n` rows of the DataFrame.  \n",
        "2. **df.tail(n)** – Returns the last `n` rows of the DataFrame.  \n",
        "3. **df.info()** – Displays information about the DataFrame (data types, non-null counts, etc.).  \n",
        "4. **df.describe()** – Provides summary statistics of numerical columns.  \n",
        "5. **df.drop(columns=['column_name'])** – Removes a specific column from the DataFrame.  \n",
        "6. **df.loc[row_index, 'column_name']** – Accesses specific rows and columns by label.  \n",
        "7. **df.iloc[row_index, column_index]** – Accesses specific rows and columns by position.  \n",
        "8. **df['column_name'].mean()** – Calculates the mean of a numeric column.  \n",
        "9. **df['column_name'].fillna(value)** – Fills missing values in a column.  \n",
        "10. **df.sort_values(by='column_name', ascending=True)** – Sorts the DataFrame based on a specific column.  \n",
        "\n",
        "## **Example:**  \n",
        "Suppose we have a dataset of students' exam scores, and we want to find the average score.  \n"
      ],
      "metadata": {
        "id": "of7BF33CcTj2"
      }
    },
    {
      "cell_type": "code",
      "source": [
        "import pandas as pd\n",
        "\n",
        "# Creating a sample DataFrame\n",
        "data = {\n",
        "    'Name': ['Alice', 'Bob', 'Clarie', 'David'],\n",
        "    'Score': [85, 92, 78, 88]\n",
        "}\n",
        "\n",
        "df = pd.DataFrame(data)\n",
        "\n",
        "# Calculating the average score\n",
        "average_score = df['Score'].mean()\n",
        "\n",
        "print(\"Average Score:\", average_score)"
      ],
      "metadata": {
        "colab": {
          "base_uri": "https://localhost:8080/"
        },
        "id": "H48hkz55clm9",
        "outputId": "464fc8a6-af73-473a-9239-24e710515477"
      },
      "execution_count": 6,
      "outputs": [
        {
          "output_type": "stream",
          "name": "stdout",
          "text": [
            "Average Score: 85.75\n"
          ]
        }
      ]
    },
    {
      "cell_type": "markdown",
      "source": [
        "# Q6.Which of the following is mutable in nature: Series, DataFrame, or Panel?  \n",
        "\n",
        "## **Answer:**  \n",
        "Both **Pandas Series, DataFrame, and Panel are mutable** in nature.  \n",
        "\n",
        "### **Explanation:**  \n",
        "- **Series**: A Pandas Series is mutable, meaning we can change its elements after creation. However, the **labels (index) are immutable**, meaning once set, they cannot be changed.  \n",
        "- **DataFrame**: A Pandas DataFrame is fully mutable, meaning both the **data and structure (columns, rows) can be modified**.  \n",
        "- **Panel**: In older versions of Pandas, **Panel** (used for 3D data) was also mutable, but it has been deprecated since Pandas 1.0.  \n"
      ],
      "metadata": {
        "id": "sS-ITsuBc7Dc"
      }
    },
    {
      "cell_type": "code",
      "source": [],
      "metadata": {
        "id": "3w4g_C1AcvnL"
      },
      "execution_count": null,
      "outputs": []
    },
    {
      "cell_type": "markdown",
      "source": [
        "# Q7. Create a DataFrame using multiple Series. Explain with an example.  \n",
        "\n",
        "## **Explanation:**  \n",
        "In Pandas, we can create a **DataFrame** using multiple **Series** by combining them as columns. Each **Series** will represent a column in the **DataFrame**, and the index of the Series will be aligned to form the DataFrame's index.\n",
        "\n",
        "### **Example:**"
      ],
      "metadata": {
        "id": "BZVFrsG2dVi_"
      }
    },
    {
      "cell_type": "code",
      "source": [
        "import pandas as pd\n",
        "\n",
        "# Creating multiple Series\n",
        "name_series = pd.Series(['Alice', 'Bob', 'Clarie'])\n",
        "age_series = pd.Series([25, 30, 27])\n",
        "gender_series = pd.Series(['Female', 'Male', 'Female'])\n",
        "\n",
        "# Creating a DataFrame using multiple Series\n",
        "df = pd.DataFrame({\n",
        "    'Name': name_series,\n",
        "    'Age': age_series,\n",
        "    'Gender': gender_series\n",
        "})\n",
        "\n",
        "# Printing the DataFrame\n",
        "print(df)"
      ],
      "metadata": {
        "colab": {
          "base_uri": "https://localhost:8080/"
        },
        "id": "FxSYD28ydkwq",
        "outputId": "911039d3-e092-44f9-8360-fbd1f1adf20d"
      },
      "execution_count": 7,
      "outputs": [
        {
          "output_type": "stream",
          "name": "stdout",
          "text": [
            "     Name  Age  Gender\n",
            "0   Alice   25  Female\n",
            "1     Bob   30    Male\n",
            "2  Clarie   27  Female\n"
          ]
        }
      ]
    },
    {
      "cell_type": "code",
      "source": [],
      "metadata": {
        "id": "-nCKUzD5do05"
      },
      "execution_count": null,
      "outputs": []
    }
  ]
}