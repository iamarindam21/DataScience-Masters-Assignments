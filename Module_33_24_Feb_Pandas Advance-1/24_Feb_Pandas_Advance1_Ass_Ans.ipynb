{
  "nbformat": 4,
  "nbformat_minor": 0,
  "metadata": {
    "colab": {
      "provenance": []
    },
    "kernelspec": {
      "name": "python3",
      "display_name": "Python 3"
    },
    "language_info": {
      "name": "python"
    }
  },
  "cells": [
    {
      "cell_type": "markdown",
      "source": [
        "#Q1. List any five functions of the pandas library with execution.  \n",
        "\n",
        "## **Here are five commonly used functions in Pandas with examples:**\n",
        "\n",
        "1. **pd.read_csv()**: Used to read a CSV file and load it into a DataFrame.  \n",
        "2. **df.head()**: Displays the first `n` rows of the DataFrame.  \n",
        "3. **df.describe()**: Provides summary statistics for numerical columns.  \n",
        "4. **df.drop()**: Removes rows or columns from the DataFrame.  \n",
        "5. **df.sort_values()**: Sorts the DataFrame by a specific column.\n",
        "\n",
        "### **Example with execution:**"
      ],
      "metadata": {
        "id": "wQuPY_jReLK3"
      }
    },
    {
      "cell_type": "code",
      "source": [
        "import pandas as pd\n",
        "\n",
        "# 1. pd.read_csv() - Reading a CSV file into a DataFrame (assuming 'data.csv' exists)\n",
        "# df = pd.read_csv('data.csv')\n",
        "\n",
        "# 2. df.head() - Displaying the first 3 rows of the DataFrame\n",
        "data = {'Name': ['Alice', 'Bob', 'Clarie', 'David'],\n",
        "        'Age': [25, 30, 27, 22],\n",
        "        'Gender': ['Female', 'Male', 'Female', 'Male']}\n",
        "df = pd.DataFrame(data)\n",
        "print(\"Head of DataFrame:\\n\", df.head(3))\n",
        "\n",
        "# 3. df.describe() - Displaying summary statistics\n",
        "print(\"\\nSummary Statistics:\\n\", df.describe())\n",
        "\n",
        "# 4. df.drop() - Dropping the 'Gender' column\n",
        "df_dropped = df.drop(columns=['Gender'])\n",
        "print(\"\\nDataFrame after dropping 'Gender' column:\\n\", df_dropped)\n",
        "\n",
        "# 5. df.sort_values() - Sorting by 'Age' column\n",
        "sorted_df = df.sort_values(by='Age', ascending=False)\n",
        "print(\"\\nDataFrame sorted by 'Age':\\n\", sorted_df)"
      ],
      "metadata": {
        "colab": {
          "base_uri": "https://localhost:8080/"
        },
        "id": "_IOax8QYefcu",
        "outputId": "8b0f6d22-2b32-4321-d2c1-a61b77d69b4d"
      },
      "execution_count": 1,
      "outputs": [
        {
          "output_type": "stream",
          "name": "stdout",
          "text": [
            "Head of DataFrame:\n",
            "      Name  Age  Gender\n",
            "0   Alice   25  Female\n",
            "1     Bob   30    Male\n",
            "2  Clarie   27  Female\n",
            "\n",
            "Summary Statistics:\n",
            "              Age\n",
            "count   4.000000\n",
            "mean   26.000000\n",
            "std     3.366502\n",
            "min    22.000000\n",
            "25%    24.250000\n",
            "50%    26.000000\n",
            "75%    27.750000\n",
            "max    30.000000\n",
            "\n",
            "DataFrame after dropping 'Gender' column:\n",
            "      Name  Age\n",
            "0   Alice   25\n",
            "1     Bob   30\n",
            "2  Clarie   27\n",
            "3   David   22\n",
            "\n",
            "DataFrame sorted by 'Age':\n",
            "      Name  Age  Gender\n",
            "1     Bob   30    Male\n",
            "2  Clarie   27  Female\n",
            "0   Alice   25  Female\n",
            "3   David   22    Male\n"
          ]
        }
      ]
    },
    {
      "cell_type": "markdown",
      "source": [
        "# Q2. Given a Pandas DataFrame df with columns 'A', 'B', and 'C', write a Python function to re-index the DataFrame with a new index that starts from 1 and increments by 2 for each row.\n",
        "\n",
        "## **Solution:**  \n",
        "We can use the `pd.Index` function to create a custom index that starts from 1 and increments by 2 for each row. Then, we assign this new index to the DataFrame using the `df.index` attribute.\n",
        "\n",
        "### **Function Implementation:**"
      ],
      "metadata": {
        "id": "iXKKMxbqer5J"
      }
    },
    {
      "cell_type": "code",
      "source": [
        "import pandas as pd\n",
        "\n",
        "# Creating a sample DataFrame\n",
        "data = {\n",
        "    'A': [1, 2, 3, 4],\n",
        "    'B': [5, 6, 7, 8],\n",
        "    'C': [9, 10, 11, 12]\n",
        "}\n",
        "df = pd.DataFrame(data)\n",
        "\n",
        "# Function to re-index DataFrame with custom index\n",
        "def reindex_dataframe(df):\n",
        "    # Creating a new index that starts from 1 and increments by 2\n",
        "    new_index = pd.Index(range(1, len(df) * 2 + 1, 2))\n",
        "\n",
        "    # Re-indexing the DataFrame\n",
        "    df.index = new_index\n",
        "    return df\n",
        "\n",
        "# Applying the function to re-index the DataFrame\n",
        "df_reindexed = reindex_dataframe(df)\n",
        "print(df_reindexed)"
      ],
      "metadata": {
        "colab": {
          "base_uri": "https://localhost:8080/"
        },
        "id": "_scix19WfB4i",
        "outputId": "f508f22e-270d-490e-e566-9c05dddc66eb"
      },
      "execution_count": 2,
      "outputs": [
        {
          "output_type": "stream",
          "name": "stdout",
          "text": [
            "   A  B   C\n",
            "1  1  5   9\n",
            "3  2  6  10\n",
            "5  3  7  11\n",
            "7  4  8  12\n"
          ]
        }
      ]
    },
    {
      "cell_type": "markdown",
      "source": [
        "# Q3. You have a Pandas DataFrame df with a column named 'Values'. Write a Python function that iterates over the DataFrame and calculates the sum of the first three values in the 'Values' column. The function should print the sum to the console.  \n",
        "\n",
        "## **Solution:**  \n",
        "We can use the `head()` function to get the first three rows of the 'Values' column and then calculate the sum. Alternatively, we can also use slicing to directly select the first three values from the column.\n",
        "\n",
        "### **Function Implementation:**"
      ],
      "metadata": {
        "id": "V_yl_VQofHR7"
      }
    },
    {
      "cell_type": "code",
      "source": [
        "import pandas as pd\n",
        "\n",
        "# Creating a sample DataFrame\n",
        "data = {'Values': [10, 20, 30, 40, 50]}\n",
        "df = pd.DataFrame(data)\n",
        "\n",
        "# Function to calculate the sum of the first three values in the 'Values' column\n",
        "def sum_first_three(df):\n",
        "    # Selecting the first three values in the 'Values' column\n",
        "    first_three_values = df['Values'].head(3)\n",
        "\n",
        "    # Calculating the sum of the first three values\n",
        "    sum_values = first_three_values.sum()\n",
        "\n",
        "    # Printing the sum\n",
        "    print(\"Sum of the first three values:\", sum_values)\n",
        "\n",
        "# Calling the function to calculate and print the sum\n",
        "sum_first_three(df)"
      ],
      "metadata": {
        "colab": {
          "base_uri": "https://localhost:8080/"
        },
        "id": "l3RJCjazfbcb",
        "outputId": "eec6e380-38af-45da-ca0d-1d87c0c3d89c"
      },
      "execution_count": 3,
      "outputs": [
        {
          "output_type": "stream",
          "name": "stdout",
          "text": [
            "Sum of the first three values: 60\n"
          ]
        }
      ]
    },
    {
      "cell_type": "code",
      "source": [],
      "metadata": {
        "id": "HJobS3sTfk7g"
      },
      "execution_count": null,
      "outputs": []
    },
    {
      "cell_type": "markdown",
      "source": [
        "# Q4. Given a Pandas DataFrame df with a column 'Text', write a Python function to create a new column 'Word_Count' that contains the number of words in each row of the 'Text' column.\n",
        "\n",
        "## **Solution:**  \n",
        "We can use the `str.split()` function to split the text in the 'Text' column into words and then count the number of words for each row. The result can be stored in a new column called 'Word_Count'.\n",
        "###Function Implementation\n"
      ],
      "metadata": {
        "id": "fK7neHDifz3k"
      }
    },
    {
      "cell_type": "code",
      "source": [
        "import pandas as pd\n",
        "\n",
        "# Creating a sample DataFrame\n",
        "data = {'Text': ['Hello world', 'Python is great', 'Pandas is awesome', 'Data science is fun']}\n",
        "df = pd.DataFrame(data)\n",
        "\n",
        "# Function to create 'Word_Count' column\n",
        "def count_words(df):\n",
        "    # Creating a new column 'Word_Count' by counting the number of words in each row of 'Text'\n",
        "    df['Word_Count'] = df['Text'].str.split().str.len()\n",
        "\n",
        "    return df\n",
        "\n",
        "# Applying the function to the DataFrame\n",
        "df_with_word_count = count_words(df)\n",
        "print(df_with_word_count)"
      ],
      "metadata": {
        "colab": {
          "base_uri": "https://localhost:8080/"
        },
        "id": "ZYgEu93Tf2gR",
        "outputId": "9b1869de-04a8-4beb-c1c3-858f991efd5d"
      },
      "execution_count": 4,
      "outputs": [
        {
          "output_type": "stream",
          "name": "stdout",
          "text": [
            "                  Text  Word_Count\n",
            "0          Hello world           2\n",
            "1      Python is great           3\n",
            "2    Pandas is awesome           3\n",
            "3  Data science is fun           4\n"
          ]
        }
      ]
    },
    {
      "cell_type": "code",
      "source": [],
      "metadata": {
        "id": "94ON1McngGOV"
      },
      "execution_count": null,
      "outputs": []
    },
    {
      "cell_type": "markdown",
      "source": [
        "# Q5. How are `DataFrame.size()` and `DataFrame.shape()` different?\n",
        "\n",
        "## **Explanation:**\n",
        "\n",
        "Both `DataFrame.size` and `DataFrame.shape` are used to get the dimensions of a DataFrame, but they return different types of information.\n",
        "\n",
        "### **Differences:**\n",
        "\n",
        "1. **`DataFrame.size`**:\n",
        "   - Returns the **total number of elements** in the DataFrame.\n",
        "   - The value is calculated as the **product of the number of rows and columns**.\n",
        "   - It is a single integer value representing the total count of cells (values) in the DataFrame.\n",
        "   \n",
        "2. **`DataFrame.shape`**:\n",
        "   - Returns a **tuple** of two values: **(number of rows, number of columns)**.\n",
        "   - It provides the **dimensions** of the DataFrame.\n",
        "   - It is often used to check the structure of the DataFrame (how many rows and columns it has).\n"
      ],
      "metadata": {
        "id": "V9Y4yFzygHKe"
      }
    },
    {
      "cell_type": "markdown",
      "source": [
        "# Q6. Which function of pandas do we use to read an Excel file?\n",
        "\n",
        "## **Answer:**  \n",
        "To read an Excel file in Pandas, we use the `pd.read_excel()` function.\n"
      ],
      "metadata": {
        "id": "DtPCIYlogWVz"
      }
    },
    {
      "cell_type": "code",
      "source": [],
      "metadata": {
        "id": "H-Cemocagm-V"
      },
      "execution_count": null,
      "outputs": []
    },
    {
      "cell_type": "markdown",
      "source": [
        "# Q7. You have a Pandas DataFrame df that contains a column named 'Email' that contains email addresses in the format 'username@domain.com'. Write a Python function that creates a new column 'Username' in df that contains only the username part of each email address.\n",
        "\n",
        "#  The username is the part of the email address that appears before the '@' symbol. For example, if the email address is 'john.doe@example.com', the 'Username' column should contain 'john.doe'. Your function should extract the username from each email address and store it in the new 'Username' column.  \n",
        "\n",
        "## **Solution:**  \n",
        "We can use the `str.split()` function in Pandas to split the email address by the '@' symbol and then extract the first part, which is the username. We will store the result in a new column called 'Username'.\n",
        "\n",
        "### **Function Implementation:**"
      ],
      "metadata": {
        "id": "lEaefRU7g4Ti"
      }
    },
    {
      "cell_type": "code",
      "source": [
        "import pandas as pd\n",
        "\n",
        "# Creating a sample DataFrame with email addresses\n",
        "data = {'Email': ['john.doe@example.com', 'jane.smith@domain.com', 'alex.lee@company.org']}\n",
        "df = pd.DataFrame(data)\n",
        "\n",
        "# Function to extract the username from the email and create a 'Username' column\n",
        "def extract_username(df):\n",
        "    # Creating a new 'Username' column by splitting the email address and getting the part before '@'\n",
        "    df['Username'] = df['Email'].str.split('@').str[0]\n",
        "\n",
        "    return df\n",
        "\n",
        "# Applying the function to the DataFrame\n",
        "df_with_username = extract_username(df)\n",
        "print(df_with_username)"
      ],
      "metadata": {
        "colab": {
          "base_uri": "https://localhost:8080/"
        },
        "id": "jJypM079g6cB",
        "outputId": "febe882c-e827-4f10-8ff4-4bbfe77cc9ec"
      },
      "execution_count": 5,
      "outputs": [
        {
          "output_type": "stream",
          "name": "stdout",
          "text": [
            "                   Email    Username\n",
            "0   john.doe@example.com    john.doe\n",
            "1  jane.smith@domain.com  jane.smith\n",
            "2   alex.lee@company.org    alex.lee\n"
          ]
        }
      ]
    },
    {
      "cell_type": "code",
      "source": [],
      "metadata": {
        "id": "169PtgxVhS2W"
      },
      "execution_count": null,
      "outputs": []
    },
    {
      "cell_type": "markdown",
      "source": [
        "# Q8.  You have a Pandas DataFrame df with columns 'A', 'B', and 'C'. Write a Python function that selects all rows where the value in column 'A' is greater than 5 and the value in column 'B' is less than 10. The function should return a new DataFrame that contains only the selected rows.\n",
        "   For example, if df contains the following values:  \n",
        "\n",
        "   \n",
        "\n",
        "## **Solution:**  \n",
        "To select rows based on conditions for multiple columns, we can use boolean indexing in Pandas. The conditions can be combined using the `&` operator for 'AND' logic.\n",
        "\n",
        "### **Function Implementation:**"
      ],
      "metadata": {
        "id": "UQm36sJnhzWb"
      }
    },
    {
      "cell_type": "code",
      "source": [
        "import pandas as pd\n",
        "\n",
        "# Creating a sample DataFrame\n",
        "data1 = {'A': [3, 8, 6, 2, 9], 'B': [5, 2, 9, 3, 1], 'C': [1, 7, 4, 5, 2]}\n",
        "df = pd.DataFrame(data1)\n",
        "\n",
        "# Function to select rows based on conditions\n",
        "def select_rows(df):\n",
        "    # Applying the conditions: A > 5 and B < 10\n",
        "    selected_rows = df[(df['A'] > 5) & (df['B'] < 10)]\n",
        "\n",
        "    return selected_rows\n",
        "\n",
        "# Applying the function to the DataFrame\n",
        "selected_df = select_rows(df)\n",
        "print(selected_df)"
      ],
      "metadata": {
        "colab": {
          "base_uri": "https://localhost:8080/"
        },
        "id": "MtSxBJX2koll",
        "outputId": "b2cbca79-4c02-47ab-9412-5101f24540f2"
      },
      "execution_count": 11,
      "outputs": [
        {
          "output_type": "stream",
          "name": "stdout",
          "text": [
            "   A  B  C\n",
            "1  8  2  7\n",
            "2  6  9  4\n",
            "4  9  1  2\n"
          ]
        }
      ]
    },
    {
      "cell_type": "markdown",
      "source": [
        "# Q9. Given a Pandas DataFrame df with a column 'Values', write a Python function to calculate the mean, median, and standard deviation of the values in the 'Values' column.\n",
        "\n",
        "## **Solution:**  \n",
        "We can use the `mean()`, `median()`, and `std()` functions of the Pandas DataFrame to calculate the mean, median, and standard deviation, respectively. These functions operate on a single column (Series) to provide the required statistics.\n",
        "\n",
        "### **Function Implementation:**\n"
      ],
      "metadata": {
        "id": "y1EDXpgPll7Y"
      }
    },
    {
      "cell_type": "code",
      "source": [
        "import pandas as pd\n",
        "\n",
        "# Creating a sample DataFrame\n",
        "data = {'Values': [10, 20, 30, 40, 50]}\n",
        "df = pd.DataFrame(data)\n",
        "\n",
        "# Function to calculate mean, median, and standard deviation\n",
        "def calculate_statistics(df):\n",
        "    mean_value = df['Values'].mean()\n",
        "    median_value = df['Values'].median()\n",
        "    std_value = df['Values'].std()\n",
        "\n",
        "    # Printing the calculated values\n",
        "    print(f\"Mean: {mean_value}\")\n",
        "    print(f\"Median: {median_value}\")\n",
        "    print(f\"Standard Deviation: {std_value}\")\n",
        "\n",
        "# Calling the function to calculate statistics\n",
        "calculate_statistics(df)"
      ],
      "metadata": {
        "colab": {
          "base_uri": "https://localhost:8080/"
        },
        "id": "fxZqIi2llBit",
        "outputId": "7dfdc4e8-6017-4304-c662-a6cdde967649"
      },
      "execution_count": 12,
      "outputs": [
        {
          "output_type": "stream",
          "name": "stdout",
          "text": [
            "Mean: 30.0\n",
            "Median: 30.0\n",
            "Standard Deviation: 15.811388300841896\n"
          ]
        }
      ]
    },
    {
      "cell_type": "code",
      "source": [],
      "metadata": {
        "id": "5YGLw8sQl1RR"
      },
      "execution_count": null,
      "outputs": []
    },
    {
      "cell_type": "markdown",
      "source": [
        "# Q10. Given a Pandas DataFrame df with a column 'Sales' and a column 'Date', write a Python function to create a new column 'MovingAverage' that contains the moving average of the sales for the past 7 days for each row in the DataFrame. The moving average should be calculated using a window of size 7 and should include the current day.\n",
        "\n",
        "## **Solution:**  \n",
        "To calculate the moving average of the sales for the past 7 days, we can use the `rolling()` function provided by Pandas, which calculates a moving window over the data. By specifying a window size of 7 and using `.mean()`, we can calculate the moving average.\n",
        "\n",
        "### **Function Implementation:**"
      ],
      "metadata": {
        "id": "ohfQVSaEmF2I"
      }
    },
    {
      "cell_type": "code",
      "source": [
        "import pandas as pd\n",
        "\n",
        "# Creating a sample DataFrame with 'Date' and 'Sales'\n",
        "data = {'Date': pd.date_range(start='2023-01-01', periods=10, freq='D'),\n",
        "        'Sales': [100, 120, 130, 140, 150, 160, 170, 180, 190, 200]}\n",
        "df = pd.DataFrame(data)\n",
        "\n",
        "# Function to calculate the moving average of sales for the past 7 days\n",
        "def calculate_moving_average(df):\n",
        "    # Setting 'Date' as the index for correct rolling window calculation\n",
        "    df.set_index('Date', inplace=True)\n",
        "\n",
        "    # Calculating the 7-day moving average using a rolling window of size 7\n",
        "    df['MovingAverage'] = df['Sales'].rolling(window=7, min_periods=1).mean()\n",
        "\n",
        "    return df\n",
        "\n",
        "# Applying the function to the DataFrame\n",
        "df_with_moving_average = calculate_moving_average(df)\n",
        "print(df_with_moving_average)"
      ],
      "metadata": {
        "colab": {
          "base_uri": "https://localhost:8080/"
        },
        "id": "ts5pHJ5RmHzQ",
        "outputId": "44f21edc-a6fd-4586-f559-02c02b1c529c"
      },
      "execution_count": 13,
      "outputs": [
        {
          "output_type": "stream",
          "name": "stdout",
          "text": [
            "            Sales  MovingAverage\n",
            "Date                            \n",
            "2023-01-01    100     100.000000\n",
            "2023-01-02    120     110.000000\n",
            "2023-01-03    130     116.666667\n",
            "2023-01-04    140     122.500000\n",
            "2023-01-05    150     128.000000\n",
            "2023-01-06    160     133.333333\n",
            "2023-01-07    170     138.571429\n",
            "2023-01-08    180     150.000000\n",
            "2023-01-09    190     160.000000\n",
            "2023-01-10    200     170.000000\n"
          ]
        }
      ]
    },
    {
      "cell_type": "code",
      "source": [],
      "metadata": {
        "id": "U07fvA8ImNDF"
      },
      "execution_count": null,
      "outputs": []
    },
    {
      "cell_type": "markdown",
      "source": [
        "# Q11. You have a Pandas DataFrame df with a column 'Date'. Write a Python function that creates a new column 'Weekday' in the DataFrame. The 'Weekday' column should contain the weekday name (e.g. Monday, Tuesday) corresponding to each date in the 'Date' column.\n",
        "\n",
        "## **Solution:**  \n",
        "We can use the `dt.day_name()` function to extract the weekday name from the 'Date' column. This function returns the full name of the day (e.g., 'Monday', 'Tuesday') for each date.\n",
        "\n",
        "### **Function Implementation:**"
      ],
      "metadata": {
        "id": "vAo2MEcSmcKd"
      }
    },
    {
      "cell_type": "code",
      "source": [
        "import pandas as pd\n",
        "\n",
        "# Creating a sample DataFrame with 'Date'\n",
        "data = {'Date': pd.to_datetime(['2023-01-01', '2023-01-02', '2023-01-03', '2023-01-04', '2023-01-05'])}\n",
        "df = pd.DataFrame(data)\n",
        "\n",
        "# Function to add 'Weekday' column\n",
        "def add_weekday_column(df):\n",
        "    # Creating a new column 'Weekday' by extracting weekday name from 'Date' column\n",
        "    df['Weekday'] = df['Date'].dt.day_name()\n",
        "\n",
        "    return df\n",
        "\n",
        "# Applying the function to the DataFrame\n",
        "df_with_weekday = add_weekday_column(df)\n",
        "print(df_with_weekday)"
      ],
      "metadata": {
        "colab": {
          "base_uri": "https://localhost:8080/"
        },
        "id": "hYV5gMP3md_r",
        "outputId": "342fc894-cb6f-4ab9-d023-87c17112dbe7"
      },
      "execution_count": 14,
      "outputs": [
        {
          "output_type": "stream",
          "name": "stdout",
          "text": [
            "        Date    Weekday\n",
            "0 2023-01-01     Sunday\n",
            "1 2023-01-02     Monday\n",
            "2 2023-01-03    Tuesday\n",
            "3 2023-01-04  Wednesday\n",
            "4 2023-01-05   Thursday\n"
          ]
        }
      ]
    },
    {
      "cell_type": "code",
      "source": [],
      "metadata": {
        "id": "s4RQ35OImj3F"
      },
      "execution_count": null,
      "outputs": []
    },
    {
      "cell_type": "markdown",
      "source": [
        "# Q12. Given a Pandas DataFrame df with a column 'Date' that contains timestamps, write a Python function to select all rows where the date is between '2023-01-01' and '2023-01-31'.\n",
        "\n",
        "## **Solution:**  \n",
        "To filter rows based on a date range, we can use boolean indexing with the `pd.to_datetime()` function to convert the date strings into datetime objects. We then compare the 'Date' column to the specified range and select the rows that fall within this range.\n",
        "\n",
        "### **Function Implementation:**"
      ],
      "metadata": {
        "id": "vO1Yt0N0mwf8"
      }
    },
    {
      "cell_type": "code",
      "source": [
        "import pandas as pd\n",
        "\n",
        "# Creating a sample DataFrame with 'Date' column containing timestamps\n",
        "data = {'Date': pd.to_datetime(['2023-01-01', '2023-01-05', '2023-01-10', '2023-02-01', '2023-01-20'])}\n",
        "df = pd.DataFrame(data)\n",
        "\n",
        "# Function to select rows with dates between '2023-01-01' and '2023-01-31'\n",
        "def select_date_range(df):\n",
        "    # Defining the start and end date\n",
        "    start_date = pd.to_datetime('2023-01-01')\n",
        "    end_date = pd.to_datetime('2023-01-31')\n",
        "\n",
        "    # Filtering the DataFrame to select rows within the date range\n",
        "    selected_rows = df[(df['Date'] >= start_date) & (df['Date'] <= end_date)]\n",
        "\n",
        "    return selected_rows\n",
        "\n",
        "# Applying the function to the DataFrame\n",
        "selected_df = select_date_range(df)\n",
        "print(selected_df)"
      ],
      "metadata": {
        "colab": {
          "base_uri": "https://localhost:8080/"
        },
        "id": "ILHr-DOAmx0V",
        "outputId": "ff5fdcf7-b549-449b-a7d8-c85c4a47169b"
      },
      "execution_count": 15,
      "outputs": [
        {
          "output_type": "stream",
          "name": "stdout",
          "text": [
            "        Date\n",
            "0 2023-01-01\n",
            "1 2023-01-05\n",
            "2 2023-01-10\n",
            "4 2023-01-20\n"
          ]
        }
      ]
    },
    {
      "cell_type": "markdown",
      "source": [
        "# Q13. To use the basic functions of pandas, what is the first and foremost necessary library that needs to be imported?\n",
        "\n",
        "## **Answer:**  \n",
        "The first and foremost necessary library that needs to be imported in order to use the basic functions of pandas is the `pandas` library itself. This is done by importing it as:\n"
      ],
      "metadata": {
        "id": "QJjRBNCcm7Io"
      }
    },
    {
      "cell_type": "code",
      "source": [],
      "metadata": {
        "id": "9gOtbTqznKzY"
      },
      "execution_count": null,
      "outputs": []
    }
  ]
}