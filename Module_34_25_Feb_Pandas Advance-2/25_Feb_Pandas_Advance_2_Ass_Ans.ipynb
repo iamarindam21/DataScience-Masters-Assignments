{
  "nbformat": 4,
  "nbformat_minor": 0,
  "metadata": {
    "colab": {
      "provenance": []
    },
    "kernelspec": {
      "name": "python3",
      "display_name": "Python 3"
    },
    "language_info": {
      "name": "python"
    }
  },
  "cells": [
    {
      "cell_type": "markdown",
      "source": [
        "# Consider following code to answer further questions:  \n",
        "import pandas as pd  \n",
        "course_name = [‘Data Science’, ‘Machine Learning’, ‘Big Data’, ‘Data Engineer’]  \n",
        "duration = [2,3,6,4]\n",
        "df = pd.DataFrame(data = {‘course_name’ : course_name, ‘duration’ : duration})\n",
        "\n",
        "\n",
        "# Q1. Write a code to print the data present in the second row of the dataframe, df.\n",
        "\n",
        "## **Solution:**  \n",
        "To print the data from the second row of the DataFrame, we can use the `iloc[]` indexer, which is used for integer-location based indexing. Since Python indexing starts at 0, the second row corresponds to index 1.\n",
        "\n",
        "### **Code Implementation:**"
      ],
      "metadata": {
        "id": "1JOHd1qznj4u"
      }
    },
    {
      "cell_type": "code",
      "source": [
        "import pandas as pd\n",
        "\n",
        "course_name = ['Data Science', 'Machine Learning', 'Big Data', 'Data Engineer']\n",
        "duration = [2, 3, 6, 4]\n",
        "\n",
        "df = pd.DataFrame(data={'course_name': course_name, 'duration': duration})\n",
        "\n",
        "# Printing the data in the second row of the dataframe\n",
        "print(df.iloc[1])\n"
      ],
      "metadata": {
        "colab": {
          "base_uri": "https://localhost:8080/"
        },
        "id": "yPHYVCrBobh6",
        "outputId": "d892d796-8d3b-4bc8-844d-6e0794c75e98"
      },
      "execution_count": 1,
      "outputs": [
        {
          "output_type": "stream",
          "name": "stdout",
          "text": [
            "course_name    Machine Learning\n",
            "duration                      3\n",
            "Name: 1, dtype: object\n"
          ]
        }
      ]
    },
    {
      "cell_type": "markdown",
      "source": [],
      "metadata": {
        "id": "qTtjXTh2oyIe"
      }
    },
    {
      "cell_type": "markdown",
      "source": [
        "# Q2. What is the difference between the functions `loc` and `iloc` in pandas.DataFrame?\n",
        "\n",
        "## **Answer:**\n",
        "The `loc[]` and `iloc[]` functions are both used to access rows and columns of a pandas DataFrame, but they differ in how they reference the rows and columns.\n",
        "\n",
        "### **Key Differences:**\n",
        "\n",
        "1. **`loc[]`:**  \n",
        "   - It is label-based indexing.\n",
        "   - It allows access to rows and columns using the labels (names) of the rows and columns.\n",
        "   - Includes both the start and end of the range when slicing."
      ],
      "metadata": {
        "id": "TwGqAuMVpFG6"
      }
    },
    {
      "cell_type": "code",
      "source": [],
      "metadata": {
        "id": "fgEjQImGpGi5"
      },
      "execution_count": null,
      "outputs": []
    },
    {
      "cell_type": "markdown",
      "source": [
        "# Q3. Reindex the given dataframe using a variable, `reindex = [3, 0, 1, 2]` and store it in the variable, `new_df`. Then find the output for both `new_df.loc[2]` and `new_df.iloc[2]`. Did you observe any difference in both the outputs? If so, explain it.\n",
        "\n",
        "## **Solution:**\n",
        "\n",
        "To reindex the dataframe using the new index `[3, 0, 1, 2]`, we can use the `reindex()` function. After reindexing, we will access the rows using both `.loc[]` (label-based indexing) and `.iloc[]` (integer-location based indexing) and compare their outputs.\n",
        "\n",
        "### **Code Implementation:**"
      ],
      "metadata": {
        "id": "q5v26PRypoLJ"
      }
    },
    {
      "cell_type": "code",
      "source": [
        "import pandas as pd\n",
        "\n",
        "# Original DataFrame\n",
        "course_name = ['Data Science', 'Machine Learning', 'Big Data', 'Data Engineer']\n",
        "duration = [2, 3, 6, 4]\n",
        "df = pd.DataFrame(data={'course_name': course_name, 'duration': duration})\n",
        "\n",
        "# Reindexing the DataFrame\n",
        "reindex = [3, 0, 1, 2]\n",
        "new_df = df.reindex(reindex)\n",
        "\n",
        "# Output using loc and iloc\n",
        "print(\"new_df.loc[2]:\")\n",
        "print(new_df.loc[2])  # Using label-based indexing\n",
        "\n",
        "print(\"\\nnew_df.iloc[2]:\")\n",
        "print(new_df.iloc[2])  # Using integer-location based indexing"
      ],
      "metadata": {
        "colab": {
          "base_uri": "https://localhost:8080/"
        },
        "id": "Ycl-gGi1ppUF",
        "outputId": "47f456ad-f657-453d-cdf5-7269e258dcce"
      },
      "execution_count": 2,
      "outputs": [
        {
          "output_type": "stream",
          "name": "stdout",
          "text": [
            "new_df.loc[2]:\n",
            "course_name    Big Data\n",
            "duration              6\n",
            "Name: 2, dtype: object\n",
            "\n",
            "new_df.iloc[2]:\n",
            "course_name    Machine Learning\n",
            "duration                      3\n",
            "Name: 1, dtype: object\n"
          ]
        }
      ]
    },
    {
      "cell_type": "code",
      "source": [],
      "metadata": {
        "id": "j7X327JSpzE4"
      },
      "execution_count": null,
      "outputs": []
    },
    {
      "cell_type": "markdown",
      "source": [
        "## Explanation\n",
        "## Did you observe any difference in both the outputs? If so then explain it.\n",
        "\n",
        "ans: Yes, there is a difference between the outputs:\n",
        "\n",
        "new_df.loc[2] returns the row with label 2, which corresponds to the data ['Big Data', 6] in the reindexed DataFrame.\n",
        "new_df.iloc[2] returns the row at the integer position 2, which corresponds to the data ['Machine Learning', 3] in the reindexed DataFrame.\n",
        "Explanation:\n",
        "loc[2] looks for the row with the label 2 (after reindexing), whereas iloc[2] looks for the row at the position 2 in the DataFrame, regardless of the label.\n",
        "In summary:\n",
        "\n",
        "loc[] uses the label of the row.\n",
        "iloc[] uses the integer position of the row."
      ],
      "metadata": {
        "id": "rkgFTWvip0U4"
      }
    },
    {
      "cell_type": "code",
      "source": [],
      "metadata": {
        "id": "3BZYZNGqp4fr"
      },
      "execution_count": null,
      "outputs": []
    },
    {
      "cell_type": "markdown",
      "source": [
        "# Consider the below code to answer further questions:\n",
        "import pandas as pd  \n",
        "import numpy as np  \n",
        "columns = ['column_1', 'column_2', 'column_3', 'column_4', 'column_5', 'column_6']  \n",
        "indices = [1,2,3,4,5,6]  \n",
        "#Creating a dataframe:  \n",
        "df1 = pd.DataFrame(np.random.rand(6,6), columns = columns, index = indices)\n"
      ],
      "metadata": {
        "id": "i6QFPTSvqtBb"
      }
    },
    {
      "cell_type": "markdown",
      "source": [],
      "metadata": {
        "id": "meXbbCn1rTY5"
      }
    },
    {
      "cell_type": "markdown",
      "source": [
        "# Q4. Write a code to find the following statistical measurements for the above dataframe df1:\n",
        "(i) mean of each and every column present in the dataframe.\n",
        "(ii) standard deviation of column, 'column_2'\n",
        "\n",
        "## **Solution:**\n",
        "\n",
        "We can use the `mean()` function to calculate the mean of each column and the `std()` function to calculate the standard deviation of a specific column in the DataFrame.\n",
        "\n",
        "### **Code Implementation:**"
      ],
      "metadata": {
        "id": "ikx7M1d6rVAj"
      }
    },
    {
      "cell_type": "code",
      "source": [
        "import pandas as pd\n",
        "import numpy as np\n",
        "\n",
        "# Creating the DataFrame\n",
        "columns = ['column_1', 'column_2', 'column_3', 'column_4', 'column_5', 'column_6']\n",
        "indices = [1, 2, 3, 4, 5, 6]\n",
        "df1 = pd.DataFrame(np.random.rand(6, 6), columns = columns, index = indices)\n",
        "\n",
        "# (i) Mean of each and every column\n",
        "mean_values = df1.mean()\n",
        "\n",
        "# (ii) Standard deviation of 'column_2'\n",
        "std_column_2 = df1['column_2'].std()\n",
        "\n",
        "# Output\n",
        "print(\"Mean of each column:\")\n",
        "print(mean_values)\n",
        "\n",
        "print(\"\\nStandard deviation of column_2:\")\n",
        "print(std_column_2)\n"
      ],
      "metadata": {
        "colab": {
          "base_uri": "https://localhost:8080/"
        },
        "id": "R0RrWiYNrunj",
        "outputId": "2efe4c8a-e7d0-4440-e0d4-4d6ff3f25080"
      },
      "execution_count": 3,
      "outputs": [
        {
          "output_type": "stream",
          "name": "stdout",
          "text": [
            "Mean of each column:\n",
            "column_1    0.511501\n",
            "column_2    0.489160\n",
            "column_3    0.546999\n",
            "column_4    0.399587\n",
            "column_5    0.496963\n",
            "column_6    0.568245\n",
            "dtype: float64\n",
            "\n",
            "Standard deviation of column_2:\n",
            "0.31165172950938785\n"
          ]
        }
      ]
    },
    {
      "cell_type": "markdown",
      "source": [
        "## Explanation:\n",
        "Mean of each column: The mean() function calculates the average of each column in the DataFrame.\n",
        "Standard deviation of column_2: The std() function calculates the standard deviation of the data in column_2, showing how much the values deviate from the mean."
      ],
      "metadata": {
        "id": "HKuET3Sor9G8"
      }
    },
    {
      "cell_type": "markdown",
      "source": [],
      "metadata": {
        "id": "35PUPg3Or1Ue"
      }
    },
    {
      "cell_type": "markdown",
      "source": [
        "# Q5. Replace the data present in the second row of column, ‘column_2’ by a string variable then find the mean of column, 'column_2'.  \n",
        "If you are getting errors in executing it, then explain why.\n",
        "\n",
        "## **Solution:**\n",
        "\n",
        "To replace the data present in the second row of column `column_2` with a string, we can use the `loc[]` function. However, replacing a numerical value with a string in a column that is expected to hold numerical data will cause issues when calculating the mean of the column, because pandas will attempt to compute the mean of mixed data types (numerical and string). This will lead to errors.\n",
        "\n",
        "### **Code Implementation:**"
      ],
      "metadata": {
        "id": "e6BwJi2bsCR7"
      }
    },
    {
      "cell_type": "code",
      "source": [
        "import pandas as pd\n",
        "import numpy as np\n",
        "\n",
        "# Creating the DataFrame\n",
        "columns = ['column_1', 'column_2', 'column_3', 'column_4', 'column_5', 'column_6']\n",
        "indices = [1, 2, 3, 4, 5, 6]\n",
        "df1 = pd.DataFrame(np.random.rand(6, 6), columns = columns, index = indices)\n",
        "\n",
        "# Replacing the second row of 'column_2' with a string\n",
        "df1.loc[2, 'column_2'] = 'string_value'\n",
        "\n",
        "# Trying to find the mean of 'column_2'\n",
        "try:\n",
        "    mean_column_2 = df1['column_2'].mean()\n",
        "    print(\"Mean of column_2:\", mean_column_2)\n",
        "except Exception as e:\n",
        "    print(\"Error:\", e)"
      ],
      "metadata": {
        "colab": {
          "base_uri": "https://localhost:8080/"
        },
        "id": "Ty4-6ceusSxW",
        "outputId": "d950efb9-7239-4e2d-91de-87866da6f89e"
      },
      "execution_count": 4,
      "outputs": [
        {
          "output_type": "stream",
          "name": "stdout",
          "text": [
            "Error: unsupported operand type(s) for +: 'float' and 'str'\n"
          ]
        },
        {
          "output_type": "stream",
          "name": "stderr",
          "text": [
            "<ipython-input-4-c1aa836e2564>:10: FutureWarning: Setting an item of incompatible dtype is deprecated and will raise an error in a future version of pandas. Value 'string_value' has dtype incompatible with float64, please explicitly cast to a compatible dtype first.\n",
            "  df1.loc[2, 'column_2'] = 'string_value'\n"
          ]
        }
      ]
    },
    {
      "cell_type": "markdown",
      "source": [
        "## Explanation of Error:\n",
        "The error occurs because pandas tries to compute the mean of a column that contains both numeric and string data types, which is not possible. When the second row is replaced with a string, pandas will treat the entire column as an object (since strings are objects in pandas). The mean() function cannot handle non-numeric data types, and thus an error is raised.\n",
        "\n",
        "To avoid this error, ensure that all values in the column are numeric before attempting to calculate the mean."
      ],
      "metadata": {
        "id": "U1khG_H0sYb5"
      }
    },
    {
      "cell_type": "code",
      "source": [],
      "metadata": {
        "id": "p-JOaBdCse5Z"
      },
      "execution_count": null,
      "outputs": []
    },
    {
      "cell_type": "markdown",
      "source": [
        "# Q6. What do you understand about the windows function in pandas and list the types of windows functions?\n",
        "\n",
        "## **Answer:**\n",
        "\n",
        "In pandas, the **window functions** (or **rolling operations**) allow you to perform calculations over a moving or sliding window of data. These functions help to analyze data over a specified period or range of rows and are particularly useful for time series analysis, smoothing data, and calculating moving averages, among other tasks.\n",
        "\n",
        "### **Types of Window Functions in pandas:**\n",
        "\n",
        "1. **Rolling Window**:\n",
        "   - It applies a function over a fixed-sized window that moves across the data.\n",
        "   - It is used to calculate statistics like moving averages, sums, or other aggregations over a specific window of data.\n",
        "   \n",
        "2. **Expanding Window:**\n",
        "\n",
        "This function calculates statistics over all the previous data up to the current row. Unlike rolling windows that are fixed in size, expanding windows grow as you move through the data.\n",
        "Example: Calculating the cumulative sum (expanding sum) of a column.\n",
        "\n",
        "3. **EWM (Exponentially Weighted Window):**\n",
        "\n",
        "The exponentially weighted window allows you to give more weight to recent observations when calculating statistics. It applies a decay factor to past data.\n",
        "It’s often used for smoothing time series data, such as in the calculation of exponentially weighted moving average"
      ],
      "metadata": {
        "id": "2l1Q01r2shlj"
      }
    },
    {
      "cell_type": "code",
      "source": [
        "import pandas as pd\n",
        "import numpy as np\n",
        "\n",
        "# Create a sample DataFrame\n",
        "data = {'column_1': [10, 20, 30, 40, 50, 60, 70]}\n",
        "df = pd.DataFrame(data)\n",
        "\n",
        "# Rolling Window Example (Moving Average)\n",
        "df['moving_avg'] = df['column_1'].rolling(window=3).mean()\n",
        "\n",
        "# Expanding Window Example (Cumulative Sum)\n",
        "df['expanding_sum'] = df['column_1'].expanding().sum()\n",
        "\n",
        "# EWM (Exponentially Weighted Moving Average) Example\n",
        "df['ewm_avg'] = df['column_1'].ewm(span=3).mean()\n",
        "\n",
        "# Output the results\n",
        "print(df)"
      ],
      "metadata": {
        "colab": {
          "base_uri": "https://localhost:8080/"
        },
        "id": "KAMasIHCs-l1",
        "outputId": "4bcf838f-f40f-4cbc-9c73-3efc7a9585b8"
      },
      "execution_count": 5,
      "outputs": [
        {
          "output_type": "stream",
          "name": "stdout",
          "text": [
            "   column_1  moving_avg  expanding_sum    ewm_avg\n",
            "0        10         NaN           10.0  10.000000\n",
            "1        20         NaN           30.0  16.666667\n",
            "2        30        20.0           60.0  24.285714\n",
            "3        40        30.0          100.0  32.666667\n",
            "4        50        40.0          150.0  41.612903\n",
            "5        60        50.0          210.0  50.952381\n",
            "6        70        60.0          280.0  60.551181\n"
          ]
        }
      ]
    },
    {
      "cell_type": "code",
      "source": [],
      "metadata": {
        "id": "b7XEt5kCtb9O"
      },
      "execution_count": null,
      "outputs": []
    },
    {
      "cell_type": "markdown",
      "source": [
        "# Q7. Write a code to print only the current month and year at the time of answering this question.\n",
        "\n",
        "## **Answer:**\n",
        "\n",
        "To print the current month and year, we can use the `pandas` `datetime` function to get the current date and time. Then, we can extract and print only the month and year from the current date.\n",
        "\n",
        "### **Code Implementation:**"
      ],
      "metadata": {
        "id": "138eudYutcvJ"
      }
    },
    {
      "cell_type": "code",
      "source": [
        "import pandas as pd\n",
        "\n",
        "# Get the current date\n",
        "current_date = pd.to_datetime(\"today\")\n",
        "\n",
        "# Extract the current month and year\n",
        "current_month_year = current_date.strftime('%B %Y')  # %B gives the full month name, %Y gives the year\n",
        "\n",
        "# Print the current month and year\n",
        "print(current_month_year)"
      ],
      "metadata": {
        "colab": {
          "base_uri": "https://localhost:8080/"
        },
        "id": "TrGAvtmZtntB",
        "outputId": "c52d3c3a-4c9b-4ccd-81ca-c16091be2436"
      },
      "execution_count": 6,
      "outputs": [
        {
          "output_type": "stream",
          "name": "stdout",
          "text": [
            "February 2025\n"
          ]
        }
      ]
    },
    {
      "cell_type": "markdown",
      "source": [
        "# Q8. Write a Python program that takes in two dates as input (in the format YYYY-MM-DD) and calculates the difference between them in days, hours, and minutes using Pandas time delta. The program should prompt the user to enter the dates and display the result.\n",
        "\n",
        "## **Answer:**\n",
        "\n",
        "To calculate the difference between two dates, we can use the `pd.to_datetime()` function to convert the input dates into datetime objects, then subtract the two dates to get a time delta. We can then extract the difference in days, hours, and minutes from the time delta.\n",
        "\n",
        "### **Code Implementation:**"
      ],
      "metadata": {
        "id": "DoBVrL58tvpB"
      }
    },
    {
      "cell_type": "code",
      "source": [
        "import pandas as pd\n",
        "\n",
        "# Prompt the user to input two dates in the format YYYY-MM-DD\n",
        "date1_input = input(\"Enter the first date (YYYY-MM-DD): \")\n",
        "date2_input = input(\"Enter the second date (YYYY-MM-DD): \")\n",
        "\n",
        "# Convert the input strings into pandas datetime objects\n",
        "date1 = pd.to_datetime(date1_input)\n",
        "date2 = pd.to_datetime(date2_input)\n",
        "\n",
        "# Calculate the difference between the two dates\n",
        "time_difference = abs(date2 - date1)\n",
        "\n",
        "# Extract days, hours, and minutes from the time delta\n",
        "days = time_difference.days\n",
        "hours = time_difference.seconds // 3600\n",
        "minutes = (time_difference.seconds % 3600) // 60\n",
        "\n",
        "# Print the result\n",
        "print(f\"The difference is {days} days, {hours} hours, and {minutes} minutes.\")"
      ],
      "metadata": {
        "colab": {
          "base_uri": "https://localhost:8080/"
        },
        "id": "2t_IrGsnt8we",
        "outputId": "e60a6421-3e57-48ae-bce2-6e3a0dc1a018"
      },
      "execution_count": 7,
      "outputs": [
        {
          "output_type": "stream",
          "name": "stdout",
          "text": [
            "Enter the first date (YYYY-MM-DD): 2023-02-10\n",
            "Enter the second date (YYYY-MM-DD): 2025-03-20\n",
            "The difference is 769 days, 0 hours, and 0 minutes.\n"
          ]
        }
      ]
    },
    {
      "cell_type": "markdown",
      "source": [
        "# Q9. Write a Python program that reads a CSV file containing categorical data and converts a specified column to a categorical data type. The program should prompt the user to enter the file path, column name, and category order, and then display the sorted data.\n",
        "\n",
        "## **Answer:**\n",
        "\n",
        "To achieve this, we can use `pandas` to read the CSV file, convert a specific column to a categorical type, and then sort the data based on the categories defined by the user.\n",
        "\n",
        "Here is how we can implement this:\n",
        "\n",
        "### **Code Implementation:**"
      ],
      "metadata": {
        "id": "-yOg_oYJueIJ"
      }
    },
    {
      "cell_type": "code",
      "source": [
        "import pandas as pd\n",
        "\n",
        "# Sample data to create a CSV file\n",
        "data = {\n",
        "    'Name': ['Alice', 'Bob', 'Clarie', 'David', 'Eve'],\n",
        "    'Category': ['High', 'Medium', 'Low', 'High', 'Medium']\n",
        "}\n",
        "\n",
        "# Create a DataFrame\n",
        "df = pd.DataFrame(data)\n",
        "\n",
        "# Save DataFrame to CSV\n",
        "df.to_csv('sample_data.csv', index=False)\n",
        "\n",
        "# Display the DataFrame\n",
        "df\n"
      ],
      "metadata": {
        "colab": {
          "base_uri": "https://localhost:8080/",
          "height": 206
        },
        "id": "EouH6CgKu3jY",
        "outputId": "1a3646b4-5d32-412d-fd32-1bdbc8bc3526"
      },
      "execution_count": 12,
      "outputs": [
        {
          "output_type": "execute_result",
          "data": {
            "text/plain": [
              "     Name Category\n",
              "0   Alice     High\n",
              "1     Bob   Medium\n",
              "2  Clarie      Low\n",
              "3   David     High\n",
              "4     Eve   Medium"
            ],
            "text/html": [
              "\n",
              "  <div id=\"df-6621da59-1fbb-40aa-8bfc-7b207d7a1495\" class=\"colab-df-container\">\n",
              "    <div>\n",
              "<style scoped>\n",
              "    .dataframe tbody tr th:only-of-type {\n",
              "        vertical-align: middle;\n",
              "    }\n",
              "\n",
              "    .dataframe tbody tr th {\n",
              "        vertical-align: top;\n",
              "    }\n",
              "\n",
              "    .dataframe thead th {\n",
              "        text-align: right;\n",
              "    }\n",
              "</style>\n",
              "<table border=\"1\" class=\"dataframe\">\n",
              "  <thead>\n",
              "    <tr style=\"text-align: right;\">\n",
              "      <th></th>\n",
              "      <th>Name</th>\n",
              "      <th>Category</th>\n",
              "    </tr>\n",
              "  </thead>\n",
              "  <tbody>\n",
              "    <tr>\n",
              "      <th>0</th>\n",
              "      <td>Alice</td>\n",
              "      <td>High</td>\n",
              "    </tr>\n",
              "    <tr>\n",
              "      <th>1</th>\n",
              "      <td>Bob</td>\n",
              "      <td>Medium</td>\n",
              "    </tr>\n",
              "    <tr>\n",
              "      <th>2</th>\n",
              "      <td>Clarie</td>\n",
              "      <td>Low</td>\n",
              "    </tr>\n",
              "    <tr>\n",
              "      <th>3</th>\n",
              "      <td>David</td>\n",
              "      <td>High</td>\n",
              "    </tr>\n",
              "    <tr>\n",
              "      <th>4</th>\n",
              "      <td>Eve</td>\n",
              "      <td>Medium</td>\n",
              "    </tr>\n",
              "  </tbody>\n",
              "</table>\n",
              "</div>\n",
              "    <div class=\"colab-df-buttons\">\n",
              "\n",
              "  <div class=\"colab-df-container\">\n",
              "    <button class=\"colab-df-convert\" onclick=\"convertToInteractive('df-6621da59-1fbb-40aa-8bfc-7b207d7a1495')\"\n",
              "            title=\"Convert this dataframe to an interactive table.\"\n",
              "            style=\"display:none;\">\n",
              "\n",
              "  <svg xmlns=\"http://www.w3.org/2000/svg\" height=\"24px\" viewBox=\"0 -960 960 960\">\n",
              "    <path d=\"M120-120v-720h720v720H120Zm60-500h600v-160H180v160Zm220 220h160v-160H400v160Zm0 220h160v-160H400v160ZM180-400h160v-160H180v160Zm440 0h160v-160H620v160ZM180-180h160v-160H180v160Zm440 0h160v-160H620v160Z\"/>\n",
              "  </svg>\n",
              "    </button>\n",
              "\n",
              "  <style>\n",
              "    .colab-df-container {\n",
              "      display:flex;\n",
              "      gap: 12px;\n",
              "    }\n",
              "\n",
              "    .colab-df-convert {\n",
              "      background-color: #E8F0FE;\n",
              "      border: none;\n",
              "      border-radius: 50%;\n",
              "      cursor: pointer;\n",
              "      display: none;\n",
              "      fill: #1967D2;\n",
              "      height: 32px;\n",
              "      padding: 0 0 0 0;\n",
              "      width: 32px;\n",
              "    }\n",
              "\n",
              "    .colab-df-convert:hover {\n",
              "      background-color: #E2EBFA;\n",
              "      box-shadow: 0px 1px 2px rgba(60, 64, 67, 0.3), 0px 1px 3px 1px rgba(60, 64, 67, 0.15);\n",
              "      fill: #174EA6;\n",
              "    }\n",
              "\n",
              "    .colab-df-buttons div {\n",
              "      margin-bottom: 4px;\n",
              "    }\n",
              "\n",
              "    [theme=dark] .colab-df-convert {\n",
              "      background-color: #3B4455;\n",
              "      fill: #D2E3FC;\n",
              "    }\n",
              "\n",
              "    [theme=dark] .colab-df-convert:hover {\n",
              "      background-color: #434B5C;\n",
              "      box-shadow: 0px 1px 3px 1px rgba(0, 0, 0, 0.15);\n",
              "      filter: drop-shadow(0px 1px 2px rgba(0, 0, 0, 0.3));\n",
              "      fill: #FFFFFF;\n",
              "    }\n",
              "  </style>\n",
              "\n",
              "    <script>\n",
              "      const buttonEl =\n",
              "        document.querySelector('#df-6621da59-1fbb-40aa-8bfc-7b207d7a1495 button.colab-df-convert');\n",
              "      buttonEl.style.display =\n",
              "        google.colab.kernel.accessAllowed ? 'block' : 'none';\n",
              "\n",
              "      async function convertToInteractive(key) {\n",
              "        const element = document.querySelector('#df-6621da59-1fbb-40aa-8bfc-7b207d7a1495');\n",
              "        const dataTable =\n",
              "          await google.colab.kernel.invokeFunction('convertToInteractive',\n",
              "                                                    [key], {});\n",
              "        if (!dataTable) return;\n",
              "\n",
              "        const docLinkHtml = 'Like what you see? Visit the ' +\n",
              "          '<a target=\"_blank\" href=https://colab.research.google.com/notebooks/data_table.ipynb>data table notebook</a>'\n",
              "          + ' to learn more about interactive tables.';\n",
              "        element.innerHTML = '';\n",
              "        dataTable['output_type'] = 'display_data';\n",
              "        await google.colab.output.renderOutput(dataTable, element);\n",
              "        const docLink = document.createElement('div');\n",
              "        docLink.innerHTML = docLinkHtml;\n",
              "        element.appendChild(docLink);\n",
              "      }\n",
              "    </script>\n",
              "  </div>\n",
              "\n",
              "\n",
              "<div id=\"df-91150574-b68e-408a-aae8-f3a63f1c47ff\">\n",
              "  <button class=\"colab-df-quickchart\" onclick=\"quickchart('df-91150574-b68e-408a-aae8-f3a63f1c47ff')\"\n",
              "            title=\"Suggest charts\"\n",
              "            style=\"display:none;\">\n",
              "\n",
              "<svg xmlns=\"http://www.w3.org/2000/svg\" height=\"24px\"viewBox=\"0 0 24 24\"\n",
              "     width=\"24px\">\n",
              "    <g>\n",
              "        <path d=\"M19 3H5c-1.1 0-2 .9-2 2v14c0 1.1.9 2 2 2h14c1.1 0 2-.9 2-2V5c0-1.1-.9-2-2-2zM9 17H7v-7h2v7zm4 0h-2V7h2v10zm4 0h-2v-4h2v4z\"/>\n",
              "    </g>\n",
              "</svg>\n",
              "  </button>\n",
              "\n",
              "<style>\n",
              "  .colab-df-quickchart {\n",
              "      --bg-color: #E8F0FE;\n",
              "      --fill-color: #1967D2;\n",
              "      --hover-bg-color: #E2EBFA;\n",
              "      --hover-fill-color: #174EA6;\n",
              "      --disabled-fill-color: #AAA;\n",
              "      --disabled-bg-color: #DDD;\n",
              "  }\n",
              "\n",
              "  [theme=dark] .colab-df-quickchart {\n",
              "      --bg-color: #3B4455;\n",
              "      --fill-color: #D2E3FC;\n",
              "      --hover-bg-color: #434B5C;\n",
              "      --hover-fill-color: #FFFFFF;\n",
              "      --disabled-bg-color: #3B4455;\n",
              "      --disabled-fill-color: #666;\n",
              "  }\n",
              "\n",
              "  .colab-df-quickchart {\n",
              "    background-color: var(--bg-color);\n",
              "    border: none;\n",
              "    border-radius: 50%;\n",
              "    cursor: pointer;\n",
              "    display: none;\n",
              "    fill: var(--fill-color);\n",
              "    height: 32px;\n",
              "    padding: 0;\n",
              "    width: 32px;\n",
              "  }\n",
              "\n",
              "  .colab-df-quickchart:hover {\n",
              "    background-color: var(--hover-bg-color);\n",
              "    box-shadow: 0 1px 2px rgba(60, 64, 67, 0.3), 0 1px 3px 1px rgba(60, 64, 67, 0.15);\n",
              "    fill: var(--button-hover-fill-color);\n",
              "  }\n",
              "\n",
              "  .colab-df-quickchart-complete:disabled,\n",
              "  .colab-df-quickchart-complete:disabled:hover {\n",
              "    background-color: var(--disabled-bg-color);\n",
              "    fill: var(--disabled-fill-color);\n",
              "    box-shadow: none;\n",
              "  }\n",
              "\n",
              "  .colab-df-spinner {\n",
              "    border: 2px solid var(--fill-color);\n",
              "    border-color: transparent;\n",
              "    border-bottom-color: var(--fill-color);\n",
              "    animation:\n",
              "      spin 1s steps(1) infinite;\n",
              "  }\n",
              "\n",
              "  @keyframes spin {\n",
              "    0% {\n",
              "      border-color: transparent;\n",
              "      border-bottom-color: var(--fill-color);\n",
              "      border-left-color: var(--fill-color);\n",
              "    }\n",
              "    20% {\n",
              "      border-color: transparent;\n",
              "      border-left-color: var(--fill-color);\n",
              "      border-top-color: var(--fill-color);\n",
              "    }\n",
              "    30% {\n",
              "      border-color: transparent;\n",
              "      border-left-color: var(--fill-color);\n",
              "      border-top-color: var(--fill-color);\n",
              "      border-right-color: var(--fill-color);\n",
              "    }\n",
              "    40% {\n",
              "      border-color: transparent;\n",
              "      border-right-color: var(--fill-color);\n",
              "      border-top-color: var(--fill-color);\n",
              "    }\n",
              "    60% {\n",
              "      border-color: transparent;\n",
              "      border-right-color: var(--fill-color);\n",
              "    }\n",
              "    80% {\n",
              "      border-color: transparent;\n",
              "      border-right-color: var(--fill-color);\n",
              "      border-bottom-color: var(--fill-color);\n",
              "    }\n",
              "    90% {\n",
              "      border-color: transparent;\n",
              "      border-bottom-color: var(--fill-color);\n",
              "    }\n",
              "  }\n",
              "</style>\n",
              "\n",
              "  <script>\n",
              "    async function quickchart(key) {\n",
              "      const quickchartButtonEl =\n",
              "        document.querySelector('#' + key + ' button');\n",
              "      quickchartButtonEl.disabled = true;  // To prevent multiple clicks.\n",
              "      quickchartButtonEl.classList.add('colab-df-spinner');\n",
              "      try {\n",
              "        const charts = await google.colab.kernel.invokeFunction(\n",
              "            'suggestCharts', [key], {});\n",
              "      } catch (error) {\n",
              "        console.error('Error during call to suggestCharts:', error);\n",
              "      }\n",
              "      quickchartButtonEl.classList.remove('colab-df-spinner');\n",
              "      quickchartButtonEl.classList.add('colab-df-quickchart-complete');\n",
              "    }\n",
              "    (() => {\n",
              "      let quickchartButtonEl =\n",
              "        document.querySelector('#df-91150574-b68e-408a-aae8-f3a63f1c47ff button');\n",
              "      quickchartButtonEl.style.display =\n",
              "        google.colab.kernel.accessAllowed ? 'block' : 'none';\n",
              "    })();\n",
              "  </script>\n",
              "</div>\n",
              "\n",
              "  <div id=\"id_b6327148-41db-4fb7-a136-d35a2eebb05c\">\n",
              "    <style>\n",
              "      .colab-df-generate {\n",
              "        background-color: #E8F0FE;\n",
              "        border: none;\n",
              "        border-radius: 50%;\n",
              "        cursor: pointer;\n",
              "        display: none;\n",
              "        fill: #1967D2;\n",
              "        height: 32px;\n",
              "        padding: 0 0 0 0;\n",
              "        width: 32px;\n",
              "      }\n",
              "\n",
              "      .colab-df-generate:hover {\n",
              "        background-color: #E2EBFA;\n",
              "        box-shadow: 0px 1px 2px rgba(60, 64, 67, 0.3), 0px 1px 3px 1px rgba(60, 64, 67, 0.15);\n",
              "        fill: #174EA6;\n",
              "      }\n",
              "\n",
              "      [theme=dark] .colab-df-generate {\n",
              "        background-color: #3B4455;\n",
              "        fill: #D2E3FC;\n",
              "      }\n",
              "\n",
              "      [theme=dark] .colab-df-generate:hover {\n",
              "        background-color: #434B5C;\n",
              "        box-shadow: 0px 1px 3px 1px rgba(0, 0, 0, 0.15);\n",
              "        filter: drop-shadow(0px 1px 2px rgba(0, 0, 0, 0.3));\n",
              "        fill: #FFFFFF;\n",
              "      }\n",
              "    </style>\n",
              "    <button class=\"colab-df-generate\" onclick=\"generateWithVariable('df')\"\n",
              "            title=\"Generate code using this dataframe.\"\n",
              "            style=\"display:none;\">\n",
              "\n",
              "  <svg xmlns=\"http://www.w3.org/2000/svg\" height=\"24px\"viewBox=\"0 0 24 24\"\n",
              "       width=\"24px\">\n",
              "    <path d=\"M7,19H8.4L18.45,9,17,7.55,7,17.6ZM5,21V16.75L18.45,3.32a2,2,0,0,1,2.83,0l1.4,1.43a1.91,1.91,0,0,1,.58,1.4,1.91,1.91,0,0,1-.58,1.4L9.25,21ZM18.45,9,17,7.55Zm-12,3A5.31,5.31,0,0,0,4.9,8.1,5.31,5.31,0,0,0,1,6.5,5.31,5.31,0,0,0,4.9,4.9,5.31,5.31,0,0,0,6.5,1,5.31,5.31,0,0,0,8.1,4.9,5.31,5.31,0,0,0,12,6.5,5.46,5.46,0,0,0,6.5,12Z\"/>\n",
              "  </svg>\n",
              "    </button>\n",
              "    <script>\n",
              "      (() => {\n",
              "      const buttonEl =\n",
              "        document.querySelector('#id_b6327148-41db-4fb7-a136-d35a2eebb05c button.colab-df-generate');\n",
              "      buttonEl.style.display =\n",
              "        google.colab.kernel.accessAllowed ? 'block' : 'none';\n",
              "\n",
              "      buttonEl.onclick = () => {\n",
              "        google.colab.notebook.generateWithVariable('df');\n",
              "      }\n",
              "      })();\n",
              "    </script>\n",
              "  </div>\n",
              "\n",
              "    </div>\n",
              "  </div>\n"
            ],
            "application/vnd.google.colaboratory.intrinsic+json": {
              "type": "dataframe",
              "variable_name": "df",
              "summary": "{\n  \"name\": \"df\",\n  \"rows\": 5,\n  \"fields\": [\n    {\n      \"column\": \"Name\",\n      \"properties\": {\n        \"dtype\": \"string\",\n        \"num_unique_values\": 5,\n        \"samples\": [\n          \"Bob\",\n          \"Eve\",\n          \"Clarie\"\n        ],\n        \"semantic_type\": \"\",\n        \"description\": \"\"\n      }\n    },\n    {\n      \"column\": \"Category\",\n      \"properties\": {\n        \"dtype\": \"string\",\n        \"num_unique_values\": 3,\n        \"samples\": [\n          \"High\",\n          \"Medium\",\n          \"Low\"\n        ],\n        \"semantic_type\": \"\",\n        \"description\": \"\"\n      }\n    }\n  ]\n}"
            }
          },
          "metadata": {},
          "execution_count": 12
        }
      ]
    },
    {
      "cell_type": "code",
      "source": [],
      "metadata": {
        "id": "KZc2b4VFxPM4"
      },
      "execution_count": null,
      "outputs": []
    }
  ]
}