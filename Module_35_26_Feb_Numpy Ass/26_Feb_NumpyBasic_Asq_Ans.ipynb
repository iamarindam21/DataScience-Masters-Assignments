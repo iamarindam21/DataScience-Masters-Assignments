{
  "nbformat": 4,
  "nbformat_minor": 0,
  "metadata": {
    "colab": {
      "provenance": []
    },
    "kernelspec": {
      "name": "python3",
      "display_name": "Python 3"
    },
    "language_info": {
      "name": "python"
    }
  },
  "cells": [
    {
      "cell_type": "markdown",
      "source": [
        "#Q1: Is there any difference in the data type of variables list_ and array_list?\n",
        "Ans: Yes, there is a difference in the data type of list_ and array_list.\n",
        "\n",
        "list_ is a standard Python list, which is a built-in data structure in Python.\n",
        "array_list is a NumPy array, which is an object from the NumPy library, and it is specifically designed to handle numerical data efficiently.\n",
        "The main difference:\n",
        "\n",
        "A Python list (list_) can hold elements of different types (e.g., integers, strings, etc.), and it doesn't impose any strict type on the data.\n",
        "A NumPy array (array_list) has a fixed type (dtype), and it is optimized for numerical operations and data manipulation. In this case, since the list contains strings, array_list will have a dtype of str.\n",
        "## Code to print the data types:\n",
        "\n"
      ],
      "metadata": {
        "id": "UKAZO47n1ADn"
      }
    },
    {
      "cell_type": "code",
      "source": [
        "import numpy as np\n",
        "\n",
        "# List of string elements\n",
        "list_ = ['1', '2', '3', '4', '5']\n",
        "\n",
        "# Converting list into a NumPy array\n",
        "array_list = np.array(object=list_)\n",
        "\n",
        "# Print the data types of both variables\n",
        "print(\"Data type of list_: \", type(list_))\n",
        "print(\"Data type of array_list: \", type(array_list))\n",
        "print(\"Data type of elements in array_list: \", array_list.dtype)\n"
      ],
      "metadata": {
        "colab": {
          "base_uri": "https://localhost:8080/"
        },
        "id": "A1vZJwbJ1iyX",
        "outputId": "25639460-bca1-45bd-9378-aca124f36687"
      },
      "execution_count": 1,
      "outputs": [
        {
          "output_type": "stream",
          "name": "stdout",
          "text": [
            "Data type of list_:  <class 'list'>\n",
            "Data type of array_list:  <class 'numpy.ndarray'>\n",
            "Data type of elements in array_list:  <U1\n"
          ]
        }
      ]
    },
    {
      "cell_type": "markdown",
      "source": [
        "# Q2: Write a code to print the data type of each and every element of both the variables list_ and array_list.\n",
        "Ans: To print the data type of each element in both the list (list_) and the NumPy array (array_list), we can loop through each element and use the type() function.\n",
        "\n",
        "## Here’s the code for this:"
      ],
      "metadata": {
        "id": "huK36uj31uk8"
      }
    },
    {
      "cell_type": "markdown",
      "source": [],
      "metadata": {
        "id": "uLgd42zD1vJH"
      }
    },
    {
      "cell_type": "code",
      "source": [
        "import numpy as np\n",
        "\n",
        "# List of string elements\n",
        "list_ = ['1', '2', '3', '4', '5']\n",
        "\n",
        "# Converting list into a NumPy array\n",
        "array_list = np.array(object=list_)\n",
        "\n",
        "# Print the data type of each element in list_\n",
        "print(\"Data types of elements in list_:\")\n",
        "for item in list_:\n",
        "    print(type(item))\n",
        "\n",
        "# Print the data type of each element in array_list\n",
        "print(\"\\nData types of elements in array_list:\")\n",
        "for item in array_list:\n",
        "    print(type(item))\n"
      ],
      "metadata": {
        "colab": {
          "base_uri": "https://localhost:8080/"
        },
        "id": "Uk-gYmdx2PpJ",
        "outputId": "9353df91-5deb-498b-c1bd-f0831757a9a6"
      },
      "execution_count": 2,
      "outputs": [
        {
          "output_type": "stream",
          "name": "stdout",
          "text": [
            "Data types of elements in list_:\n",
            "<class 'str'>\n",
            "<class 'str'>\n",
            "<class 'str'>\n",
            "<class 'str'>\n",
            "<class 'str'>\n",
            "\n",
            "Data types of elements in array_list:\n",
            "<class 'numpy.str_'>\n",
            "<class 'numpy.str_'>\n",
            "<class 'numpy.str_'>\n",
            "<class 'numpy.str_'>\n",
            "<class 'numpy.str_'>\n"
          ]
        }
      ]
    },
    {
      "cell_type": "code",
      "source": [],
      "metadata": {
        "id": "dUMTyOrV2X-W"
      },
      "execution_count": null,
      "outputs": []
    },
    {
      "cell_type": "markdown",
      "source": [
        "# Q3: Will there be any difference in the data type of the elements present in both the variables, list_ and array_list, after the following change?\n",
        "ans: Yes, there will be a difference in the data type of the elements in both variables after you change the dtype of array_list to int.\n",
        "\n",
        "list_ will still contain string elements ('1', '2', '3', etc.).\n",
        "array_list will now contain integer elements because you explicitly set dtype=int while creating the NumPy array. This means that the string values will be converted to integers."
      ],
      "metadata": {
        "id": "GyxukRhB3FU4"
      }
    },
    {
      "cell_type": "code",
      "source": [],
      "metadata": {
        "id": "aO2mF2DX3Jhv"
      },
      "execution_count": null,
      "outputs": []
    },
    {
      "cell_type": "markdown",
      "source": [
        "# Q4: Write a code to find the following characteristics of variable, num_array:(i) Shape(ii) Size\n",
        "\n",
        "Code:"
      ],
      "metadata": {
        "id": "7bhW1YIG3ao7"
      }
    },
    {
      "cell_type": "code",
      "source": [
        "import numpy as np\n",
        "\n",
        "# List of lists\n",
        "num_list = [[1, 2, 3], [4, 5, 6]]\n",
        "\n",
        "# Converting the list into a NumPy array\n",
        "num_array = np.array(object=num_list)\n",
        "\n",
        "# Finding the shape of num_array\n",
        "shape = num_array.shape\n",
        "\n",
        "# Finding the size of num_array\n",
        "size = num_array.size\n",
        "\n",
        "# Printing the results\n",
        "print(\"Shape of num_array:\", shape)\n",
        "print(\"Size of num_array:\", size)\n"
      ],
      "metadata": {
        "colab": {
          "base_uri": "https://localhost:8080/"
        },
        "id": "8noEgL3e3e5H",
        "outputId": "968c5097-6d77-4e54-8ced-8b5602dbf520"
      },
      "execution_count": 3,
      "outputs": [
        {
          "output_type": "stream",
          "name": "stdout",
          "text": [
            "Shape of num_array: (2, 3)\n",
            "Size of num_array: 6\n"
          ]
        }
      ]
    },
    {
      "cell_type": "code",
      "source": [],
      "metadata": {
        "id": "8SiYZuUD3ksj"
      },
      "execution_count": null,
      "outputs": []
    },
    {
      "cell_type": "markdown",
      "source": [
        "#Q5: Write a code to create a NumPy array of a 3x3 matrix containing zeros only, using a NumPy array creation function.\n",
        "\n",
        "##Code:"
      ],
      "metadata": {
        "id": "lbQuUCob3ld_"
      }
    },
    {
      "cell_type": "code",
      "source": [
        "import numpy as np\n",
        "\n",
        "# Creating a 3x3 NumPy array with zeros\n",
        "zero_matrix = np.zeros((3, 3))\n",
        "\n",
        "# Printing the resulting array\n",
        "print(zero_matrix)\n"
      ],
      "metadata": {
        "colab": {
          "base_uri": "https://localhost:8080/"
        },
        "id": "juJNtO3j3xcg",
        "outputId": "79124c07-f652-4d68-94df-2d1a6fbfed7a"
      },
      "execution_count": 4,
      "outputs": [
        {
          "output_type": "stream",
          "name": "stdout",
          "text": [
            "[[0. 0. 0.]\n",
            " [0. 0. 0.]\n",
            " [0. 0. 0.]]\n"
          ]
        }
      ]
    },
    {
      "cell_type": "code",
      "source": [],
      "metadata": {
        "id": "ekKFNcS83220"
      },
      "execution_count": null,
      "outputs": []
    },
    {
      "cell_type": "markdown",
      "source": [
        "# Q6: Create an identity matrix of shape (5,5) using NumPy functions.\n",
        "\n",
        "## Code:"
      ],
      "metadata": {
        "id": "yz2QJd7p337x"
      }
    },
    {
      "cell_type": "code",
      "source": [
        "import numpy as np\n",
        "\n",
        "# Creating a 5x5 identity matrix\n",
        "identity_matrix = np.eye(5)\n",
        "\n",
        "# Printing the resulting identity matrix\n",
        "print(identity_matrix)\n"
      ],
      "metadata": {
        "colab": {
          "base_uri": "https://localhost:8080/"
        },
        "id": "Ts8gCfWG4F27",
        "outputId": "0df87e5b-06ab-4772-9337-f498b389f665"
      },
      "execution_count": 5,
      "outputs": [
        {
          "output_type": "stream",
          "name": "stdout",
          "text": [
            "[[1. 0. 0. 0. 0.]\n",
            " [0. 1. 0. 0. 0.]\n",
            " [0. 0. 1. 0. 0.]\n",
            " [0. 0. 0. 1. 0.]\n",
            " [0. 0. 0. 0. 1.]]\n"
          ]
        }
      ]
    },
    {
      "cell_type": "code",
      "source": [],
      "metadata": {
        "id": "kJekwNWJ4JOl"
      },
      "execution_count": null,
      "outputs": []
    }
  ]
}