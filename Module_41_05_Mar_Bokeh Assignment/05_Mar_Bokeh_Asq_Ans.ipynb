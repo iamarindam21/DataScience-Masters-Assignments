{
  "nbformat": 4,
  "nbformat_minor": 0,
  "metadata": {
    "colab": {
      "provenance": []
    },
    "kernelspec": {
      "name": "python3",
      "display_name": "Python 3"
    },
    "language_info": {
      "name": "python"
    }
  },
  "cells": [
    {
      "cell_type": "markdown",
      "source": [
        "# Q1: How can you create a Bokeh plot using Python code?\n",
        "\n",
        "### Answer:\n",
        "**Bokeh** is a powerful Python library for creating interactive visualizations and plots in web browsers. It is particularly useful for visualizing large datasets and creating interactive dashboards. To create a Bokeh plot, you can follow these basic steps:\n",
        "\n",
        "1. **Import necessary libraries**: we need to import `figure` from `bokeh.plotting` to create a plot.\n",
        "2. **Create a plot**: Use the `figure()` function to define your plot, where you can customize various attributes (such as title, axes labels, etc.).\n",
        "3. **Add glyphs**: A glyph represents a visual element (line, circle, bar, etc.) to plot the data. For example, use `circle()`, `line()`, etc., to add different types of plots.\n",
        "4. **Show the plot**: Use the `show()` function to display the plot in a browser."
      ],
      "metadata": {
        "id": "3PgJu5bk-Mei"
      }
    },
    {
      "cell_type": "code",
      "source": [
        "from bokeh.plotting import figure, show\n",
        "\n",
        "# Create a figure object\n",
        "p = figure(title=\"Simple Line Plot\", x_axis_label='X', y_axis_label='Y')\n",
        "\n",
        "# Add a line glyph (x, y, line color, and line width)\n",
        "x = [1, 2, 3, 4, 5]\n",
        "y = [6, 7, 2, 4, 5]\n",
        "p.line(x, y, legend_label=\"Line\", line_width=2, line_color=\"blue\")\n",
        "\n",
        "# Display the plot\n",
        "show(p)"
      ],
      "metadata": {
        "id": "qfJhNexH-Oqs"
      },
      "execution_count": 1,
      "outputs": []
    },
    {
      "cell_type": "markdown",
      "source": [
        "# Q2: What are glyphs in Bokeh, and how can you add them to a Bokeh plot? Explain with an example.\n",
        "\n",
        "### Answer:\n",
        "**Glyphs** in Bokeh are the visual shapes or elements that represent data in a plot. They are the basic building blocks of a Bokeh plot and can take many forms, such as points (circles, squares), lines, bars, areas, etc. Each glyph is defined by its position in the plot and other visual properties like color, size, shape, and line style.\n",
        "\n",
        "Glyphs are added to a plot using specific Bokeh functions. Some common types of glyphs are:\n",
        "- **Circle**: Represents data as circles.\n",
        "- **Line**: Represents data as connected lines.\n",
        "- **Square**: Represents data as squares.\n",
        "- **Bar**: Represents data as vertical or horizontal bars.\n",
        "- **Scatter**: Represents data as points in a scatter plot.\n",
        "\n",
        "### How to add glyphs to a plot?\n",
        "To add a glyph to a Bokeh plot, follow these steps:\n",
        "1. **Create a Bokeh plot** using the `figure()` function.\n",
        "2. **Add a glyph** using one of the functions like `circle()`, `line()`, `bar()`, etc., and pass the data and properties.\n",
        "3. **Show the plot** using `show()`."
      ],
      "metadata": {
        "id": "Sm5F7H1A_K1n"
      }
    },
    {
      "cell_type": "code",
      "source": [
        "from bokeh.plotting import figure, show\n",
        "\n",
        "# Create a figure object\n",
        "p = figure(title=\"Glyph Example\", x_axis_label='X', y_axis_label='Y')\n",
        "\n",
        "# Add a circle glyph (data points as circles)\n",
        "x = [1, 2, 3, 4, 5]\n",
        "y = [6, 7, 2, 4, 5]\n",
        "p.circle(x, y, size=10, color=\"green\", alpha=0.5, legend_label=\"Circle Glyph\")\n",
        "\n",
        "# Add a line glyph (data points connected by a line)\n",
        "p.line(x, y, line_width=2, color=\"blue\", legend_label=\"Line Glyph\")\n",
        "\n",
        "# Show the plot\n",
        "show(p)"
      ],
      "metadata": {
        "colab": {
          "base_uri": "https://localhost:8080/"
        },
        "id": "SMoPe_1n-cj8",
        "outputId": "43028551-98c2-4226-ef72-ed8565fe5315"
      },
      "execution_count": 2,
      "outputs": [
        {
          "output_type": "stream",
          "name": "stderr",
          "text": [
            "BokehDeprecationWarning: 'circle() method with size value' was deprecated in Bokeh 3.4.0 and will be removed, use 'scatter(size=...) instead' instead.\n"
          ]
        }
      ]
    },
    {
      "cell_type": "markdown",
      "source": [
        "# Q3: How can you customize the appearance of a Bokeh plot, including the axes, title, and legend?\n",
        "\n",
        "### Answer:\n",
        "Bokeh provides various methods for customizing the appearance of plots, allowing you to modify aspects like the axes, title, and legend. This customization enhances the readability and visual appeal of your plots. Here's how you can customize these elements:\n",
        "\n",
        "### 1. **Customizing the Title**:\n",
        "The title of the plot can be set using the `title` parameter in the `figure()` function. You can further customize the title’s font, size, and color using the `title_text_font`, `title_text_font_size`, and `title_text_color` parameters.\n",
        "\n",
        "### 2. **Customizing Axes**:\n",
        "You can customize both the x-axis and y-axis using the `xaxis` and `yaxis` objects available through the `figure()` function. For example, you can modify the axis labels, tick labels, and gridlines.\n",
        "- **Axis Label**: Use `x_axis_label` and `y_axis_label` to set the labels.\n",
        "- **Tick Labels**: Use `axis_label_text_font_size`, `axis_label_text_font`, and `axis_label_text_color` to customize the axis label font style, size, and color.\n",
        "- **Gridlines**: Control gridline visibility and style using `grid_visible`, `grid_line_color`, `grid_line_width`, etc.\n",
        "\n",
        "### 3. **Customizing the Legend**:\n",
        "The legend can be customized by using the `legend_label`, `legend_location`, and other properties. You can control its position, background color, orientation, and font style.\n"
      ],
      "metadata": {
        "id": "zKJ6gWXE_7eS"
      }
    },
    {
      "cell_type": "code",
      "source": [
        "from bokeh.plotting import figure, show\n",
        "\n",
        "# Create a figure object\n",
        "p = figure(title=\"Customized Plot Example\", x_axis_label='X', y_axis_label='Y')\n",
        "\n",
        "# Customize the title font and size\n",
        "p.title.text_font_size = '16pt'\n",
        "p.title.text_font = 'times'\n",
        "p.title.text_color = 'darkgreen'\n",
        "\n",
        "# Add a circle glyph\n",
        "x = [1, 2, 3, 4, 5]\n",
        "y = [6, 7, 2, 4, 5]\n",
        "p.circle(x, y, size=10, color=\"green\", alpha=0.5, legend_label=\"Circle Glyph\")\n",
        "\n",
        "# Customize axes\n",
        "p.xaxis.axis_label_text_font_size = '12pt'\n",
        "p.yaxis.axis_label_text_font_size = '12pt'\n",
        "p.xaxis.axis_label_text_font = 'arial'\n",
        "p.yaxis.axis_label_text_font = 'arial'\n",
        "p.xaxis.axis_label_text_color = 'blue'\n",
        "p.yaxis.axis_label_text_color = 'blue'\n",
        "\n",
        "# Customize gridlines\n",
        "p.xgrid.grid_line_color = 'gray'\n",
        "p.ygrid.grid_line_color = 'gray'\n",
        "p.xgrid.grid_line_width = 1\n",
        "p.ygrid.grid_line_width = 1\n",
        "\n",
        "# Customize the legend\n",
        "p.legend.location = \"top_left\"\n",
        "p.legend.background_fill_alpha = 0.3\n",
        "p.legend.border_line_width = 2\n",
        "p.legend.label_text_font_size = '12pt'\n",
        "\n",
        "# Show the plot\n",
        "show(p)"
      ],
      "metadata": {
        "colab": {
          "base_uri": "https://localhost:8080/"
        },
        "id": "AbPu__fuACqB",
        "outputId": "d1c52a8e-99af-4ae6-f88f-d4d29db497a8"
      },
      "execution_count": 3,
      "outputs": [
        {
          "output_type": "stream",
          "name": "stderr",
          "text": [
            "BokehDeprecationWarning: 'circle() method with size value' was deprecated in Bokeh 3.4.0 and will be removed, use 'scatter(size=...) instead' instead.\n"
          ]
        }
      ]
    },
    {
      "cell_type": "code",
      "source": [],
      "metadata": {
        "id": "Iq2yx4ecAJw9"
      },
      "execution_count": null,
      "outputs": []
    },
    {
      "cell_type": "markdown",
      "source": [
        "# Q4: What is a Bokeh server, and how can you use it to create interactive plots that can be updated in real time?\n",
        "\n",
        "### Answer:\n",
        "\n",
        "A **Bokeh server** is a powerful tool provided by Bokeh to create and serve interactive plots and applications. It allows us to create plots that can be dynamically updated in real time by connecting the backend (Python) with the frontend (HTML/JavaScript). With the Bokeh server, you can create interactive web applications that allow users to manipulate the plot via widgets (sliders, buttons, etc.) and see the results instantly.\n",
        "\n",
        "### Key Features of Bokeh Server:\n",
        "- **Real-Time Interactivity**: The Bokeh server allows for bidirectional communication between Python and the frontend. It supports real-time updates of the plot as the user interacts with it.\n",
        "- **Python-Driven**: The plot and its behavior are driven by Python code, making it easy to integrate with data sources, libraries, and algorithms that are executed on the server side.\n",
        "- **Widgets**: Bokeh provides a variety of interactive widgets like sliders, dropdown menus, buttons, and more to allow users to interact with the plot.\n",
        "- **Callback Functions**: The Bokeh server uses callbacks (Python functions) that are executed when a user interacts with widgets, allowing for dynamic changes to the plot.\n",
        "\n",
        "### How to Use Bokeh Server to Create Interactive Plots:\n",
        "\n",
        "1. **Set up the Bokeh server**: To start using the Bokeh server, we need to create a Python script that defines the plot and the interactive widgets.\n",
        "2. **Define the plot and widgets**: Create the plot using Bokeh's plotting functions and add widgets for user interaction.\n",
        "3. **Define callback functions**: These are Python functions that update the plot when the user interacts with the widgets.\n",
        "4. **Launch the Bokeh server**: Use the `bokeh serve` command to launch the server and interact with the plot.\n"
      ],
      "metadata": {
        "id": "JqlP_xolALOx"
      }
    },
    {
      "cell_type": "markdown",
      "source": [
        "# Q5: How can you embed a Bokeh plot into a web page or dashboard using Flask or Django?\n",
        "\n",
        "### Answer:\n",
        "\n",
        "Bokeh plots can be embedded into web pages or dashboards using web frameworks like **Flask** or **Django** by leveraging the `components()` function in Bokeh. This function generates the necessary JavaScript and HTML components to integrate the plot into your web application.\n",
        "\n",
        "### Flask:\n",
        "In Flask, you can use the `components()` function to create the JavaScript and HTML components required for embedding the Bokeh plot. These components are then injected into an HTML template, which is rendered by Flask's `render_template()` function. This allows you to display the plot in a web page.\n",
        "\n",
        "### Django:\n",
        "Similarly, in Django, we can use the `components()` function to create the necessary components and pass them into Django templates using the `render()` function. This will embed the Bokeh plot into the HTML structure of your web page.\n",
        "\n",
        "By using Flask or Django, we can create web pages or dashboards that include interactive Bokeh plots. This is particularly useful for real-time data visualization or creating dynamic dashboards with interactive visualizations.\n"
      ],
      "metadata": {
        "id": "18UIq4n7AjL6"
      }
    },
    {
      "cell_type": "code",
      "source": [],
      "metadata": {
        "id": "iBjcDzpcBBDw"
      },
      "execution_count": null,
      "outputs": []
    }
  ]
}