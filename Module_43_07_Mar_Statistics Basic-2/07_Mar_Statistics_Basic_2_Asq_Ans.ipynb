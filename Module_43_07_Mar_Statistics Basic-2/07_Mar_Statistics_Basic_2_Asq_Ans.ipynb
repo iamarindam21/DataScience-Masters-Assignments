{
  "nbformat": 4,
  "nbformat_minor": 0,
  "metadata": {
    "colab": {
      "provenance": []
    },
    "kernelspec": {
      "name": "python3",
      "display_name": "Python 3"
    },
    "language_info": {
      "name": "python"
    }
  },
  "cells": [
    {
      "cell_type": "markdown",
      "source": [
        "# Q1. What are the three measures of central tendency?\n",
        "\n",
        "## The three measures of central tendency are:\n",
        "1. **Mean** - The arithmetic average of a dataset.\n",
        "2. **Median** - The middle value in an ordered dataset.\n",
        "3. **Mode** - The most frequently occurring value in a dataset."
      ],
      "metadata": {
        "id": "Zjj6sodT4dBo"
      }
    },
    {
      "cell_type": "markdown",
      "source": [
        "# Q2. What is the difference between the mean, median, and mode? How are they used to measure the central tendency of a dataset?\n",
        "\n",
        "## Differences:\n",
        "- **Mean**: Affected by extreme values (outliers); best for normally distributed data.\n",
        "- **Median**: Not affected by outliers; best for skewed distributions.\n",
        "- **Mode**: Useful for categorical data; represents the most common value.\n",
        "\n",
        "## Usage:\n",
        "- **Mean** provides an overall average.\n",
        "- **Median** is useful when data contains outliers.\n",
        "- **Mode** is helpful in identifying the most frequent occurrence in data.\n",
        "\n",
        "## Example: Calculate mean, median, and mode in Python"
      ],
      "metadata": {
        "id": "WSPTAhrU49CW"
      }
    },
    {
      "cell_type": "code",
      "source": [
        "import numpy as np\n",
        "from scipy import stats\n",
        "\n",
        "# Sample dataset\n",
        "data = [10, 15, 15, 20, 25, 30, 30, 30, 35]\n",
        "\n",
        "# Calculate mean\n",
        "mean_value = np.mean(data)\n",
        "\n",
        "# Calculate median\n",
        "median_value = np.median(data)\n",
        "\n",
        "# Calculate mode\n",
        "mode_value = stats.mode(data, keepdims=True).mode[0]\n",
        "\n",
        "mean_value, median_value, mode_value"
      ],
      "metadata": {
        "colab": {
          "base_uri": "https://localhost:8080/"
        },
        "id": "u3gFbUF25l3t",
        "outputId": "d67c68b2-e637-4349-a379-69f8d1c13098"
      },
      "execution_count": 1,
      "outputs": [
        {
          "output_type": "execute_result",
          "data": {
            "text/plain": [
              "(23.333333333333332, 25.0, 30)"
            ]
          },
          "metadata": {},
          "execution_count": 1
        }
      ]
    },
    {
      "cell_type": "markdown",
      "source": [
        "#Q3. Measure the three measures of central tendency for the given height data:\n",
        "##[178,177,176,177,178.2,178,175,179,180,175,178.9,176.2,177,172.5,178,176.5]"
      ],
      "metadata": {
        "id": "N8nOOicN6Ayk"
      }
    },
    {
      "cell_type": "code",
      "source": [
        "height_data = [178,177,176,177,178.2,178,175,179,180,175,178.9,176.2,177,172.5,178,176.5]\n",
        "\n",
        "# Calculate mean\n",
        "height_mean = np.mean(height_data)\n",
        "height_mean\n",
        "\n",
        "# Calculate median\n",
        "height_median = np.median(height_data)\n",
        "height_median\n",
        "\n",
        "# Calculate mode\n",
        "height_mode = stats.mode(height_data, keepdims=True).mode[0]\n",
        "height_mode"
      ],
      "metadata": {
        "colab": {
          "base_uri": "https://localhost:8080/"
        },
        "id": "4wz44Bfl7GlJ",
        "outputId": "dfb50982-2dda-4f27-e62b-887feff00bd8"
      },
      "execution_count": 2,
      "outputs": [
        {
          "output_type": "execute_result",
          "data": {
            "text/plain": [
              "177.0"
            ]
          },
          "metadata": {},
          "execution_count": 2
        }
      ]
    },
    {
      "cell_type": "markdown",
      "source": [
        "#Q4. Find the standard deviation for the given data:\n",
        "##[178,177,176,177,178.2,178,175,179,180,175,178.9,176.2,177,172.5,178,176.5]"
      ],
      "metadata": {
        "id": "eFyFVG9I7ZEs"
      }
    },
    {
      "cell_type": "code",
      "source": [
        "height_std = np.std(height_data, ddof=0)\n",
        "height_std"
      ],
      "metadata": {
        "colab": {
          "base_uri": "https://localhost:8080/"
        },
        "id": "Pmil8wU87eQJ",
        "outputId": "f5bfbc4e-80ac-49b1-d10f-545b179eb68a"
      },
      "execution_count": 3,
      "outputs": [
        {
          "output_type": "execute_result",
          "data": {
            "text/plain": [
              "1.7885814036548633"
            ]
          },
          "metadata": {},
          "execution_count": 3
        }
      ]
    },
    {
      "cell_type": "markdown",
      "source": [
        "# Q5: How are measures of dispersion such as range, variance, and standard deviation used to describe the spread of a dataset?\n",
        "\n",
        "## Explanation\n",
        "- **Range**: The difference between the maximum and minimum values.\n",
        "- **Variance**: The average squared deviation from the mean; measures data spread.\n",
        "- **Standard Deviation**: The square root of variance; represents how spread out the data points are.\n",
        "\n",
        "## Example: Calculate range, variance, and standard deviation"
      ],
      "metadata": {
        "id": "TlMjQwaT82uO"
      }
    },
    {
      "cell_type": "code",
      "source": [
        "\n",
        "# Calculate range\n",
        "height_range = np.max(height_data) - np.min(height_data)\n",
        "height_range\n",
        "\n",
        "# Calculate variance\n",
        "height_variance = np.var(height_data, ddof=0)\n",
        "height_variance\n",
        "\n",
        "# Calculate standard deviation\n",
        "height_std = np.std(height_data, ddof=0)\n",
        "height_std\n"
      ],
      "metadata": {
        "colab": {
          "base_uri": "https://localhost:8080/"
        },
        "id": "FYSKB2p283Mq",
        "outputId": "c3203aea-6d9b-4ab8-ca12-98364e2f5925"
      },
      "execution_count": 4,
      "outputs": [
        {
          "output_type": "execute_result",
          "data": {
            "text/plain": [
              "1.7885814036548633"
            ]
          },
          "metadata": {},
          "execution_count": 4
        }
      ]
    },
    {
      "cell_type": "markdown",
      "source": [
        "# Q6: What is a Venn diagram?\n",
        "\n",
        "## Explanation:\n",
        "A **Venn diagram** is a visual representation of the relationships between different sets. It uses overlapping circles to show common elements between groups.\n",
        "\n",
        "## Example:\n",
        "Consider two sets:\n",
        "- A = {1, 2, 3, 4}\n",
        "- B = {3, 4, 5, 6}\n",
        "\n",
        "The overlapping part represents the common elements {3, 4}."
      ],
      "metadata": {
        "id": "6FBjgUVj9hue"
      }
    },
    {
      "cell_type": "code",
      "source": [
        "import matplotlib.pyplot as plt\n",
        "from matplotlib_venn import venn2\n",
        "\n",
        "# Define sets\n",
        "set_A = {1, 2, 3, 4}\n",
        "set_B = {3, 4, 5, 6}\n",
        "\n",
        "# Create Venn diagram\n",
        "plt.figure(figsize=(4,4))\n",
        "venn2([set_A, set_B], ('Set A', 'Set B'))\n",
        "plt.show()"
      ],
      "metadata": {
        "colab": {
          "base_uri": "https://localhost:8080/",
          "height": 276
        },
        "id": "gWg1Gbaq9iTb",
        "outputId": "a2fca071-92fa-4fc8-e3f1-57d69d1dd4ad"
      },
      "execution_count": 5,
      "outputs": [
        {
          "output_type": "display_data",
          "data": {
            "text/plain": [
              "<Figure size 400x400 with 1 Axes>"
            ],
            "image/png": "[encoded data removed]"
          },
          "metadata": {}
        }
      ]
    },
    {
      "cell_type": "markdown",
      "source": [
        "# Q7: For the two given sets A and B, find:\n",
        "\n",
        "## Given sets:\n",
        "A = {2,3,4,5,6,7}\n",
        "B = {0,2,6,8,10}\n",
        "\n",
        "## (i) A ∩ B (Intersection)"
      ],
      "metadata": {
        "id": "Khq_wzxL9vS6"
      }
    },
    {
      "cell_type": "code",
      "source": [
        "A = {2,3,4,5,6,7}\n",
        "B = {0,2,6,8,10}\n",
        "intersection = A & B\n",
        "print(\"A ∩ B:\", intersection)"
      ],
      "metadata": {
        "colab": {
          "base_uri": "https://localhost:8080/"
        },
        "id": "qRY7OLY_-TCo",
        "outputId": "632d8a76-a0da-4c9a-e662-861f574b7d27"
      },
      "execution_count": 6,
      "outputs": [
        {
          "output_type": "stream",
          "name": "stdout",
          "text": [
            "A ∩ B: {2, 6}\n"
          ]
        }
      ]
    },
    {
      "cell_type": "markdown",
      "source": [
        "## (ii) A ⋃ B (Union)"
      ],
      "metadata": {
        "id": "ooPE5i-Q-bxZ"
      }
    },
    {
      "cell_type": "code",
      "source": [
        "union = A | B\n",
        "print(\"A ⋃ B:\", union)"
      ],
      "metadata": {
        "colab": {
          "base_uri": "https://localhost:8080/"
        },
        "id": "xKz_4HR1-dqv",
        "outputId": "7952073b-b47b-4d93-dadf-aacf1111f90a"
      },
      "execution_count": 7,
      "outputs": [
        {
          "output_type": "stream",
          "name": "stdout",
          "text": [
            "A ⋃ B: {0, 2, 3, 4, 5, 6, 7, 8, 10}\n"
          ]
        }
      ]
    },
    {
      "cell_type": "markdown",
      "source": [
        "# Q8. What do you understand about skewness in data?\n",
        "\n",
        "## Skewness refers to the asymmetry or lopsidedness of the distribution of data. It measures the extent to which data points deviate from a normal distribution, either to the left or right.\n",
        "\n",
        "There are three types of skewness:\n",
        "\n",
        "1. **Positive skew (right skew)**: When the right tail (larger values) is longer or fatter than the left tail, the data is positively skewed. In this case, the mean is typically greater than the median.\n",
        "   \n",
        "2. **Negative skew (left skew)**: When the left tail (smaller values) is longer or fatter than the right tail, the data is negatively skewed. Here, the mean is generally less than the median.\n",
        "   \n",
        "3. **No skew (symmetric)**: When the data distribution is symmetric, the skewness is close to zero, and the mean and median are almost equal.\n",
        "\n",
        "Skewness helps us understand the direction in which the data is stretched or biased, which can influence statistical analyses and models.\n"
      ],
      "metadata": {
        "id": "gqHsqEim-iLd"
      }
    },
    {
      "cell_type": "markdown",
      "source": [
        "# Q9. If a data is right skewed then what will be the position of median with respect to mean?\n",
        "\n",
        "## If a data is right skewed (positively skewed), the mean will be greater than the median. This happens because the longer tail on the right side pulls the mean towards higher values, while the median remains closer to the central tendency of the data.\n",
        "\n",
        "Mathematically, for a right-skewed distribution:\n",
        "\n",
        "\\[\n",
        "\\text{Mean} > \\text{Median} > \\text{Mode}\n",
        "\\]\n",
        "\n",
        "This pattern occurs because the mean is affected by extreme values more than the median, making it shift toward the longer tail.\n"
      ],
      "metadata": {
        "id": "A7LFB7Pq_Rd4"
      }
    },
    {
      "cell_type": "markdown",
      "source": [
        "# Q10. Explain the difference between covariance and correlation. How are these measures used in statistical analysis?\n",
        "\n",
        "## **Covariance** and **correlation** are both measures that describe the relationship between two variables, but they have key differences:\n",
        "\n",
        "### **1. Covariance**\n",
        "- Measures the **direction** of the relationship between two variables.\n",
        "- A **positive covariance** means that as one variable increases, the other also increases.\n",
        "- A **negative covariance** means that as one variable increases, the other decreases.\n",
        "- The magnitude of covariance is not standardized, making it difficult to interpret.\n",
        "\n",
        "**Formula for covariance:**\n",
        "\\[\n",
        "\\text{Cov}(X, Y) = \\frac{\\sum (X_i - \\bar{X}) (Y_i - \\bar{Y})}{n}\n",
        "\\]\n",
        "where:\n",
        "- \\( X_i, Y_i \\) are data points,\n",
        "- \\( \\bar{X}, \\bar{Y} \\) are means,\n",
        "- \\( n \\) is the number of observations.\n",
        "\n",
        "### **2. Correlation**\n",
        "- Measures both the **strength** and **direction** of the relationship between two variables.\n",
        "- It is a **standardized** version of covariance, meaning its values always range from **-1 to 1**.\n",
        "- A correlation of **+1** means a perfect positive relationship, **-1** means a perfect negative relationship, and **0** means no relationship.\n",
        "\n",
        "**Formula for correlation (Pearson’s correlation coefficient):**\n",
        "\\[\n",
        "r = \\frac{\\text{Cov}(X, Y)}{\\sigma_X \\sigma_Y}\n",
        "\\]\n",
        "where:\n",
        "- \\( \\sigma_X \\) and \\( \\sigma_Y \\) are standard deviations of \\( X \\) and \\( Y \\).\n",
        "\n",
        "### **Usage in Statistical Analysis**\n",
        "- **Covariance** is mainly used in portfolio theory to measure how two asset returns move together.\n",
        "- **Correlation** is used in regression analysis, machine learning, and feature selection to identify relationships between variables.\n",
        "\n",
        "Since correlation is unit-free and easier to interpret, it is more commonly used than covariance in statistical analysis.\n"
      ],
      "metadata": {
        "id": "z15q_Yxq_UmM"
      }
    },
    {
      "cell_type": "markdown",
      "source": [
        "# Q11. What is the formula for calculating the sample mean? Provide an example calculation for a dataset.\n",
        "\n",
        "## **Formula for Sample Mean**:\n",
        "The **sample mean** (\\(\\bar{X}\\)) is calculated as:\n",
        "\n",
        "\\[\n",
        "\\bar{X} = \\frac{\\sum X_i}{n}\n",
        "\\]\n",
        "\n",
        "where:\n",
        "- \\( X_i \\) represents each data point in the sample,\n",
        "- \\( n \\) is the number of observations in the sample,\n",
        "- \\( \\sum X_i \\) is the sum of all sample values.\n",
        "\n",
        "## **Example Calculation**:\n",
        "Consider the dataset: **5, 10, 15, 20, 25**.\n",
        "\n",
        "Step 1: Sum of all values:\n",
        "\\[\n",
        "5 + 10 + 15 + 20 + 25 = 75\n",
        "\\]\n",
        "\n",
        "Step 2: Divide by the number of values (\\( n = 5 \\)):\n",
        "\\[\n",
        "\\bar{X} = \\frac{75}{5} = 15\n",
        "\\]\n",
        "\n",
        "Thus, the **sample mean** is **15**.\n"
      ],
      "metadata": {
        "id": "Ys0hOXDV_nhA"
      }
    },
    {
      "cell_type": "markdown",
      "source": [
        "# Q12. For a normal distribution data what is the relationship between its measure of central tendency?\n",
        "\n",
        "## In a **normal distribution**, the three measures of central tendency—**mean, median, and mode**—are all **equal and located at the center** of the distribution.\n",
        "\n",
        "Mathematically, for a perfectly normal distribution:\n",
        "\\[\n",
        "\\text{Mean} = \\text{Median} = \\text{Mode}\n",
        "\\]\n",
        "\n",
        "### **Explanation:**\n",
        "- A normal distribution is **symmetrical**, meaning it is evenly spread around the center.\n",
        "- The **mean** represents the arithmetic average.\n",
        "- The **median** is the middle value when data is arranged in order.\n",
        "- The **mode** is the most frequently occurring value.\n",
        "- Because of the symmetry, the data is evenly distributed on both sides of the center, making these three measures identical.\n",
        "\n",
        "This property is useful in statistical analysis, as it simplifies interpretation and ensures that data follows predictable patterns in hypothesis testing and probability calculations.\n"
      ],
      "metadata": {
        "id": "rAhcOFpk_3Me"
      }
    },
    {
      "cell_type": "markdown",
      "source": [
        "# Q13. How is covariance different from correlation?\n",
        "\n",
        "## **Difference Between Covariance and Correlation:**\n",
        "\n",
        "| Feature      | Covariance | Correlation |\n",
        "|-------------|-----------|-------------|\n",
        "| **Definition** | Measures the direction of the relationship between two variables. | Measures both the direction and strength of the relationship between two variables. |\n",
        "| **Range** | Can take any value (positive, negative, or zero). | Always between -1 and 1. |\n",
        "| **Interpretation** | Hard to interpret because it depends on the scale of data. | Standardized, making it easier to interpret. |\n",
        "| **Formula** | \\(\\text{Cov}(X, Y) = \\frac{\\sum (X_i - \\bar{X}) (Y_i - \\bar{Y})}{n}\\) | \\(r = \\frac{\\text{Cov}(X, Y)}{\\sigma_X \\sigma_Y}\\) |\n",
        "| **Unit Dependency** | Affected by the units of measurement. | Unit-free (since it is standardized). |\n",
        "| **Usage** | Used in finance (e.g., portfolio risk analysis). | Used in statistics, regression, and machine learning to analyze relationships. |\n",
        "\n",
        "### **Key Takeaway:**\n",
        "- **Covariance** tells us **only the direction** (positive or negative) of the relationship.\n",
        "- **Correlation** tells us both **direction and strength**, making it more useful for analysis.\n"
      ],
      "metadata": {
        "id": "RUv-zOhSAAZE"
      }
    },
    {
      "cell_type": "markdown",
      "source": [
        "# Q14. How do outliers affect measures of central tendency and dispersion? Provide an example.\n",
        "\n",
        "## **Effect of Outliers on Central Tendency and Dispersion**\n",
        "\n",
        "Outliers are extreme values that significantly differ from the rest of the data. They can **distort** both **central tendency** (mean, median, mode) and **dispersion** (range, variance, standard deviation).\n",
        "\n",
        "### **1. Effect on Measures of Central Tendency:**\n",
        "- **Mean**: Highly affected by outliers since it includes all values in the calculation.\n",
        "- **Median**: Less affected because it depends only on the middle value(s).\n",
        "- **Mode**: Not affected unless the outlier is frequent enough to change the most common value.\n",
        "\n",
        "### **2. Effect on Measures of Dispersion:**\n",
        "- **Range**: Increases significantly because it depends on the highest and lowest values.\n",
        "- **Variance & Standard Deviation**: Increase due to the squared differences from the mean.\n",
        "\n",
        "### **Example:**\n",
        "Consider the dataset: **[10, 12, 14, 15, 16, 18, 100]**  \n",
        "Here, **100** is an outlier.\n",
        "\n",
        "#### **Without Outlier (Removing 100)**\n",
        "- Mean = \\( \\frac{10 + 12 + 14 + 15 + 16 + 18}{6} = 14.17 \\)\n",
        "- Median = **15**\n",
        "- Range = \\( 18 - 10 = 8 \\)\n",
        "\n",
        "#### **With Outlier (Including 100)**\n",
        "- Mean = \\( \\frac{10 + 12 + 14 + 15 + 16 + 18 + 100}{7} = 26.43 \\) (Increased significantly)\n",
        "- Median = **15** (Unchanged)\n",
        "- Range = \\( 100 - 10 = 90 \\) (Increased significantly)\n",
        "\n",
        "### **Conclusion:**\n",
        "- **Mean is highly sensitive** to outliers.\n",
        "- **Median remains stable**, making it a better measure of central tendency for skewed data.\n",
        "- **Dispersion measures (range, variance, standard deviation) increase**, indicating greater spread due to outliers.\n"
      ],
      "metadata": {
        "id": "LLcJqxKhAL8o"
      }
    },
    {
      "cell_type": "code",
      "source": [],
      "metadata": {
        "id": "RExljkOwAWWT"
      },
      "execution_count": null,
      "outputs": []
    }
  ]
}