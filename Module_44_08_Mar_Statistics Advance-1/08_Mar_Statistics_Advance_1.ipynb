{
  "nbformat": 4,
  "nbformat_minor": 0,
  "metadata": {
    "colab": {
      "provenance": []
    },
    "kernelspec": {
      "name": "python3",
      "display_name": "Python 3"
    },
    "language_info": {
      "name": "python"
    }
  },
  "cells": [
    {
      "cell_type": "markdown",
      "source": [
        "# Q1. What is the Probability Density Function?\n",
        "\n",
        "## **Probability Density Function (PDF)**\n",
        "\n",
        "The **Probability Density Function (PDF)** is a function that describes the **likelihood** of a continuous random variable taking on a specific value. It represents the **density** of probability rather than the actual probability itself.\n",
        "\n",
        "### **Key Properties of PDF:**\n",
        "1. **Non-negative**: \\( f(x) \\geq 0 \\) for all \\( x \\).\n",
        "2. **Total area under the curve is 1**:\n",
        "   \\[\n",
        "   \\int_{-\\infty}^{\\infty} f(x) \\,dx = 1\n",
        "   \\]\n",
        "3. **Probability is given by an integral**: The probability that \\( X \\) falls within a certain range \\( [a, b] \\) is:\n",
        "   \\[\n",
        "   P(a \\leq X \\leq b) = \\int_{a}^{b} f(x) \\,dx\n",
        "   \\]\n",
        "\n",
        "### **Example: Normal Distribution PDF**\n",
        "For a normal distribution with mean \\( \\mu \\) and standard deviation \\( \\sigma \\), the PDF is:\n",
        "\\[\n",
        "f(x) = \\frac{1}{\\sigma \\sqrt{2\\pi}} e^{-\\frac{(x - \\mu)^2}{2\\sigma^2}}\n",
        "\\]\n",
        "\n",
        "This function defines how data points are distributed around the mean in a **bell-shaped curve**.\n",
        "\n",
        "### **Conclusion**\n",
        "- A **PDF does not give direct probabilities** but rather describes how probabilities are distributed over a continuous range.\n",
        "- The **probability of a single exact value is always 0** because the area under a single point is zero in continuous distributions.\n"
      ],
      "metadata": {
        "id": "8JmGIVOHA_kH"
      }
    },
    {
      "cell_type": "markdown",
      "source": [
        "# Q2. What are the types of Probability Distribution?\n",
        "\n",
        "## **Types of Probability Distribution**\n",
        "\n",
        "Probability distributions describe how values of a **random variable** are distributed. They can be broadly classified into two categories:\n",
        "\n",
        "### **1. Discrete Probability Distributions**\n",
        "These distributions apply to **discrete random variables**, which take on **countable** values.\n",
        "\n",
        "#### **(a) Bernoulli Distribution**\n",
        "- Represents a single experiment with two outcomes: **Success (1)** or **Failure (0)**.\n",
        "- Example: Tossing a coin (Heads = 1, Tails = 0).\n",
        "\n",
        "#### **(b) Binomial Distribution**\n",
        "- Represents the number of successes in **n** independent Bernoulli trials.\n",
        "- Example: Number of heads in 10 coin tosses.\n",
        "\n",
        "#### **(c) Poisson Distribution**\n",
        "- Models the number of events occurring in a fixed interval of time or space.\n",
        "- Example: Number of customer arrivals at a store per hour.\n",
        "\n",
        "#### **(d) Geometric Distribution**\n",
        "- Models the number of trials until the first success in repeated Bernoulli trials.\n",
        "- Example: Number of times a dice is rolled until the first 6 appears.\n",
        "\n",
        "### **2. Continuous Probability Distributions**\n",
        "These distributions apply to **continuous random variables**, which can take **any value** within a range.\n",
        "\n",
        "#### **(a) Normal Distribution (Gaussian)**\n",
        "- Bell-shaped and symmetric around the mean.\n",
        "- Example: Heights of people, test scores.\n",
        "\n",
        "#### **(b) Uniform Distribution**\n",
        "- All outcomes are equally likely within a given range.\n",
        "- Example: Rolling a fair die (if considered continuous between 1 and 6).\n",
        "\n",
        "#### **(c) Exponential Distribution**\n",
        "- Models the time between occurrences of random events.\n",
        "- Example: Time between phone calls at a call center.\n",
        "\n",
        "#### **(d) Beta Distribution**\n",
        "- Used in Bayesian statistics for modeling probabilities.\n",
        "- Example: Probability of success in an uncertain scenario.\n",
        "\n",
        "\n"
      ],
      "metadata": {
        "id": "qzVJu_dtBRtg"
      }
    },
    {
      "cell_type": "markdown",
      "source": [
        "# Q3. Write a Python function to calculate the probability density function of a normal distribution with given mean and standard deviation at a given point.\n"
      ],
      "metadata": {
        "id": "rB9LaTIVBoeD"
      }
    },
    {
      "cell_type": "code",
      "source": [
        "import math\n",
        "\n",
        "def normal_pdf(x, mean, std_dev):\n",
        "    \"\"\"\n",
        "    Calculate the probability density function (PDF) of a normal distribution.\n",
        "\n",
        "    Parameters:\n",
        "    x (float): The point at which to evaluate the PDF.\n",
        "    mean (float): The mean (μ) of the normal distribution.\n",
        "    std_dev (float): The standard deviation (σ) of the normal distribution.\n",
        "\n",
        "    Returns:\n",
        "    float: The PDF value at x.\n",
        "    \"\"\"\n",
        "    coefficient = 1 / (std_dev * math.sqrt(2 * math.pi))\n",
        "    exponent = math.exp(-((x - mean) ** 2) / (2 * std_dev ** 2))\n",
        "    return coefficient * exponent\n",
        "\n",
        "# Example usage\n",
        "mean = 0\n",
        "std_dev = 1\n",
        "x = 1\n",
        "pdf_value = normal_pdf(x, mean, std_dev)\n",
        "print(f\"PDF value at x={x}: {pdf_value}\")"
      ],
      "metadata": {
        "colab": {
          "base_uri": "https://localhost:8080/"
        },
        "id": "MUYpoDcoB6iS",
        "outputId": "473126aa-6a22-428f-95a3-f7e7268ed7fd"
      },
      "execution_count": 1,
      "outputs": [
        {
          "output_type": "stream",
          "name": "stdout",
          "text": [
            "PDF value at x=1: 0.24197072451914337\n"
          ]
        }
      ]
    },
    {
      "cell_type": "markdown",
      "source": [
        "# Q4. What are the properties of Binomial distribution? Give two examples of events where binomial distribution can be applied.\n",
        "\n",
        "## **Properties of Binomial Distribution**\n",
        "\n",
        "The **Binomial Distribution** is a discrete probability distribution that models the number of successes in a fixed number of independent Bernoulli trials (i.e., experiments with two possible outcomes: success or failure). It has the following properties:\n",
        "\n",
        "### **1. Fixed Number of Trials (n)**\n",
        "- The number of trials \\( n \\) is fixed and known in advance.\n",
        "\n",
        "### **2. Two Possible Outcomes**\n",
        "- Each trial has only two possible outcomes: success or failure.\n",
        "\n",
        "### **3. Constant Probability of Success (p)**\n",
        "- The probability of success \\( p \\) is the same for each trial.\n",
        "\n",
        "### **4. Independence of Trials**\n",
        "- The outcome of one trial does not affect the outcomes of other trials.\n",
        "\n",
        "### **5. Discreteness**\n",
        "- The random variable \\( X \\) (the number of successes) can take integer values from 0 to \\( n \\).\n",
        "\n",
        "### **6. Probability Mass Function (PMF)**\n",
        "- The probability of getting exactly \\( k \\) successes out of \\( n \\) trials is given by:\n",
        "  \\[\n",
        "  P(X = k) = \\binom{n}{k} p^k (1 - p)^{n-k}\n",
        "  \\]\n",
        "  where:\n",
        "  - \\( \\binom{n}{k} \\) is the binomial coefficient (the number of ways to choose \\( k \\) successes from \\( n \\) trials),\n",
        "  - \\( p \\) is the probability of success on each trial,\n",
        "  - \\( (1 - p) \\) is the probability of failure.\n",
        "\n",
        "### **7. Mean and Variance**\n",
        "- The **mean** of a binomial distribution is \\( \\mu = np \\).\n",
        "- The **variance** is \\( \\sigma^2 = np(1 - p) \\).\n",
        "\n",
        "## **Examples of Binomial Distribution**\n",
        "\n",
        "### **Example 1: Tossing a Coin**\n",
        "- Suppose you flip a fair coin 10 times, and you want to know the probability of getting exactly 6 heads (successes). This situation follows a binomial distribution with:\n",
        "  - \\( n = 10 \\) (number of coin flips),\n",
        "  - \\( p = 0.5 \\) (probability of heads),\n",
        "  - \\( k = 6 \\) (desired number of heads).\n",
        "\n",
        "### **Example 2: Passing a Multiple-Choice Test**\n",
        "- Imagine a student answers 15 multiple-choice questions, each with a 70% chance of answering correctly. The number of correct answers (successes) follows a binomial distribution with:\n",
        "  - \\( n = 15 \\) (number of questions),\n",
        "  - \\( p = 0.7 \\) (probability of answering correctly),\n",
        "  - \\( k \\) (number of correct answers, which we want to find the probability for).\n",
        "\n",
        "### **Conclusion**\n",
        "- The **binomial distribution** is used when there are a fixed number of trials, each with two outcomes, and the trials are independent.\n",
        "- It is ideal for modeling scenarios like coin flips, product defect rates, or pass/fail outcomes.\n"
      ],
      "metadata": {
        "id": "S3Ei5S4MCJ1T"
      }
    },
    {
      "cell_type": "markdown",
      "source": [
        "#Q5. Generate a random sample of size 1000 from a binomial distribution with probability of success 0.4 and plot a histogram of the results using matplotlib."
      ],
      "metadata": {
        "id": "z7vpx6RnCVN8"
      }
    },
    {
      "cell_type": "code",
      "source": [
        "import numpy as np\n",
        "import matplotlib.pyplot as plt\n",
        "\n",
        "# Set the parameters\n",
        "n = 1  # number of trials\n",
        "p = 0.4  # probability of success\n",
        "size = 1000  # sample size\n",
        "\n",
        "# Generate random sample from binomial distribution\n",
        "binomial_data = np.random.binomial(n, p, size)\n",
        "\n",
        "# Plot the histogram\n",
        "plt.hist(binomial_data, bins=10, edgecolor='black')\n",
        "plt.title('Histogram of Binomial Distribution (n=1, p=0.4)')\n",
        "plt.xlabel('Number of Successes')\n",
        "plt.ylabel('Frequency')\n",
        "plt.show()\n"
      ],
      "metadata": {
        "colab": {
          "base_uri": "https://localhost:8080/",
          "height": 472
        },
        "id": "EXVajoL3Cwry",
        "outputId": "b0df5844-86e4-4019-caa2-0870159cf89c"
      },
      "execution_count": 2,
      "outputs": [
        {
          "output_type": "display_data",
          "data": {
            "text/plain": [
              "<Figure size 640x480 with 1 Axes>"
            ],
            "image/png": "[encoded data removed]"
          },
          "metadata": {}
        }
      ]
    },
    {
      "cell_type": "markdown",
      "source": [
        "# Q6. Write a Python function to calculate the cumulative distribution function of a Poisson distribution with given mean at a given point."
      ],
      "metadata": {
        "id": "D9nAmAOwDWAE"
      }
    },
    {
      "cell_type": "code",
      "source": [
        "import scipy.stats as stats\n",
        "\n",
        "def poisson_cdf(mean, x):\n",
        "    \"\"\"\n",
        "    Calculate the cumulative distribution function (CDF) of a Poisson distribution\n",
        "    at a given point x with a given mean.\n",
        "\n",
        "    Parameters:\n",
        "    mean (float): The mean (lambda) of the Poisson distribution.\n",
        "    x (int): The point at which to evaluate the CDF.\n",
        "\n",
        "    Returns:\n",
        "    float: The value of the CDF at point x.\n",
        "    \"\"\"\n",
        "    return stats.poisson.cdf(x, mean)\n",
        "\n",
        "# Example usage:\n",
        "mean = 3.0  # Mean of the Poisson distribution\n",
        "x = 2       # Point at which to evaluate the CDF\n",
        "\n",
        "cdf_value = poisson_cdf(mean, x)\n",
        "print(f\"The CDF of Poisson distribution with mean {mean} at x={x} is {cdf_value}\")\n"
      ],
      "metadata": {
        "colab": {
          "base_uri": "https://localhost:8080/"
        },
        "id": "svo0q3QXDjXR",
        "outputId": "64ed2b7e-0e1d-4857-8a3b-b79526c6b95e"
      },
      "execution_count": 3,
      "outputs": [
        {
          "output_type": "stream",
          "name": "stdout",
          "text": [
            "The CDF of Poisson distribution with mean 3.0 at x=2 is 0.42319008112684364\n"
          ]
        }
      ]
    },
    {
      "cell_type": "markdown",
      "source": [
        "#Q7. How Binomial distribution different from Poisson distribution?\n",
        "\n",
        "- **Binomial Distribution**:\n",
        "  - Models the number of successes in a fixed number of trials.\n",
        "  - Parameters: \\( n \\) (number of trials), \\( p \\) (probability of success).\n",
        "  - Used when trials are independent, with a constant probability of success.\n",
        "\n",
        "- **Poisson Distribution**:\n",
        "  - Models the number of events occurring in a fixed interval, given a known average rate.\n",
        "  - Parameter: \\( \\lambda \\) (rate of events per interval).\n",
        "  - Used for counting rare events over continuous intervals (e.g., time or space).\n",
        "\n",
        "- **Key Differences**:\n",
        "  - Binomial has a fixed number of trials, Poisson has a fixed rate of events.\n",
        "  - Binomial is for discrete trials, Poisson is for continuous intervals.\n",
        "  - Binomial requires \\( n \\) and \\( p \\), Poisson requires only \\( \\lambda \\).\n",
        "\n",
        "- **Approximation**: Poisson can approximate Binomial when \\( n \\) is large and \\( p \\) is small (\\( \\lambda = np \\)).\n"
      ],
      "metadata": {
        "id": "RXjOZaKnDoIz"
      }
    },
    {
      "cell_type": "markdown",
      "source": [
        "# Q8. Generate a random sample of size 1000 from a Poisson distribution with mean 5 and calculate the sample mean and variance."
      ],
      "metadata": {
        "id": "1fyBRCXcELhT"
      }
    },
    {
      "cell_type": "code",
      "source": [
        "import numpy as np\n",
        "\n",
        "# Set the parameters\n",
        "mean = 5  # mean of the Poisson distribution\n",
        "size = 1000  # sample size\n",
        "\n",
        "# Generate random sample from Poisson distribution\n",
        "poisson_data = np.random.poisson(mean, size)\n",
        "\n",
        "# Calculate sample mean and variance\n",
        "sample_mean = np.mean(poisson_data)\n",
        "sample_variance = np.var(poisson_data)\n",
        "\n",
        "print(f\"Sample Mean: {sample_mean}\")\n",
        "print(f\"Sample Variance: {sample_variance}\")\n"
      ],
      "metadata": {
        "colab": {
          "base_uri": "https://localhost:8080/"
        },
        "id": "Az_eqKdvETsh",
        "outputId": "44381329-db9f-464f-d377-652c07960115"
      },
      "execution_count": 4,
      "outputs": [
        {
          "output_type": "stream",
          "name": "stdout",
          "text": [
            "Sample Mean: 5.048\n",
            "Sample Variance: 5.651696\n"
          ]
        }
      ]
    },
    {
      "cell_type": "markdown",
      "source": [
        "# Q9. How mean and variance are related in Binomial distribution and Poisson distribution?\n",
        "\n",
        "### 1. **Binomial Distribution**:\n",
        "   - **Mean**: \\( \\mu = np \\)\n",
        "     - Where \\( n \\) is the number of trials and \\( p \\) is the probability of success.\n",
        "   - **Variance**: \\( \\sigma^2 = np(1 - p) \\)\n",
        "     - The variance is determined by both the number of trials and the probability of success.\n",
        "\n",
        "   **Relationship**:\n",
        "   - The mean and variance in the Binomial distribution are related by the formula \\( \\mu = np \\) and \\( \\sigma^2 = np(1 - p) \\). The variance decreases as \\( p \\) approaches 0 or 1, and is maximized when \\( p = 0.5 \\).\n",
        "\n",
        "### 2. **Poisson Distribution**:\n",
        "   - **Mean**: \\( \\mu = \\lambda \\)\n",
        "     - Where \\( \\lambda \\) is the average rate of events (mean of the distribution).\n",
        "   - **Variance**: \\( \\sigma^2 = \\lambda \\)\n",
        "     - The variance is equal to the mean in the Poisson distribution.\n",
        "\n",
        "   **Relationship**:\n",
        "   - In the Poisson distribution, the mean and variance are **equal**. This is a key characteristic of the Poisson distribution: \\( \\mu = \\sigma^2 = \\lambda \\).\n",
        "\n",
        "\n"
      ],
      "metadata": {
        "id": "P3LBo7VFEXGp"
      }
    },
    {
      "cell_type": "markdown",
      "source": [
        "# Q10. In normal distribution with respect to mean position, where does the least frequent data appear?\n",
        "\n",
        "## Least Frequent Data in a Normal Distribution\n",
        "\n",
        "In a **Normal Distribution**, the least frequent data points appear at the **extremes** of the distribution, farthest from the mean.\n",
        "\n",
        "- **Position of Least Frequent Data**:\n",
        "   - The **mean** is the center of the distribution, and the data points that are farthest from the mean (either on the left or right tail) are the least frequent.\n",
        "   - As we move further from the mean, the frequency of data points decreases, with the **least frequent values** occurring at the far left and far right tails of the distribution.\n",
        "\n",
        "### Key points:\n",
        "- In a **Normal Distribution**, the data is symmetrically distributed around the mean.\n",
        "- The **most frequent data points** are near the **mean**.\n",
        "- The **least frequent data points** are near the **tails** (farthest from the mean).\n",
        "\n",
        "In a visual representation of the normal distribution, this corresponds to the points on the far edges of the bell curve.\n"
      ],
      "metadata": {
        "id": "IXCG0DhyEyr_"
      }
    },
    {
      "cell_type": "code",
      "source": [],
      "metadata": {
        "id": "PETLUGr5FAeI"
      },
      "execution_count": null,
      "outputs": []
    }
  ]
}