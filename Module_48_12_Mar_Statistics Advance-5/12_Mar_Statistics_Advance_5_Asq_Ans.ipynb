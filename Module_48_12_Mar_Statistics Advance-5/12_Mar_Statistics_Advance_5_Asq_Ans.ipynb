{
  "nbformat": 4,
  "nbformat_minor": 0,
  "metadata": {
    "colab": {
      "provenance": []
    },
    "kernelspec": {
      "name": "python3",
      "display_name": "Python 3"
    },
    "language_info": {
      "name": "python"
    }
  },
  "cells": [
    {
      "cell_type": "markdown",
      "source": [
        "# Q1. Calculate the 95% confidence interval for a sample of data with a mean of 50 and a standard deviation of 5 using Python. Interpret the results.\n",
        "\n"
      ],
      "metadata": {
        "id": "j9Bd8XfQXtrw"
      }
    },
    {
      "cell_type": "code",
      "source": [
        "import scipy.stats as stats\n",
        "import math\n",
        "\n",
        "# Given data\n",
        "sample_mean = 50\n",
        "sample_std = 5\n",
        "sample_size = 30  # Assuming a sample size of 30\n",
        "confidence_level = 0.95\n",
        "\n",
        "# Calculate the standard error (SE)\n",
        "se = sample_std / math.sqrt(sample_size)\n",
        "\n",
        "# Calculate the critical value (z-value) for 95% confidence\n",
        "z_value = stats.norm.ppf(1 - (1 - confidence_level) / 2)\n",
        "\n",
        "# Calculate the margin of error (ME)\n",
        "margin_of_error = z_value * se\n",
        "\n",
        "# Calculate the confidence interval\n",
        "lower_bound = sample_mean - margin_of_error\n",
        "upper_bound = sample_mean + margin_of_error\n",
        "\n",
        "# Print the confidence interval\n",
        "lower_bound, upper_bound\n"
      ],
      "metadata": {
        "colab": {
          "base_uri": "https://localhost:8080/"
        },
        "id": "1Xtv9zsNX-gx",
        "outputId": "5eedb828-7fd6-4f32-9040-df249c551c6b"
      },
      "execution_count": 1,
      "outputs": [
        {
          "output_type": "execute_result",
          "data": {
            "text/plain": [
              "(48.210805856282846, 51.789194143717154)"
            ]
          },
          "metadata": {},
          "execution_count": 1
        }
      ]
    },
    {
      "cell_type": "markdown",
      "source": [
        "###Interpretation of Results: Running the above Python code gives you the 95% confidence interval for the sample mean. This interval represents the range of values within which we expect the true population mean to lie with 95% confidence.\n",
        "\n",
        "For example, the output is: 48.21 and 51.78\n",
        "\n",
        "We would interpret this result as:\n",
        "We are 95% confident that the true population mean lies between 48.21 and 51.78"
      ],
      "metadata": {
        "id": "2W_UR1AvYDeX"
      }
    },
    {
      "cell_type": "markdown",
      "source": [
        "#Q2. Conduct a chi-square goodness of fit test to determine if the distribution of colors of M&Ms in a bag matches the expected distribution of 20% blue, 20% orange, 20% green, 10% yellow, 10% red, and 20% brown. Use Python to perform the test with a significance level of 0.05."
      ],
      "metadata": {
        "id": "XGmuwNBIYyyq"
      }
    },
    {
      "cell_type": "code",
      "source": [
        "import numpy as np\n",
        "from scipy.stats import chisquare\n",
        "\n",
        "# Given observed frequencies (number of M&Ms in each color category)\n",
        "observed = np.array([18, 22, 20, 10, 9, 21])  # Example observed counts\n",
        "\n",
        "# Expected frequencies based on the given distribution (assuming 100 total M&Ms)\n",
        "expected_percentages = np.array([0.20, 0.20, 0.20, 0.10, 0.10, 0.20])\n",
        "total_mms = sum(observed)\n",
        "expected = expected_percentages * total_mms\n",
        "\n",
        "# Conduct the Chi-square goodness of fit test\n",
        "chi2_stat, p_value = chisquare(observed, expected)\n",
        "\n",
        "# Print the results\n",
        "chi2_stat, p_value\n"
      ],
      "metadata": {
        "colab": {
          "base_uri": "https://localhost:8080/"
        },
        "id": "LzI-B28vY6Ny",
        "outputId": "91abeaa1-bdc8-4597-e559-a53f01211cfa"
      },
      "execution_count": 4,
      "outputs": [
        {
          "output_type": "execute_result",
          "data": {
            "text/plain": [
              "(0.55, 0.9901779302598364)"
            ]
          },
          "metadata": {},
          "execution_count": 4
        }
      ]
    },
    {
      "cell_type": "markdown",
      "source": [
        "## Interpretation of Chi-Square Goodness of Fit Test Results\n",
        "\n",
        "- The **Chi-square statistic** (χ²) measures the difference between the observed frequencies and the expected frequencies. A higher value suggests a greater deviation between the observed and expected data.\n",
        "  \n",
        "- The **p-value** indicates whether the observed differences are statistically significant:\n",
        "  - **If p-value < 0.05**: We reject the null hypothesis, meaning the distribution of M&M colors **does not match** the expected distribution.\n",
        "  - **If p-value ≥ 0.05**: We fail to reject the null hypothesis, meaning the distribution of M&M colors **matches** the expected distribution.\n",
        "\n",
        "## The p-value (0.990) is greater than 0.05.\n",
        "Therefore, we fail to reject the null hypothesis and conclude that there is no significant difference between the observed and expected distributions. This suggests that the M&M colors in the bag match the expected distribution at the 0.05 significance level.\n"
      ],
      "metadata": {
        "id": "TFWE1ztOZm0w"
      }
    },
    {
      "cell_type": "markdown",
      "source": [
        "# Q3. Use Python to calculate the chi-square statistic and p-value for a contingency table with the following data: and Interpret the result of the test\n",
        "\n",
        "|               | **Group A** | **Group B** |\n",
        "|---------------|-------------|-------------|\n",
        "| **Outcome 1** | 20          | 15          |\n",
        "| **Outcome 2** | 10          | 25          |\n",
        "| **Outcome 3** | 15          | 20          |\n"
      ],
      "metadata": {
        "id": "vw6huyv8aFjL"
      }
    },
    {
      "cell_type": "code",
      "source": [
        "import numpy as np\n",
        "from scipy.stats import chi2_contingency\n",
        "\n",
        "# Create the contingency table\n",
        "observed = np.array([[20, 15], [10, 25], [15, 20]])\n",
        "\n",
        "# Conduct the chi-square test for independence\n",
        "chi2_stat, p_value, dof, expected = chi2_contingency(observed)\n",
        "\n",
        "# Print the results\n",
        "chi2_stat, p_value, dof, expected\n"
      ],
      "metadata": {
        "colab": {
          "base_uri": "https://localhost:8080/"
        },
        "id": "2nEuw65JbEEO",
        "outputId": "e3c0ca7b-05d1-47fd-fc64-4793473fcdea"
      },
      "execution_count": 6,
      "outputs": [
        {
          "output_type": "execute_result",
          "data": {
            "text/plain": [
              "(5.833333333333334,\n",
              " 0.05411376622282158,\n",
              " 2,\n",
              " array([[15., 20.],\n",
              "        [15., 20.],\n",
              "        [15., 20.]]))"
            ]
          },
          "metadata": {},
          "execution_count": 6
        }
      ]
    },
    {
      "cell_type": "markdown",
      "source": [
        "\n",
        "### Interpretation:\n",
        "- The **p-value** (0.0541) is just above 0.05, meaning we do not have enough evidence to reject the null hypothesis.\n",
        "- Therefore, we conclude that there is **no significant difference** between the outcomes in Group A and Group B, meaning the distribution of outcomes between the two groups is likely **due to chance** at the 5% significance level."
      ],
      "metadata": {
        "id": "rPIUN7SPcmje"
      }
    },
    {
      "cell_type": "code",
      "source": [],
      "metadata": {
        "id": "SDjyFj6BcnD7"
      },
      "execution_count": null,
      "outputs": []
    },
    {
      "cell_type": "markdown",
      "source": [
        "# Q4. A study of the prevalence of smoking in a population of 500 individuals found that 60 individuals smoked. Use Python to calculate the 95% confidence interval for the true proportion of individuals in the population who smoke."
      ],
      "metadata": {
        "id": "vIecr9XpcslA"
      }
    },
    {
      "cell_type": "code",
      "source": [
        "import math\n",
        "from scipy.stats import norm\n",
        "\n",
        "# Given data\n",
        "n = 500  # Total number of individuals in the population\n",
        "x = 60   # Number of individuals who smoke\n",
        "p_hat = x / n  # Sample proportion\n",
        "\n",
        "# Confidence level\n",
        "confidence_level = 0.95\n",
        "z_value = norm.ppf(1 - (1 - confidence_level) / 2)  # Z-value for 95% confidence\n",
        "\n",
        "# Standard error for the proportion\n",
        "se = math.sqrt((p_hat * (1 - p_hat)) / n)\n",
        "\n",
        "# Margin of error\n",
        "margin_of_error = z_value * se\n",
        "\n",
        "# Confidence interval\n",
        "lower_bound = p_hat - margin_of_error\n",
        "upper_bound = p_hat + margin_of_error\n",
        "\n",
        "# Print the results\n",
        "lower_bound, upper_bound\n"
      ],
      "metadata": {
        "colab": {
          "base_uri": "https://localhost:8080/"
        },
        "id": "xroi8-ktcy41",
        "outputId": "b9b0c173-6fcf-4d99-878d-07b0eb12e917"
      },
      "execution_count": 7,
      "outputs": [
        {
          "output_type": "execute_result",
          "data": {
            "text/plain": [
              "(0.09151638887130707, 0.1484836111286929)"
            ]
          },
          "metadata": {},
          "execution_count": 7
        }
      ]
    },
    {
      "cell_type": "markdown",
      "source": [
        "## Interpretation\n",
        "- We are **95% confident** that the true proportion of individuals who smoke in the population lies between **9.15%** and **14.85%**.\n",
        "- If we were to repeat the study multiple times, **95% of the confidence intervals** calculated from those samples would contain the true proportion of smokers.\n",
        "\n",
        "This interval provides a range of plausible values for the proportion of smokers in the population, based on the sample data.\n"
      ],
      "metadata": {
        "id": "b3EbaeXidGoV"
      }
    },
    {
      "cell_type": "markdown",
      "source": [
        "# Q5. Calculate the 90% confidence interval for a sample of data with a mean of 75 and a standard deviation of 12 using Python. Interpret the results."
      ],
      "metadata": {
        "id": "BGDAMTxSdSGn"
      }
    },
    {
      "cell_type": "code",
      "source": [
        "import scipy.stats as stats\n",
        "import math\n",
        "\n",
        "# Given data\n",
        "sample_mean = 75\n",
        "sample_std = 12\n",
        "sample_size = 30  # Assuming a sample size of 30\n",
        "confidence_level = 0.90\n",
        "\n",
        "# Calculate the standard error (SE)\n",
        "se = sample_std / math.sqrt(sample_size)\n",
        "\n",
        "# Calculate the critical value (z-value) for 90% confidence\n",
        "z_value = stats.norm.ppf(1 - (1 - confidence_level) / 2)\n",
        "\n",
        "# Calculate the margin of error (ME)\n",
        "margin_of_error = z_value * se\n",
        "\n",
        "# Calculate the confidence interval\n",
        "lower_bound = sample_mean - margin_of_error\n",
        "upper_bound = sample_mean + margin_of_error\n",
        "\n",
        "# Print the results\n",
        "lower_bound, upper_bound\n"
      ],
      "metadata": {
        "colab": {
          "base_uri": "https://localhost:8080/"
        },
        "id": "XnF_K0I-dXIN",
        "outputId": "8c5b09cb-e838-4ddf-a248-cff1fd7a79ac"
      },
      "execution_count": 8,
      "outputs": [
        {
          "output_type": "execute_result",
          "data": {
            "text/plain": [
              "(71.39630625889797, 78.60369374110203)"
            ]
          },
          "metadata": {},
          "execution_count": 8
        }
      ]
    },
    {
      "cell_type": "markdown",
      "source": [
        "## Interpretation\n",
        "- We are **90% confident** that the true population mean lies between **71.40** and **78.60**.\n",
        "- If we were to repeat the sampling process many times, **90% of the intervals** we calculate would contain the true population mean.\n",
        "\n",
        "This interval provides a range of plausible values for the population mean based on the sample data, indicating the precision of the estimate at a 90% confidence level.\n"
      ],
      "metadata": {
        "id": "qTTNhzs6dg37"
      }
    },
    {
      "cell_type": "markdown",
      "source": [
        "#Q6. Use Python to plot the chi-square distribution with 10 degrees of freedom. Label the axes and shade the area corresponding to a chi-square statistic of 15."
      ],
      "metadata": {
        "id": "PWujpxb1dvGe"
      }
    },
    {
      "cell_type": "code",
      "source": [
        "import numpy as np\n",
        "import matplotlib.pyplot as plt\n",
        "from scipy.stats import chi2\n",
        "\n",
        "# Parameters\n",
        "df = 10  # Degrees of freedom\n",
        "chi_square_stat = 15  # Value to shade under the curve\n",
        "\n",
        "# Generate x values from 0 to 30\n",
        "x = np.linspace(0, 30, 1000)\n",
        "\n",
        "# Calculate the chi-square distribution values for the given x values\n",
        "y = chi2.pdf(x, df)\n",
        "\n",
        "# Create the plot\n",
        "plt.plot(x, y, label='Chi-square Distribution (df=10)', color='blue')\n",
        "\n",
        "# Shade the area to the right of chi-square statistic value (15)\n",
        "x_fill = np.linspace(chi_square_stat, 30, 1000)\n",
        "y_fill = chi2.pdf(x_fill, df)\n",
        "plt.fill_between(x_fill, y_fill, color='orange', alpha=0.5, label=f'Area for χ² > {chi_square_stat}')\n",
        "\n",
        "# Labeling the plot\n",
        "plt.title('Chi-Square Distribution with 10 Degrees of Freedom')\n",
        "plt.xlabel('Chi-Square Statistic')\n",
        "plt.ylabel('Probability Density')\n",
        "plt.legend()\n",
        "\n",
        "# Show the plot\n",
        "plt.grid(True)\n",
        "plt.show()\n"
      ],
      "metadata": {
        "colab": {
          "base_uri": "https://localhost:8080/",
          "height": 472
        },
        "id": "QzyAU_RId1jY",
        "outputId": "cb2468ee-c563-432c-b24a-73ff2c1593d8"
      },
      "execution_count": 9,
      "outputs": [
        {
          "output_type": "display_data",
          "data": {
            "text/plain": [
              "<Figure size 640x480 with 1 Axes>"
            ],
            "image/png": "[encoded data removed]"
          },
          "metadata": {}
        }
      ]
    },
    {
      "cell_type": "markdown",
      "source": [
        "## Interpretation:\n",
        "The plot shows the chi-square distribution with 10 degrees of freedom.\n",
        "The shaded area corresponds to the region where the chi-square statistic exceeds 15, which represents the probability of obtaining a chi-square value greater than 15 for a given set of observations with 10 degrees of freedom."
      ],
      "metadata": {
        "id": "i0cGbr4neC7t"
      }
    },
    {
      "cell_type": "markdown",
      "source": [
        "# Q7. A random sample of 1000 people was asked if they preferred Coke or Pepsi. Of the sample, 520 preferred Coke. Calculate a 99% confidence interval for the true proportion of people in the population who prefer Coke."
      ],
      "metadata": {
        "id": "mKmOt_E-eF4L"
      }
    },
    {
      "cell_type": "code",
      "source": [
        "import math\n",
        "from scipy.stats import norm\n",
        "\n",
        "# Given data\n",
        "n = 1000  # Sample size\n",
        "x = 520   # Number of people who prefer Coke\n",
        "p_hat = x / n  # Sample proportion\n",
        "\n",
        "# Confidence level\n",
        "confidence_level = 0.99\n",
        "z_value = norm.ppf(1 - (1 - confidence_level) / 2)  # Z-value for 99% confidence\n",
        "\n",
        "# Standard error for the proportion\n",
        "se = math.sqrt((p_hat * (1 - p_hat)) / n)\n",
        "\n",
        "# Margin of error\n",
        "margin_of_error = z_value * se\n",
        "\n",
        "# Confidence interval\n",
        "lower_bound = p_hat - margin_of_error\n",
        "upper_bound = p_hat + margin_of_error\n",
        "\n",
        "# Print the results\n",
        "lower_bound, upper_bound\n"
      ],
      "metadata": {
        "colab": {
          "base_uri": "https://localhost:8080/"
        },
        "id": "3FwoR0HEeL0F",
        "outputId": "a699a600-9551-4473-a314-de87fb8b5fb9"
      },
      "execution_count": 10,
      "outputs": [
        {
          "output_type": "execute_result",
          "data": {
            "text/plain": [
              "(0.4793051576779699, 0.5606948423220302)"
            ]
          },
          "metadata": {},
          "execution_count": 10
        }
      ]
    },
    {
      "cell_type": "markdown",
      "source": [
        "## Interpretation\n",
        "- We are **99% confident** that the true proportion of people who prefer Coke in the population lies between **47.93%** and **56.07%**.\n",
        "- If we were to repeat the survey many times, **99% of the confidence intervals** we calculate would contain the true proportion of Coke preferences.\n",
        "\n",
        "This interval provides a range of plausible values for the proportion of people who prefer Coke, based on the sample data.\n"
      ],
      "metadata": {
        "id": "eHHTvGXKehaE"
      }
    },
    {
      "cell_type": "markdown",
      "source": [
        "# Q8. A researcher hypothesizes that a coin is biased towards tails. They flip the coin 100 times and observe 45 tails. Conduct a chi-square goodness of fit test to determine if the observed frequencies match the expected frequencies of a fair coin. Use a significance level of 0.05."
      ],
      "metadata": {
        "id": "PGubxL8MempQ"
      }
    },
    {
      "cell_type": "code",
      "source": [
        "import scipy.stats as stats\n",
        "\n",
        "# Given data\n",
        "observed = [45, 55]  # Observed counts for tails and heads\n",
        "expected = [50, 50]  # Expected counts for a fair coin (equal probability)\n",
        "\n",
        "# Perform the chi-square goodness of fit test\n",
        "chi_square_stat, p_value = stats.chisquare(f_obs=observed, f_exp=expected)\n",
        "\n",
        "# Print results\n",
        "chi_square_stat, p_value\n"
      ],
      "metadata": {
        "colab": {
          "base_uri": "https://localhost:8080/"
        },
        "id": "TBpDd4xFe_dm",
        "outputId": "8715da12-71fc-4215-c611-776db0c750d4"
      },
      "execution_count": 11,
      "outputs": [
        {
          "output_type": "execute_result",
          "data": {
            "text/plain": [
              "(1.0, 0.31731050786291115)"
            ]
          },
          "metadata": {},
          "execution_count": 11
        }
      ]
    },
    {
      "cell_type": "markdown",
      "source": [
        "## Interpretation of the Chi-Square Goodness of Fit Test\n",
        "\n",
        "- **Chi-square statistic (χ²)**: **1.0**  \n",
        "  This value measures the difference between the observed and expected frequencies.\n",
        "\n",
        "- **p-value**: **0.3173**  \n",
        "  - Since **p-value (0.3173) > 0.05**, we **fail to reject the null hypothesis** at the 5% significance level.\n",
        "  - This means there is **not enough statistical evidence** to suggest that the coin is biased toward tails.\n",
        "\n",
        "### **Conclusion:**\n",
        "The observed frequencies (45 tails, 55 heads) **do not significantly differ** from the expected frequencies of a fair coin (50 tails, 50 heads).  \n",
        "Thus, based on this chi-square test, we **cannot conclude** that the coin is biased toward tails.\n"
      ],
      "metadata": {
        "id": "-q5_D2VjfIPQ"
      }
    },
    {
      "cell_type": "markdown",
      "source": [
        "# Q9. A study was conducted to determine if there is an association between smoking status (smoker or non-smoker) and lung cancer diagnosis (yes or no). The results are shown in the contingency table below.Conduct a chi-square test for independence to determine if there is a significant association between smoking status and lung cancer diagnosis.\n",
        "\n",
        "|                | Lung Cancer: Yes | Lung Cancer: No |\n",
        "|--------------|----------------|----------------|\n",
        "| **Smoker**      | 60             | 140            |\n",
        "| **Non-Smoker**  | 30             | 170            |\n",
        "\n",
        "#### Use Significance Level of 0.05"
      ],
      "metadata": {
        "id": "vP0trj2DfMgV"
      }
    },
    {
      "cell_type": "code",
      "source": [
        "import scipy.stats as stats\n",
        "import numpy as np\n",
        "\n",
        "# Observed contingency table\n",
        "observed = np.array([[60, 140],  # Smoker\n",
        "                     [30, 170]]) # Non-Smoker\n",
        "\n",
        "# Perform the chi-square test for independence\n",
        "chi_square_stat, p_value, dof, expected = stats.chi2_contingency(observed)\n",
        "\n",
        "# Print results\n",
        "chi_square_stat, p_value, dof, expected\n"
      ],
      "metadata": {
        "colab": {
          "base_uri": "https://localhost:8080/"
        },
        "id": "vjpHgvpwfgpk",
        "outputId": "fbe80ed6-505f-4845-9e89-9f9409b4cb36"
      },
      "execution_count": 12,
      "outputs": [
        {
          "output_type": "execute_result",
          "data": {
            "text/plain": [
              "(12.057347670250895,\n",
              " 0.0005158863863703744,\n",
              " 1,\n",
              " array([[ 45., 155.],\n",
              "        [ 45., 155.]]))"
            ]
          },
          "metadata": {},
          "execution_count": 12
        }
      ]
    },
    {
      "cell_type": "markdown",
      "source": [
        "## Interpretation\n",
        "\n",
        "- **Chi-square statistic (χ²)**: **12.06**  \n",
        "  This measures how much the observed values deviate from the expected values if smoking and lung cancer were independent.\n",
        "\n",
        "- **p-value**: **0.00052**  \n",
        "  - Since **p-value (0.00052) < 0.05**, we **reject the null hypothesis** at the 5% significance level.\n",
        "  - This suggests a **statistically significant association** between smoking and lung cancer diagnosis.\n",
        "\n",
        "- **Degrees of freedom (df)**: **1**  \n",
        "  This is determined by the formula \\( (rows - 1) \\times (columns - 1) \\).\n",
        "\n",
        "- **Expected frequencies**:  \n",
        "  [[ 45., 155.],\n",
        "  [ 45., 155.]]\n",
        "\n",
        "  These are the values we would expect if smoking and lung cancer were independent.\n",
        "\n",
        "### **Conclusion:**\n",
        "Since the p-value is very small (**0.00052**), we have **strong evidence** to conclude that **smoking status and lung cancer diagnosis are not independent**. This supports the hypothesis that **smoking is associated with an increased risk of lung cancer**.\n"
      ],
      "metadata": {
        "id": "tQgBnPbngpnY"
      }
    },
    {
      "cell_type": "markdown",
      "source": [
        "# Q10. A study was conducted to determine if the proportion of people who prefer milk chocolate, darkchocolate, or white chocolate is different in the U.S. versus the U.K. A random sample of 500 people fromthe U.S. and a random sample of 500 people from the U.K. were surveyed. The results are shown in the contingency table below. Conduct a chi-square test for independence to determine if there is a significant association between chocolate preference and country of origin.\n",
        "\n",
        "\n",
        "|                | Milk Chocolate | Dark Chocolate | White Chocolate |\n",
        "|--------------|---------------|---------------|---------------|\n",
        "| **U.S. (n=500)** | 200           | 150           | 150           |\n",
        "| **U.K. (n=500)** | 225           | 175           | 100           |\n",
        "\n",
        "#### Use Significance Level 0.01"
      ],
      "metadata": {
        "id": "14EN5JI_hBqY"
      }
    },
    {
      "cell_type": "code",
      "source": [
        "import scipy.stats as stats\n",
        "import numpy as np\n",
        "\n",
        "# Given contingency table data\n",
        "observed = np.array([[200, 150, 150],  # U.S. (Milk, Dark, White Chocolate)\n",
        "                     [225, 175, 100]]) # U.K. (Milk, Dark, White Chocolate)\n",
        "\n",
        "# Perform the chi-square test for independence\n",
        "chi_square_stat, p_value, dof, expected = stats.chi2_contingency(observed)\n",
        "\n",
        "# Print results\n",
        "chi_square_stat, p_value, dof, expected\n"
      ],
      "metadata": {
        "colab": {
          "base_uri": "https://localhost:8080/"
        },
        "id": "tflizS7QjJGr",
        "outputId": "c9bc067e-46f0-4bf2-8800-be84c0389d01"
      },
      "execution_count": 13,
      "outputs": [
        {
          "output_type": "execute_result",
          "data": {
            "text/plain": [
              "(13.393665158371041,\n",
              " 0.0012348168997745918,\n",
              " 2,\n",
              " array([[212.5, 162.5, 125. ],\n",
              "        [212.5, 162.5, 125. ]]))"
            ]
          },
          "metadata": {},
          "execution_count": 13
        }
      ]
    },
    {
      "cell_type": "markdown",
      "source": [
        "## Interpretation\n",
        "\n",
        "- **Chi-square statistic (χ²)**: **13.39**  \n",
        "  This measures how much the observed values deviate from the expected values if chocolate preference and country were independent.\n",
        "\n",
        "- **p-value**: **0.0012**  \n",
        "  - Since **p-value (0.0012) < 0.01**, we **reject the null hypothesis** at the **1% significance level**.\n",
        "  - This suggests a **statistically significant association** between chocolate preference and country.\n",
        "\n",
        "- **Degrees of freedom (df)**: **2**  \n",
        "  - Calculated as \\( (rows - 1) \\times (columns - 1) = (2-1) \\times (3-1) = 2 \\).\n",
        "\n",
        "- **Expected frequencies**:  \n",
        "[[212.5, 162.5, 125. ], [212.5, 162.5, 125. ]]\n",
        "\n",
        "These are the values we would expect if chocolate preference was independent of country.\n",
        "\n",
        "### **Conclusion:**\n",
        "Since the p-value (**0.0012**) is **less than 0.01**, we have **strong evidence** to conclude that **chocolate preference is associated with country of origin**.  \n",
        "This means that people's preference for milk, dark, or white chocolate **differs significantly between the U.S. and the U.K.**.\n",
        "\n",
        "---"
      ],
      "metadata": {
        "id": "QL69AzwUjlXh"
      }
    },
    {
      "cell_type": "markdown",
      "source": [],
      "metadata": {
        "id": "jSZaeA03kIk3"
      }
    },
    {
      "cell_type": "markdown",
      "source": [
        "# Q11. A random sample of 30 people was selected from a population with an unknown mean and standard deviation. The sample mean was found to be 72 and the sample standard deviation was found to be 10. Conduct a hypothesis test to determine if the population mean is significantly different from 70. Use a significance level of 0.05."
      ],
      "metadata": {
        "id": "TQNMyoeakKEj"
      }
    },
    {
      "cell_type": "code",
      "source": [
        "import scipy.stats as stats\n",
        "import numpy as np\n",
        "\n",
        "# Given data\n",
        "sample_mean = 72\n",
        "sample_std = 10\n",
        "n = 30\n",
        "pop_mean = 70\n",
        "alpha = 0.05  # Significance level\n",
        "\n",
        "# Calculate the t-score\n",
        "t_stat = (sample_mean - pop_mean) / (sample_std / np.sqrt(n))\n",
        "\n",
        "# Degrees of freedom\n",
        "df = n - 1\n",
        "\n",
        "# Calculate the two-tailed p-value\n",
        "p_value = 2 * (1 - stats.t.cdf(abs(t_stat), df))\n",
        "\n",
        "# Print results\n",
        "t_stat, p_value\n"
      ],
      "metadata": {
        "colab": {
          "base_uri": "https://localhost:8080/"
        },
        "id": "LNPofXP0kToR",
        "outputId": "c86492d9-c638-499f-a87d-75852b94a135"
      },
      "execution_count": 14,
      "outputs": [
        {
          "output_type": "execute_result",
          "data": {
            "text/plain": [
              "(1.0954451150103321, 0.2823362372860698)"
            ]
          },
          "metadata": {},
          "execution_count": 14
        }
      ]
    },
    {
      "cell_type": "markdown",
      "source": [
        "## Hypothesis Test Summary\n",
        "\n",
        "- **Null Hypothesis (H₀):** The population mean is **equal to** 70 (μ = 70).\n",
        "- **Alternative Hypothesis (H₁):** The population mean is **not equal to** 70 (μ ≠ 70).\n",
        "- **Test Type:** Two-tailed t-test (since population standard deviation is unknown and n < 30).\n",
        "- **t-statistic:** 1.095\n",
        "- **p-value:** 0.2823\n",
        "- **Decision:** Fail to reject H₀ (no significant difference).\n",
        "- **Conclusion:** The data **does not provide strong enough evidence** to conclude that the population mean differs from 70.\n"
      ],
      "metadata": {
        "id": "ijyMGCIhkpbY"
      }
    }
  ]
}