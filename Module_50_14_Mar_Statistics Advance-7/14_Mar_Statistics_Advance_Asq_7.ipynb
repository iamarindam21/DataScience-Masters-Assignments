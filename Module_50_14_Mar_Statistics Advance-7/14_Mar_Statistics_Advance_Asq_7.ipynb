{
  "nbformat": 4,
  "nbformat_minor": 0,
  "metadata": {
    "colab": {
      "provenance": []
    },
    "kernelspec": {
      "name": "python3",
      "display_name": "Python 3"
    },
    "language_info": {
      "name": "python"
    }
  },
  "cells": [
    {
      "cell_type": "markdown",
      "source": [
        "# Q1. Write a Python function that takes in two arrays of data and calculates the F-value for a variance ratio test. The function should return the F-value and the corresponding p-value for the test."
      ],
      "metadata": {
        "id": "S5a4TqH31RVw"
      }
    },
    {
      "cell_type": "code",
      "source": [
        "import numpy as np\n",
        "from scipy import stats\n",
        "\n",
        "def variance_ratio_test(data1, data2):\n",
        "    \"\"\"\n",
        "    Perform a variance ratio test (F-test) to compare the variances of two datasets.\n",
        "\n",
        "    Parameters:\n",
        "    - data1: Array of data points from the first sample.\n",
        "    - data2: Array of data points from the second sample.\n",
        "\n",
        "    Returns:\n",
        "    - F-value: The calculated F-statistic.\n",
        "    - p-value: The corresponding p-value for the test.\n",
        "    \"\"\"\n",
        "    # Calculate the variances of the two samples\n",
        "    var1 = np.var(data1, ddof=1)  # Sample variance for data1\n",
        "    var2 = np.var(data2, ddof=1)  # Sample variance for data2\n",
        "\n",
        "    # Calculate the F-statistic (larger variance / smaller variance)\n",
        "    if var1 > var2:\n",
        "        F_value = var1 / var2\n",
        "    else:\n",
        "        F_value = var2 / var1\n",
        "\n",
        "    # Degrees of freedom\n",
        "    df1 = len(data1) - 1\n",
        "    df2 = len(data2) - 1\n",
        "\n",
        "    # Calculate the p-value from the F-distribution\n",
        "    p_value = 1 - stats.f.cdf(F_value, df1, df2)\n",
        "\n",
        "    return F_value, p_value\n",
        "\n",
        "# Example usage:\n",
        "data1 = np.random.normal(0, 1, 100)  # Sample 1 with mean 0 and standard deviation 1\n",
        "data2 = np.random.normal(0, 2, 100)  # Sample 2 with mean 0 and standard deviation 2\n",
        "\n",
        "F_value, p_value = variance_ratio_test(data1, data2)\n",
        "print(f\"F-value: {F_value:.4f}, p-value: {p_value:.4f}\")\n"
      ],
      "metadata": {
        "colab": {
          "base_uri": "https://localhost:8080/"
        },
        "id": "fm4LOv611Xxl",
        "outputId": "031ce959-88e7-4689-ba62-1dd740d0e19c"
      },
      "execution_count": 1,
      "outputs": [
        {
          "output_type": "stream",
          "name": "stdout",
          "text": [
            "F-value: 3.5957, p-value: 0.0000\n"
          ]
        }
      ]
    },
    {
      "cell_type": "markdown",
      "source": [
        "# Q2. Given a significance level of 0.05 and the degrees of freedom for the numerator and denominator of an F-distribution, write a Python function that returns the critical F-value for a two-tailed test."
      ],
      "metadata": {
        "id": "CCvWpxMn1nXp"
      }
    },
    {
      "cell_type": "code",
      "source": [
        "from scipy import stats\n",
        "\n",
        "def critical_F_value(alpha, df1, df2):\n",
        "    \"\"\"\n",
        "    Calculate the critical F-value for a two-tailed test at a given significance level.\n",
        "\n",
        "    Parameters:\n",
        "    - alpha: Significance level (e.g., 0.05).\n",
        "    - df1: Degrees of freedom for the numerator.\n",
        "    - df2: Degrees of freedom for the denominator.\n",
        "\n",
        "    Returns:\n",
        "    - critical_F: The critical F-value for the given significance level.\n",
        "    \"\"\"\n",
        "    # Calculate the critical F-value for a two-tailed test\n",
        "    # For a two-tailed test, we split the alpha level into two tails, so we divide alpha by 2\n",
        "    critical_F = stats.f.ppf(1 - alpha/2, df1, df2)\n",
        "\n",
        "    return critical_F\n",
        "\n",
        "# Example usage:\n",
        "alpha = 0.05  # Significance level\n",
        "df1 = 5       # Degrees of freedom for the numerator\n",
        "df2 = 10      # Degrees of freedom for the denominator\n",
        "\n",
        "critical_F = critical_F_value(alpha, df1, df2)\n",
        "print(f\"Critical F-value: {critical_F:.4f}\")\n"
      ],
      "metadata": {
        "colab": {
          "base_uri": "https://localhost:8080/"
        },
        "id": "rinyhTl71x-A",
        "outputId": "7d0bf48f-7831-4604-e2bd-29729c228926"
      },
      "execution_count": 2,
      "outputs": [
        {
          "output_type": "stream",
          "name": "stdout",
          "text": [
            "Critical F-value: 4.2361\n"
          ]
        }
      ]
    },
    {
      "cell_type": "markdown",
      "source": [
        "# Q3. Write a Python program that generates random samples from two normal distributions with known variances and uses an F-test to determine if the variances are equal. The program should output the F- value, degrees of freedom, and p-value for the test."
      ],
      "metadata": {
        "id": "gtTgsxWH12cS"
      }
    },
    {
      "cell_type": "code",
      "source": [
        "import numpy as np\n",
        "from scipy import stats\n",
        "\n",
        "def f_test_for_variances(sample1, sample2):\n",
        "    \"\"\"\n",
        "    Perform an F-test to compare the variances of two normal distributions.\n",
        "\n",
        "    Parameters:\n",
        "    - sample1: Array of data points from the first sample.\n",
        "    - sample2: Array of data points from the second sample.\n",
        "\n",
        "    Returns:\n",
        "    - F-value: The calculated F-statistic.\n",
        "    - df1: Degrees of freedom for sample1.\n",
        "    - df2: Degrees of freedom for sample2.\n",
        "    - p-value: The corresponding p-value for the F-test.\n",
        "    \"\"\"\n",
        "    # Calculate sample variances\n",
        "    var1 = np.var(sample1, ddof=1)\n",
        "    var2 = np.var(sample2, ddof=1)\n",
        "\n",
        "    # Calculate the F-statistic (larger variance / smaller variance)\n",
        "    if var1 > var2:\n",
        "        F_value = var1 / var2\n",
        "    else:\n",
        "        F_value = var2 / var1\n",
        "\n",
        "    # Degrees of freedom\n",
        "    df1 = len(sample1) - 1  # Degrees of freedom for sample1\n",
        "    df2 = len(sample2) - 1  # Degrees of freedom for sample2\n",
        "\n",
        "    # Calculate the p-value from the F-distribution\n",
        "    p_value = 1 - stats.f.cdf(F_value, df1, df2)\n",
        "\n",
        "    return F_value, df1, df2, p_value\n",
        "\n",
        "# Generate random samples from two normal distributions\n",
        "np.random.seed(42)\n",
        "sample1 = np.random.normal(loc=0, scale=5, size=100)  # Sample 1 (mean=0, std=5)\n",
        "sample2 = np.random.normal(loc=0, scale=10, size=100)  # Sample 2 (mean=0, std=10)\n",
        "\n",
        "# Perform the F-test for equal variances\n",
        "F_value, df1, df2, p_value = f_test_for_variances(sample1, sample2)\n",
        "\n",
        "# Output the results\n",
        "print(f\"F-value: {F_value:.4f}\")\n",
        "print(f\"Degrees of Freedom (Sample 1): {df1}\")\n",
        "print(f\"Degrees of Freedom (Sample 2): {df2}\")\n",
        "print(f\"P-value: {p_value:.4f}\")\n",
        "\n",
        "# Interpretation\n",
        "if p_value < 0.05:\n",
        "    print(\"Reject the null hypothesis: The variances are significantly different.\")\n",
        "else:\n",
        "    print(\"Fail to reject the null hypothesis: The variances are equal.\")\n"
      ],
      "metadata": {
        "colab": {
          "base_uri": "https://localhost:8080/"
        },
        "id": "13A1kytq2AcG",
        "outputId": "e056543d-92c0-4393-fd5c-85e3e1432415"
      },
      "execution_count": 3,
      "outputs": [
        {
          "output_type": "stream",
          "name": "stdout",
          "text": [
            "F-value: 4.4109\n",
            "Degrees of Freedom (Sample 1): 99\n",
            "Degrees of Freedom (Sample 2): 99\n",
            "P-value: 0.0000\n",
            "Reject the null hypothesis: The variances are significantly different.\n"
          ]
        }
      ]
    },
    {
      "cell_type": "markdown",
      "source": [
        "# Q4.The variances of two populations are known to be 10 and 15. A sample of 12 observations is taken from each population. Conduct an F-test at the 5% significance level to determine if the variances are significantly different.\n",
        "\n",
        "## Step 1: Define the Hypotheses\n",
        "- **Null Hypothesis (\\(H_0\\))**: The variances of the two populations are equal, i.e., \\(\\sigma_1^2 = \\sigma_2^2\\).\n",
        "- **Alternative Hypothesis (\\(H_a\\))**: The variances of the two populations are not equal, i.e., \\(\\sigma_1^2 \\neq \\sigma_2^2\\).\n",
        "\n",
        "## Step 2: Calculate the F-statistic\n",
        "The F-statistic is the ratio of the two variances, where the larger variance is placed in the numerator:\n",
        "\\[\n",
        "F = \\frac{s_1^2}{s_2^2}\n",
        "\\]\n",
        "where:\n",
        "- \\(s_1^2 = 10\\) is the variance of the first population,\n",
        "- \\(s_2^2 = 15\\) is the variance of the second population.\n",
        "\n",
        "Thus, the F-statistic is:\n",
        "\\[\n",
        "F = \\frac{15}{10} = 1.5\n",
        "\\]\n",
        "\n",
        "## Step 3: Degrees of Freedom\n",
        "Since the sample sizes are both 12, the degrees of freedom for each sample are:\n",
        "- \\(df_1 = 12 - 1 = 11\\),\n",
        "- \\(df_2 = 12 - 1 = 11\\).\n",
        "\n",
        "## Step 4: Find the Critical F-values\n",
        "At a 5% significance level (\\(\\alpha = 0.05\\)), for a two-tailed test, we need to find the critical F-values using the degrees of freedom for both samples.\n",
        "\n",
        "## Step 5: Decision Rule\n",
        "- If the calculated F-statistic is less than the lower critical value or greater than the upper critical value, we **reject** the null hypothesis.\n",
        "- If the calculated F-statistic lies within the critical range, we **fail to reject** the null hypothesis.\n"
      ],
      "metadata": {
        "id": "Ds8AzP6q2KOt"
      }
    },
    {
      "cell_type": "markdown",
      "source": [
        "#Q5. A manufacturer claims that the variance of the diameter of a certain product is 0.005. A sample of 25 products is taken, and the sample variance is found to be 0.006. Conduct an F-test at the 1% significance level to determine if the claim is justified.\n",
        "\n",
        "## Step 1: Define the Hypotheses\n",
        "- **Null Hypothesis (\\(H_0\\))**: The variance of the product diameter is 0.005, i.e., \\(\\sigma^2 = 0.005\\).\n",
        "- **Alternative Hypothesis (\\(H_a\\))**: The variance of the product diameter is not 0.005, i.e., \\(\\sigma^2 \\neq 0.005\\).\n",
        "\n",
        "## Step 2: Calculate the F-statistic\n",
        "The F-statistic is calculated as the ratio of the sample variance to the claimed variance:\n",
        "\\[\n",
        "F = \\frac{s^2}{\\sigma^2}\n",
        "\\]\n",
        "where:\n",
        "- \\(s^2 = 0.006\\) is the sample variance,\n",
        "- \\(\\sigma^2 = 0.005\\) is the claimed variance.\n",
        "\n",
        "Thus, the F-statistic is:\n",
        "\\[\n",
        "F = \\frac{0.006}{0.005} = 1.2\n",
        "\\]\n",
        "\n",
        "## Step 3: Degrees of Freedom\n",
        "For this test, the degrees of freedom for the sample variance are calculated as:\n",
        "\\[\n",
        "df = n - 1 = 25 - 1 = 24\n",
        "\\]\n",
        "where \\(n = 25\\) is the sample size.\n",
        "\n",
        "## Step 4: Find the Critical F-values\n",
        "At a 1% significance level (\\(\\alpha = 0.01\\)), for a two-tailed test with \\(df_1 = 24\\) and \\(df_2 = 24\\), we need to find the critical F-values.\n",
        "\n",
        "Since it's a two-tailed test, we divide the significance level by 2, which gives us \\(\\alpha/2 = 0.005\\) for each tail.\n",
        "\n",
        "## Step 5: Decision Rule\n",
        "- If the calculated F-statistic is less than the lower critical value or greater than the upper critical value, we **reject** the null hypothesis.\n",
        "- If the calculated F-statistic lies within the critical range, we **fail to reject** the null hypothesis.\n"
      ],
      "metadata": {
        "id": "zX_dFWOr28rk"
      }
    },
    {
      "cell_type": "markdown",
      "source": [
        "# Q6. Write a Python function that takes in the degrees of freedom for the numerator and denominator of an F-distribution and calculates the mean and variance of the distribution. The function should return the mean and variance as a tuple."
      ],
      "metadata": {
        "id": "VRqhst_Z3fYS"
      }
    },
    {
      "cell_type": "code",
      "source": [
        "def f_distribution_mean_variance(df1, df2):\n",
        "    \"\"\"\n",
        "    Calculate the mean and variance of an F-distribution given the degrees of freedom for the numerator (df1) and the denominator (df2).\n",
        "\n",
        "    Args:\n",
        "    df1 (int): Degrees of freedom for the numerator.\n",
        "    df2 (int): Degrees of freedom for the denominator.\n",
        "\n",
        "    Returns:\n",
        "    tuple: (mean, variance) of the F-distribution.\n",
        "    \"\"\"\n",
        "    if df2 <= 2:\n",
        "        raise ValueError(\"Degrees of freedom for the denominator (df2) must be greater than 2 to calculate the mean.\")\n",
        "\n",
        "    mean = df2 / (df2 - 2)\n",
        "\n",
        "    if df2 <= 4:\n",
        "        raise ValueError(\"Degrees of freedom for the denominator (df2) must be greater than 4 to calculate the variance.\")\n",
        "\n",
        "    variance = (2 * (df2 ** 2) * (df1 + df2 - 2)) / (df1 * (df2 - 2) ** 2 * (df2 - 4))\n",
        "\n",
        "    return mean, variance\n",
        "\n",
        "# Example usage\n",
        "df1 = 5  # Degrees of freedom for the numerator\n",
        "df2 = 10  # Degrees of freedom for the denominator\n",
        "\n",
        "mean, variance = f_distribution_mean_variance(df1, df2)\n",
        "print(f\"Mean: {mean:.4f}\")\n",
        "print(f\"Variance: {variance:.4f}\")\n"
      ],
      "metadata": {
        "colab": {
          "base_uri": "https://localhost:8080/"
        },
        "id": "oClYf6jK3kxq",
        "outputId": "a8ddb0eb-ddb3-4509-f40d-5e1bf3300c6f"
      },
      "execution_count": 6,
      "outputs": [
        {
          "output_type": "stream",
          "name": "stdout",
          "text": [
            "Mean: 1.2500\n",
            "Variance: 1.3542\n"
          ]
        }
      ]
    },
    {
      "cell_type": "markdown",
      "source": [
        "#Q7. A random sample of 10 measurements is taken from a normal population with unknown variance. The sample variance is found to be 25. Another random sample of 15 measurements is taken from another normal population with unknown variance, and the sample variance is found to be 20. Conduct an F-test at the 10% significance level to determine if the variances are significantly different.\n",
        "\n",
        "## Hypotheses\n",
        "- Null Hypothesis (\\(H_0\\)): The variances of the two populations are equal, i.e., \\(\\sigma_1^2 = \\sigma_2^2\\).\n",
        "- Alternative Hypothesis (\\(H_a\\)): The variances of the two populations are not equal, i.e., \\(\\sigma_1^2 \\neq \\sigma_2^2\\).\n",
        "\n",
        "## Step 1: F-statistic Calculation\n",
        "The F-statistic is calculated as the ratio of the two sample variances:\n",
        "\\[\n",
        "F = \\frac{s_1^2}{s_2^2}\n",
        "\\]\n",
        "where:\n",
        "- \\(s_1^2 = 25\\) (variance from the first sample),\n",
        "- \\(s_2^2 = 20\\) (variance from the second sample).\n",
        "\n",
        "Thus, the F-statistic is:\n",
        "\\[\n",
        "F = \\frac{25}{20} = 1.25\n",
        "\\]\n",
        "\n",
        "## Step 2: Degrees of Freedom\n",
        "For each sample, the degrees of freedom are:\n",
        "- \\(df_1 = n_1 - 1 = 10 - 1 = 9\\),\n",
        "- \\(df_2 = n_2 - 1 = 15 - 1 = 14\\).\n",
        "\n",
        "## Step 3: Critical F-values\n",
        "The critical F-values for a two-tailed test at a 10% significance level (\\(\\alpha = 0.10\\)) with degrees of freedom \\(df_1 = 9\\) and \\(df_2 = 14\\) are:\n",
        "- Lower critical value: \\( F_{\\text{low}} = 0.33 \\)\n",
        "- Upper critical value: \\( F_{\\text{high}} = 2.65 \\)\n",
        "\n",
        "## Step 4: Decision Rule\n",
        "If the calculated F-statistic falls outside the range defined by the critical F-values, we reject the null hypothesis. Otherwise, we fail to reject it.\n",
        "\n",
        "## Step 5: Conclusion\n",
        "The calculated F-statistic is:\n",
        "\\[\n",
        "F = 1.25\n",
        "\\]\n",
        "This value lies within the range of \\(0.33 \\leq F \\leq 2.65\\), so we **fail to reject the null hypothesis**.\n",
        "\n",
        "### Final Conclusion:\n",
        "There is not enough evidence at the 10% significance level to conclude that the variances of the two populations are significantly different.\n"
      ],
      "metadata": {
        "id": "K_iQUvZn30Mq"
      }
    },
    {
      "cell_type": "markdown",
      "source": [],
      "metadata": {
        "id": "uBRwXWP55Rzo"
      }
    },
    {
      "cell_type": "markdown",
      "source": [
        "#Q8. The following data represent the waiting times in minutes at two different restaurants on a Saturday night: Restaurant A: 24, 25, 28, 23, 22, 20, 27; Restaurant B: 31, 33, 35, 30, 32, 36. Conduct an F-test at the 5% significance level to determine if the variances are significantly different.\n",
        "\n",
        "## Hypotheses\n",
        "- Null Hypothesis (\\(H_0\\)): The variances of the waiting times at both restaurants are equal, i.e., \\(\\sigma_1^2 = \\sigma_2^2\\).\n",
        "- Alternative Hypothesis (\\(H_a\\)): The variances of the waiting times at both restaurants are not equal, i.e., \\(\\sigma_1^2 \\neq \\sigma_2^2\\).\n",
        "\n",
        "## Step 1: Sample Variances\n",
        "- Sample data for Restaurant A: 24, 25, 28, 23, 22, 20, 27\n",
        "- Sample data for Restaurant B: 31, 33, 35, 30, 32, 36\n",
        "\n",
        "The sample variances are:\n",
        "- Sample variance for Restaurant A: \\(s_A^2 = 7.81\\)\n",
        "- Sample variance for Restaurant B: \\(s_B^2 = 5.37\\)\n",
        "\n",
        "## Step 2: F-statistic Calculation\n",
        "The F-statistic is calculated as:\n",
        "\\[\n",
        "F = \\frac{s_A^2}{s_B^2} = \\frac{7.81}{5.37} = 1.46\n",
        "\\]\n",
        "\n",
        "## Step 3: Degrees of Freedom\n",
        "- Degrees of freedom for Restaurant A: \\(df_1 = 7 - 1 = 6\\)\n",
        "- Degrees of freedom for Restaurant B: \\(df_2 = 6 - 1 = 5\\)\n",
        "\n",
        "## Step 4: Critical F-values\n",
        "At a 5% significance level (\\(\\alpha = 0.05\\)) for a two-tailed test, the critical F-values are:\n",
        "- Lower critical value: \\( F_{\\text{low}} = 0.17 \\)\n",
        "- Upper critical value: \\( F_{\\text{high}} = 6.98 \\)\n",
        "\n",
        "## Step 5: Decision Rule\n",
        "If the calculated F-statistic falls outside the range of \\(F_{\\text{low}}\\) and \\(F_{\\text{high}}\\), we reject the null hypothesis. Otherwise, we fail to reject it.\n",
        "\n",
        "## Step 6: Conclusion\n",
        "The calculated F-statistic is:\n",
        "\\[\n",
        "F = 1.46\n",
        "\\]\n",
        "This value lies within the range of \\(0.17 \\leq F \\leq 6.98\\), so we **fail to reject the null hypothesis**.\n",
        "\n",
        "### Final Conclusion:\n",
        "There is not enough evidence at the 5% significance level to conclude that the variances of the waiting times at Restaurant A and Restaurant B are significantly different.\n"
      ],
      "metadata": {
        "id": "7sgJnazl5g95"
      }
    },
    {
      "cell_type": "markdown",
      "source": [
        "# Q9. The following data represent the test scores of two groups of students: Group A: 80, 85, 90, 92, 87, 83; Group B: 75, 78, 82, 79, 81, 84. Conduct an F-test at the 1% significance level to determine if the variances are significantly different.\n",
        "\n",
        "## Hypotheses\n",
        "- Null Hypothesis (\\(H_0\\)): The variances of the test scores in both groups are equal, i.e., \\(\\sigma_1^2 = \\sigma_2^2\\).\n",
        "- Alternative Hypothesis (\\(H_a\\)): The variances of the test scores in both groups are not equal, i.e., \\(\\sigma_1^2 \\neq \\sigma_2^2\\).\n",
        "\n",
        "## Step 1: Sample Variances\n",
        "- Sample data for Group A: 80, 85, 90, 92, 87, 83\n",
        "- Sample data for Group B: 75, 78, 82, 79, 81, 84\n",
        "\n",
        "The sample variances are:\n",
        "- Sample variance for Group A: \\(s_A^2 = 19.77\\)\n",
        "- Sample variance for Group B: \\(s_B^2 = 10.17\\)\n",
        "\n",
        "## Step 2: F-statistic Calculation\n",
        "The F-statistic is calculated as:\n",
        "\\[\n",
        "F = \\frac{s_A^2}{s_B^2} = \\frac{19.77}{10.17} = 1.94\n",
        "\\]\n",
        "\n",
        "## Step 3: Degrees of Freedom\n",
        "- Degrees of freedom for Group A: \\(df_1 = 6 - 1 = 5\\)\n",
        "- Degrees of freedom for Group B: \\(df_2 = 6 - 1 = 5\\)\n",
        "\n",
        "## Step 4: Critical F-values\n",
        "At a 1% significance level (\\(\\alpha = 0.01\\)) for a two-tailed test, the critical F-values are:\n",
        "- Lower critical value: \\( F_{\\text{low}} = 0.067 \\)\n",
        "- Upper critical value: \\( F_{\\text{high}} = 14.94 \\)\n",
        "\n",
        "## Step 5: Decision Rule\n",
        "If the calculated F-statistic falls outside the range of \\(F_{\\text{low}}\\) and \\(F_{\\text{high}}\\), we reject the null hypothesis. Otherwise, we fail to reject it.\n",
        "\n",
        "## Step 6: Conclusion\n",
        "The calculated F-statistic is:\n",
        "\\[\n",
        "F = 1.94\n",
        "\\]\n",
        "This value lies within the range of \\(0.067 \\leq F \\leq 14.94\\), so we **fail to reject the null hypothesis**.\n",
        "\n",
        "### Final Conclusion:\n",
        "There is not enough evidence at the 1% significance level to conclude that the variances of the test scores in Group A and Group B are significantly different.\n"
      ],
      "metadata": {
        "id": "jBlzWlYM55Um"
      }
    },
    {
      "cell_type": "code",
      "source": [],
      "metadata": {
        "id": "6Ah404rh5-gZ"
      },
      "execution_count": null,
      "outputs": []
    }
  ]
}